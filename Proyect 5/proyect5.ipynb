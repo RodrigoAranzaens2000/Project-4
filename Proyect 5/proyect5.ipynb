{
 "cells": [
  {
   "cell_type": "markdown",
   "metadata": {},
   "source": [
    "¡Hola!\n",
    "\n",
    "Mi nombre es Tonatiuh Cruz. Me complace revisar tu proyecto hoy.\n",
    "\n",
    "Al identificar cualquier error inicialmente, simplemente los destacaré. Te animo a localizar y abordar los problemas de forma independiente como parte de tu preparación para un rol como data-scientist. En un entorno profesional, tu líder de equipo seguiría un enfoque similar. Si encuentras la tarea desafiante, proporcionaré una pista más específica en la próxima iteración.\n",
    "\n",
    "Encontrarás mis comentarios a continuación - **por favor no los muevas, modifiques o elimines**.\n",
    "\n",
    "Puedes encontrar mis comentarios en cajas verdes, amarillas o rojas como esta:\n",
    "\n",
    "<div class=\"alert alert-block alert-success\">\n",
    "<b>Comentario del revisor</b> <a class=\"tocSkip\"></a>\n",
    "\n",
    "Éxito. Todo está hecho correctamente.\n",
    "</div>\n",
    "\n",
    "<div class=\"alert alert-block alert-warning\">\n",
    "<b>Comentario del revisor</b> <a class=\"tocSkip\"></a>\n",
    "\n",
    "Observaciones. Algunas recomendaciones.\n",
    "</div>\n",
    "\n",
    "<div class=\"alert alert-block alert-danger\">\n",
    "<b>Comentario del revisor</b> <a class=\"tocSkip\"></a>\n",
    "\n",
    "Necesita corrección. El bloque requiere algunas correcciones. El trabajo no puede ser aceptado con comentarios en rojo.\n",
    "</div>\n",
    "\n",
    "Puedes responderme utilizando esto:\n",
    "\n",
    "<div class=\"alert alert-block alert-info\">\n",
    "<b>Respuesta del estudiante.</b> <a class=\"tocSkip\"></a>"
   ]
  },
  {
   "cell_type": "markdown",
   "metadata": {
    "id": "3rYiDeEH0q0f"
   },
   "source": [
    "# ¿Cuál es la mejor tarifa?\n",
    "\n",
    "Trabajas como analista para el operador de telecomunicaciones Megaline. La empresa ofrece a sus clientes dos tarifas de prepago, Surf y Ultimate. El departamento comercial quiere saber cuál de las tarifas genera más ingresos para poder ajustar el presupuesto de publicidad.\n",
    "\n",
    "Vas a realizar un análisis preliminar de las tarifas basado en una selección de clientes relativamente pequeña. Tendrás los datos de 500 clientes de Megaline: quiénes son los clientes, de dónde son, qué tarifa usan, así como la cantidad de llamadas que hicieron y los mensajes de texto que enviaron en 2018. Tu trabajo es analizar el comportamiento de los clientes y determinar qué tarifa de prepago genera más ingresos."
   ]
  },
  {
   "cell_type": "markdown",
   "metadata": {
    "id": "VNddPNRQ0q0w"
   },
   "source": [
    "[Te proporcionamos algunos comentarios para orientarte mientras completas este proyecto. Pero debes asegurarte de eliminar todos los comentarios entre corchetes antes de entregar tu proyecto.]\n",
    "\n",
    "[Antes de sumergirte en el análisis de datos, explica por tu propia cuenta el propósito del proyecto y las acciones que planeas realizar.]\n",
    "\n",
    "[Ten en cuenta que estudiar, modificar y analizar datos es un proceso iterativo. Es normal volver a los pasos anteriores y corregirlos/ampliarlos para permitir nuevos pasos.]"
   ]
  },
  {
   "cell_type": "markdown",
   "metadata": {
    "id": "MQi4IPy70q0y"
   },
   "source": [
    "## Inicialización"
   ]
  },
  {
   "cell_type": "code",
   "execution_count": 1,
   "metadata": {
    "id": "MtYIuBxu0q0z"
   },
   "outputs": [
    {
     "ename": "ModuleNotFoundError",
     "evalue": "No module named 'seaborn'",
     "output_type": "error",
     "traceback": [
      "\u001b[1;31m---------------------------------------------------------------------------\u001b[0m",
      "\u001b[1;31mModuleNotFoundError\u001b[0m                       Traceback (most recent call last)",
      "Cell \u001b[1;32mIn[1], line 8\u001b[0m\n\u001b[0;32m      6\u001b[0m \u001b[38;5;28;01mfrom\u001b[39;00m \u001b[38;5;21;01mscipy\u001b[39;00m \u001b[38;5;28;01mimport\u001b[39;00m stats \u001b[38;5;28;01mas\u001b[39;00m st\n\u001b[0;32m      7\u001b[0m \u001b[38;5;28;01mimport\u001b[39;00m \u001b[38;5;21;01mmatplotlib\u001b[39;00m\u001b[38;5;21;01m.\u001b[39;00m\u001b[38;5;21;01mpyplot\u001b[39;00m \u001b[38;5;28;01mas\u001b[39;00m \u001b[38;5;21;01mplt\u001b[39;00m\n\u001b[1;32m----> 8\u001b[0m \u001b[38;5;28;01mimport\u001b[39;00m \u001b[38;5;21;01mseaborn\u001b[39;00m \u001b[38;5;28;01mas\u001b[39;00m \u001b[38;5;21;01msns\u001b[39;00m\n",
      "\u001b[1;31mModuleNotFoundError\u001b[0m: No module named 'seaborn'"
     ]
    }
   ],
   "source": [
    "# Cargar todas las librerías\n",
    "import pandas as pd\n",
    "import math as mt\n",
    "from math import factorial\n",
    "import numpy as np\n",
    "from scipy import stats as st\n",
    "import matplotlib.pyplot as plt\n",
    "import seaborn as sns"
   ]
  },
  {
   "cell_type": "markdown",
   "metadata": {
    "id": "4ysWWC5i0q00"
   },
   "source": [
    "## Cargar datos"
   ]
  },
  {
   "cell_type": "code",
   "execution_count": null,
   "metadata": {
    "id": "CCqPW7rS0q01"
   },
   "outputs": [],
   "source": [
    "# Carga los archivos de datos en diferentes DataFrames\n",
    "calls = pd.read_csv('/datasets/megaline_calls.csv')\n",
    "internet = pd.read_csv('/datasets/megaline_internet.csv')\n",
    "messages = pd.read_csv('/datasets/megaline_messages.csv')\n",
    "plans = pd.read_csv('/datasets/megaline_plans.csv')\n",
    "users = pd.read_csv('/datasets/megaline_users.csv')\n"
   ]
  },
  {
   "cell_type": "markdown",
   "metadata": {},
   "source": [
    "<div class=\"alert alert-block alert-success\">\n",
    "<b>Comentario del revisor:</b> <a class=\"tocSkip\"></a>\n",
    "    \n",
    "Has realizado un excelente trabajo al importar los datos y las bibliotecas necesarias.\n",
    "\n",
    "</div>"
   ]
  },
  {
   "cell_type": "markdown",
   "metadata": {
    "id": "69qqoJ3r0q01"
   },
   "source": [
    "## Preparar los datos"
   ]
  },
  {
   "cell_type": "markdown",
   "metadata": {
    "id": "vUuZw80S0q01"
   },
   "source": [
    "[Los datos para este proyecto se dividen en varias tablas. Explora cada una para tener una comprensión inicial de los datos. Si es necesario, haz las correcciones requeridas en cada tabla.]\n"
   ]
  },
  {
   "cell_type": "code",
   "execution_count": null,
   "metadata": {},
   "outputs": [],
   "source": [
    "def ContadorDuplicates(contador , df):\n",
    "    if contador > 1:\n",
    "        print(f\"El data frame '{df}' tiene {contador} duplicados\")\n",
    "    else:\n",
    "        print(f\"El data frame '{df}' no tiene duplicados\")"
   ]
  },
  {
   "cell_type": "markdown",
   "metadata": {},
   "source": [
    "<div class=\"alert alert-block alert-success\">\n",
    "<b>Comentario del revisor</b> <a class=\"tocSkip\"></a>\n",
    "\n",
    "Muy buen trabajo!! Desarrollaste de manera excelente el análisis de duplicados de casos. \n",
    "    \n",
    "</div>"
   ]
  },
  {
   "cell_type": "markdown",
   "metadata": {
    "id": "ohBhimvH0q01"
   },
   "source": [
    "## Tarifas"
   ]
  },
  {
   "cell_type": "code",
   "execution_count": null,
   "metadata": {
    "id": "GptqP3Q40q02"
   },
   "outputs": [
    {
     "name": "stdout",
     "output_type": "stream",
     "text": [
      "<class 'pandas.core.frame.DataFrame'>\n",
      "RangeIndex: 2 entries, 0 to 1\n",
      "Data columns (total 8 columns):\n",
      " #   Column                 Non-Null Count  Dtype  \n",
      "---  ------                 --------------  -----  \n",
      " 0   messages_included      2 non-null      int64  \n",
      " 1   mb_per_month_included  2 non-null      int64  \n",
      " 2   minutes_included       2 non-null      int64  \n",
      " 3   usd_monthly_pay        2 non-null      int64  \n",
      " 4   usd_per_gb             2 non-null      int64  \n",
      " 5   usd_per_message        2 non-null      float64\n",
      " 6   usd_per_minute         2 non-null      float64\n",
      " 7   plan_name              2 non-null      object \n",
      "dtypes: float64(2), int64(5), object(1)\n",
      "memory usage: 256.0+ bytes\n"
     ]
    }
   ],
   "source": [
    "# Imprime la información general/resumida sobre el DataFrame de las tarifas\n",
    "plans.info()"
   ]
  },
  {
   "cell_type": "code",
   "execution_count": null,
   "metadata": {
    "id": "64xzjwL70q02"
   },
   "outputs": [
    {
     "data": {
      "text/html": [
       "<div>\n",
       "<style scoped>\n",
       "    .dataframe tbody tr th:only-of-type {\n",
       "        vertical-align: middle;\n",
       "    }\n",
       "\n",
       "    .dataframe tbody tr th {\n",
       "        vertical-align: top;\n",
       "    }\n",
       "\n",
       "    .dataframe thead th {\n",
       "        text-align: right;\n",
       "    }\n",
       "</style>\n",
       "<table border=\"1\" class=\"dataframe\">\n",
       "  <thead>\n",
       "    <tr style=\"text-align: right;\">\n",
       "      <th></th>\n",
       "      <th>messages_included</th>\n",
       "      <th>mb_per_month_included</th>\n",
       "      <th>minutes_included</th>\n",
       "      <th>usd_monthly_pay</th>\n",
       "      <th>usd_per_gb</th>\n",
       "      <th>usd_per_message</th>\n",
       "      <th>usd_per_minute</th>\n",
       "      <th>plan_name</th>\n",
       "    </tr>\n",
       "  </thead>\n",
       "  <tbody>\n",
       "    <tr>\n",
       "      <th>0</th>\n",
       "      <td>50</td>\n",
       "      <td>15360</td>\n",
       "      <td>500</td>\n",
       "      <td>20</td>\n",
       "      <td>10</td>\n",
       "      <td>0.03</td>\n",
       "      <td>0.03</td>\n",
       "      <td>surf</td>\n",
       "    </tr>\n",
       "    <tr>\n",
       "      <th>1</th>\n",
       "      <td>1000</td>\n",
       "      <td>30720</td>\n",
       "      <td>3000</td>\n",
       "      <td>70</td>\n",
       "      <td>7</td>\n",
       "      <td>0.01</td>\n",
       "      <td>0.01</td>\n",
       "      <td>ultimate</td>\n",
       "    </tr>\n",
       "  </tbody>\n",
       "</table>\n",
       "</div>"
      ],
      "text/plain": [
       "   messages_included  mb_per_month_included  minutes_included  \\\n",
       "0                 50                  15360               500   \n",
       "1               1000                  30720              3000   \n",
       "\n",
       "   usd_monthly_pay  usd_per_gb  usd_per_message  usd_per_minute plan_name  \n",
       "0               20          10             0.03            0.03      surf  \n",
       "1               70           7             0.01            0.01  ultimate  "
      ]
     },
     "execution_count": 5,
     "metadata": {},
     "output_type": "execute_result"
    }
   ],
   "source": [
    "# Imprime una muestra de los datos para las tarifas\n",
    "plans.head()"
   ]
  },
  {
   "cell_type": "markdown",
   "metadata": {
    "id": "mEc_3_hs0q02"
   },
   "source": [
    "Como podemos ver ejecutando la funcion info() obteniendo los tipos de datos, los valores nulos, y los nombres de las columnas no encuentro que los tipos de datos esten mal asignados, los nombres de las columnas estan correctamente escritos ya que no hay espacios de mas y cumplen con la estructura de snake_case y bueno en este data frame el cual consta de solo 2 filas las cuales son de el plan surf y el plan ultimate no contamos con valores nulos"
   ]
  },
  {
   "cell_type": "markdown",
   "metadata": {
    "id": "R3C05i1l0q03"
   },
   "source": [
    "## Corregir datos"
   ]
  },
  {
   "cell_type": "markdown",
   "metadata": {
    "id": "bIi8StZI0q03"
   },
   "source": [
    "A simple vista en el DataFrame plans no encuentro posibles problemas para corregir ya que como explique anterior mente todo esta bien estructurado"
   ]
  },
  {
   "cell_type": "markdown",
   "metadata": {
    "id": "LJir7bml0q03"
   },
   "source": [
    "## Enriquecer los datos"
   ]
  },
  {
   "cell_type": "markdown",
   "metadata": {
    "id": "eqADpCfg0q04"
   },
   "source": [
    "Este DataFrame lo encuentro perfectamente estructurado por lo que no tendria nada que agregarle y como podemos que ver no cuenta con filas duplicadas. al realizar los siguientes ejercicios el cual pide unir una tabla con la tabla plans al la columna tener por nombre plan_name me complica la union por lo que procedo a cambiarla plan"
   ]
  },
  {
   "cell_type": "code",
   "execution_count": null,
   "metadata": {
    "id": "gfcIEuXV0q04"
   },
   "outputs": [
    {
     "name": "stdout",
     "output_type": "stream",
     "text": [
      "El data frame 'plans' no tiene duplicados\n"
     ]
    }
   ],
   "source": [
    "plans = plans.rename(columns={'plan_name': 'plan'})\n",
    "\n",
    "plans_duplicates = plans.duplicated().sum()\n",
    "\n",
    "ContadorDuplicates(plans_duplicates , \"plans\")"
   ]
  },
  {
   "cell_type": "markdown",
   "metadata": {},
   "source": [
    "\n",
    "<div class=\"alert alert-block alert-warning\">\n",
    "<b>Comentario Revisor</b> <a class=\"tocSkip\"></a>\n",
    "\n",
    "Muy buen trabajo, solamente te sugiero que en este apartado menciones un poco sobre la transformación que se debe realizar de megabytes a gigabytes. \n",
    "</div>"
   ]
  },
  {
   "cell_type": "markdown",
   "metadata": {},
   "source": [
    "<div class=\"alert alert-block alert-info\">\n",
    "<b>Respuesta del estudiante.</b> Mas adelante creo la columna gb_used a la tabla internet ya que sera necesaria para hacer los calculos respectivos para el costo final de el plan<a class=\"tocSkip\"></a>"
   ]
  },
  {
   "cell_type": "markdown",
   "metadata": {},
   "source": [
    "<div class=\"alert alert-block alert-success\">\n",
    "<b>Comentario del revisor</b> <a class=\"tocSkip\"></a>\n",
    "\n",
    "Muy buen trabajo con los ajustes!\n",
    "</div>"
   ]
  },
  {
   "cell_type": "markdown",
   "metadata": {
    "id": "1n2X6WXf0q04"
   },
   "source": [
    "## Usuarios/as"
   ]
  },
  {
   "cell_type": "code",
   "execution_count": null,
   "metadata": {
    "id": "2NgjWFqx0q05"
   },
   "outputs": [
    {
     "name": "stdout",
     "output_type": "stream",
     "text": [
      "<class 'pandas.core.frame.DataFrame'>\n",
      "RangeIndex: 500 entries, 0 to 499\n",
      "Data columns (total 8 columns):\n",
      " #   Column      Non-Null Count  Dtype \n",
      "---  ------      --------------  ----- \n",
      " 0   user_id     500 non-null    int64 \n",
      " 1   first_name  500 non-null    object\n",
      " 2   last_name   500 non-null    object\n",
      " 3   age         500 non-null    int64 \n",
      " 4   city        500 non-null    object\n",
      " 5   reg_date    500 non-null    object\n",
      " 6   plan        500 non-null    object\n",
      " 7   churn_date  34 non-null     object\n",
      "dtypes: int64(2), object(6)\n",
      "memory usage: 31.4+ KB\n"
     ]
    }
   ],
   "source": [
    "# Imprime la información general/resumida sobre el DataFrame de usuarios\n",
    "users.info()"
   ]
  },
  {
   "cell_type": "code",
   "execution_count": null,
   "metadata": {
    "id": "1IN1L9uh0q05"
   },
   "outputs": [
    {
     "data": {
      "text/html": [
       "<div>\n",
       "<style scoped>\n",
       "    .dataframe tbody tr th:only-of-type {\n",
       "        vertical-align: middle;\n",
       "    }\n",
       "\n",
       "    .dataframe tbody tr th {\n",
       "        vertical-align: top;\n",
       "    }\n",
       "\n",
       "    .dataframe thead th {\n",
       "        text-align: right;\n",
       "    }\n",
       "</style>\n",
       "<table border=\"1\" class=\"dataframe\">\n",
       "  <thead>\n",
       "    <tr style=\"text-align: right;\">\n",
       "      <th></th>\n",
       "      <th>user_id</th>\n",
       "      <th>first_name</th>\n",
       "      <th>last_name</th>\n",
       "      <th>age</th>\n",
       "      <th>city</th>\n",
       "      <th>reg_date</th>\n",
       "      <th>plan</th>\n",
       "      <th>churn_date</th>\n",
       "    </tr>\n",
       "  </thead>\n",
       "  <tbody>\n",
       "    <tr>\n",
       "      <th>0</th>\n",
       "      <td>1000</td>\n",
       "      <td>Anamaria</td>\n",
       "      <td>Bauer</td>\n",
       "      <td>45</td>\n",
       "      <td>Atlanta-Sandy Springs-Roswell, GA MSA</td>\n",
       "      <td>2018-12-24</td>\n",
       "      <td>ultimate</td>\n",
       "      <td>NaN</td>\n",
       "    </tr>\n",
       "    <tr>\n",
       "      <th>1</th>\n",
       "      <td>1001</td>\n",
       "      <td>Mickey</td>\n",
       "      <td>Wilkerson</td>\n",
       "      <td>28</td>\n",
       "      <td>Seattle-Tacoma-Bellevue, WA MSA</td>\n",
       "      <td>2018-08-13</td>\n",
       "      <td>surf</td>\n",
       "      <td>NaN</td>\n",
       "    </tr>\n",
       "    <tr>\n",
       "      <th>2</th>\n",
       "      <td>1002</td>\n",
       "      <td>Carlee</td>\n",
       "      <td>Hoffman</td>\n",
       "      <td>36</td>\n",
       "      <td>Las Vegas-Henderson-Paradise, NV MSA</td>\n",
       "      <td>2018-10-21</td>\n",
       "      <td>surf</td>\n",
       "      <td>NaN</td>\n",
       "    </tr>\n",
       "    <tr>\n",
       "      <th>3</th>\n",
       "      <td>1003</td>\n",
       "      <td>Reynaldo</td>\n",
       "      <td>Jenkins</td>\n",
       "      <td>52</td>\n",
       "      <td>Tulsa, OK MSA</td>\n",
       "      <td>2018-01-28</td>\n",
       "      <td>surf</td>\n",
       "      <td>NaN</td>\n",
       "    </tr>\n",
       "    <tr>\n",
       "      <th>4</th>\n",
       "      <td>1004</td>\n",
       "      <td>Leonila</td>\n",
       "      <td>Thompson</td>\n",
       "      <td>40</td>\n",
       "      <td>Seattle-Tacoma-Bellevue, WA MSA</td>\n",
       "      <td>2018-05-23</td>\n",
       "      <td>surf</td>\n",
       "      <td>NaN</td>\n",
       "    </tr>\n",
       "  </tbody>\n",
       "</table>\n",
       "</div>"
      ],
      "text/plain": [
       "   user_id first_name  last_name  age                                   city  \\\n",
       "0     1000   Anamaria      Bauer   45  Atlanta-Sandy Springs-Roswell, GA MSA   \n",
       "1     1001     Mickey  Wilkerson   28        Seattle-Tacoma-Bellevue, WA MSA   \n",
       "2     1002     Carlee    Hoffman   36   Las Vegas-Henderson-Paradise, NV MSA   \n",
       "3     1003   Reynaldo    Jenkins   52                          Tulsa, OK MSA   \n",
       "4     1004    Leonila   Thompson   40        Seattle-Tacoma-Bellevue, WA MSA   \n",
       "\n",
       "     reg_date      plan churn_date  \n",
       "0  2018-12-24  ultimate        NaN  \n",
       "1  2018-08-13      surf        NaN  \n",
       "2  2018-10-21      surf        NaN  \n",
       "3  2018-01-28      surf        NaN  \n",
       "4  2018-05-23      surf        NaN  "
      ]
     },
     "execution_count": 8,
     "metadata": {},
     "output_type": "execute_result"
    }
   ],
   "source": [
    "# Imprime una muestra de datos para usuarios\n",
    "users.head()"
   ]
  },
  {
   "cell_type": "markdown",
   "metadata": {
    "id": "dCZoUq4f0q06"
   },
   "source": [
    "A simple vista veo que los nombres de las columnas estan bien estructurados con el uso de snake_case, los tipos de datos estan bien asignados a excepcion de 2 los cuales explico a continuacion y por ultimo podemos ver que no hay valores nulos a excepcion de la columna churn_date pero esto no llega a ser un problema ya que en la descripcion de las tablas nos dice que la columna churn_date almacena la fecha en la que el usuario dejó de usar el servicio pero si el valor es ausente significa que la tarifa se estaba usando cuando fue extraída esta base de datos."
   ]
  },
  {
   "cell_type": "markdown",
   "metadata": {
    "id": "BX5FQh_I0q06"
   },
   "source": [
    "### Corregir los datos"
   ]
  },
  {
   "cell_type": "markdown",
   "metadata": {
    "id": "8OdKMwJv0q06"
   },
   "source": [
    "El unico problema que llegue a encontrar es que la columna red_date y churn_date como podemos ver almacenaremos fehcas por lo que lo unico que hice fue cambiar el tipo de dato object el cual es como un string a un tipo de dato datetime y como vemos a continuacion el cambio ya esta realizado."
   ]
  },
  {
   "cell_type": "code",
   "execution_count": null,
   "metadata": {
    "id": "yUqX-K0C0q07"
   },
   "outputs": [
    {
     "name": "stdout",
     "output_type": "stream",
     "text": [
      "<class 'pandas.core.frame.DataFrame'>\n",
      "RangeIndex: 500 entries, 0 to 499\n",
      "Data columns (total 8 columns):\n",
      " #   Column      Non-Null Count  Dtype         \n",
      "---  ------      --------------  -----         \n",
      " 0   user_id     500 non-null    int64         \n",
      " 1   first_name  500 non-null    object        \n",
      " 2   last_name   500 non-null    object        \n",
      " 3   age         500 non-null    int64         \n",
      " 4   city        500 non-null    object        \n",
      " 5   reg_date    500 non-null    datetime64[ns]\n",
      " 6   plan        500 non-null    object        \n",
      " 7   churn_date  34 non-null     datetime64[ns]\n",
      "dtypes: datetime64[ns](2), int64(2), object(4)\n",
      "memory usage: 31.4+ KB\n"
     ]
    }
   ],
   "source": [
    "users['reg_date'] = pd.to_datetime(users['reg_date'], format='%Y-%m-%d')\n",
    "users['churn_date'] = pd.to_datetime(users['churn_date'], format='%Y-%m-%d')\n",
    "users.info()"
   ]
  },
  {
   "cell_type": "markdown",
   "metadata": {
    "id": "ycwuARJp0q07"
   },
   "source": [
    "### Enriquecer los datos"
   ]
  },
  {
   "cell_type": "markdown",
   "metadata": {
    "id": "96NIh4CJ0q08"
   },
   "source": [
    "Este DataFrame lo encuentro perfectamente estructurado por lo que no tendria nada que agregarle y como podemos ver que no cuenta con filas duplicadas"
   ]
  },
  {
   "cell_type": "code",
   "execution_count": null,
   "metadata": {
    "id": "iq0AaBS90q08"
   },
   "outputs": [
    {
     "name": "stdout",
     "output_type": "stream",
     "text": [
      "El data frame 'users' no tiene duplicados\n"
     ]
    }
   ],
   "source": [
    "users_duplicates = users.duplicated().sum()\n",
    "\n",
    "ContadorDuplicates(users_duplicates , \"users\")\n"
   ]
  },
  {
   "cell_type": "markdown",
   "metadata": {
    "id": "o7MeKCid0q08"
   },
   "source": [
    "## Llamadas"
   ]
  },
  {
   "cell_type": "code",
   "execution_count": null,
   "metadata": {
    "id": "6dDlnoDm0q08"
   },
   "outputs": [
    {
     "name": "stdout",
     "output_type": "stream",
     "text": [
      "<class 'pandas.core.frame.DataFrame'>\n",
      "RangeIndex: 137735 entries, 0 to 137734\n",
      "Data columns (total 4 columns):\n",
      " #   Column     Non-Null Count   Dtype  \n",
      "---  ------     --------------   -----  \n",
      " 0   id         137735 non-null  object \n",
      " 1   user_id    137735 non-null  int64  \n",
      " 2   call_date  137735 non-null  object \n",
      " 3   duration   137735 non-null  float64\n",
      "dtypes: float64(1), int64(1), object(2)\n",
      "memory usage: 4.2+ MB\n"
     ]
    }
   ],
   "source": [
    "# Imprime la información general/resumida sobre el DataFrame de las llamadas\n",
    "calls.info()"
   ]
  },
  {
   "cell_type": "code",
   "execution_count": null,
   "metadata": {
    "id": "kuh1vlNB0q09"
   },
   "outputs": [
    {
     "data": {
      "text/html": [
       "<div>\n",
       "<style scoped>\n",
       "    .dataframe tbody tr th:only-of-type {\n",
       "        vertical-align: middle;\n",
       "    }\n",
       "\n",
       "    .dataframe tbody tr th {\n",
       "        vertical-align: top;\n",
       "    }\n",
       "\n",
       "    .dataframe thead th {\n",
       "        text-align: right;\n",
       "    }\n",
       "</style>\n",
       "<table border=\"1\" class=\"dataframe\">\n",
       "  <thead>\n",
       "    <tr style=\"text-align: right;\">\n",
       "      <th></th>\n",
       "      <th>id</th>\n",
       "      <th>user_id</th>\n",
       "      <th>call_date</th>\n",
       "      <th>duration</th>\n",
       "    </tr>\n",
       "  </thead>\n",
       "  <tbody>\n",
       "    <tr>\n",
       "      <th>0</th>\n",
       "      <td>1000_93</td>\n",
       "      <td>1000</td>\n",
       "      <td>2018-12-27</td>\n",
       "      <td>8.52</td>\n",
       "    </tr>\n",
       "    <tr>\n",
       "      <th>1</th>\n",
       "      <td>1000_145</td>\n",
       "      <td>1000</td>\n",
       "      <td>2018-12-27</td>\n",
       "      <td>13.66</td>\n",
       "    </tr>\n",
       "    <tr>\n",
       "      <th>2</th>\n",
       "      <td>1000_247</td>\n",
       "      <td>1000</td>\n",
       "      <td>2018-12-27</td>\n",
       "      <td>14.48</td>\n",
       "    </tr>\n",
       "    <tr>\n",
       "      <th>3</th>\n",
       "      <td>1000_309</td>\n",
       "      <td>1000</td>\n",
       "      <td>2018-12-28</td>\n",
       "      <td>5.76</td>\n",
       "    </tr>\n",
       "    <tr>\n",
       "      <th>4</th>\n",
       "      <td>1000_380</td>\n",
       "      <td>1000</td>\n",
       "      <td>2018-12-30</td>\n",
       "      <td>4.22</td>\n",
       "    </tr>\n",
       "  </tbody>\n",
       "</table>\n",
       "</div>"
      ],
      "text/plain": [
       "         id  user_id   call_date  duration\n",
       "0   1000_93     1000  2018-12-27      8.52\n",
       "1  1000_145     1000  2018-12-27     13.66\n",
       "2  1000_247     1000  2018-12-27     14.48\n",
       "3  1000_309     1000  2018-12-28      5.76\n",
       "4  1000_380     1000  2018-12-30      4.22"
      ]
     },
     "execution_count": 12,
     "metadata": {},
     "output_type": "execute_result"
    }
   ],
   "source": [
    "# Imprime una muestra de datos para las llamadas\n",
    "calls.head()"
   ]
  },
  {
   "cell_type": "markdown",
   "metadata": {
    "id": "DOAxYJSx0q09"
   },
   "source": [
    "Podemos observar que el data frame esta bien estruvturado, utiliza snake_case para el nombre de las columnas los tipos de datos estab bien establecidos a excepcion de uno que cambiaria y lo explicare en el siguiente punto, podemos ver que no hay filas duplicadas, la columna user_id imprimiendo la muestra podemos ver el id de usuario repetido varias veces lo que no esta mal ya que significa las diferentes veces en las que un usuario realizo una llamada."
   ]
  },
  {
   "cell_type": "markdown",
   "metadata": {
    "id": "S7hzxmbX0q0-"
   },
   "source": [
    "### Corregir los datos"
   ]
  },
  {
   "cell_type": "markdown",
   "metadata": {
    "id": "YxWyAjD20q0-"
   },
   "source": [
    "En la informacion de el data frame calls podemos observar que la columna call_date la cual almacena las fechas en las que un usuario realizo una llamada vemos que el tipo de dato asignado es object el cual almacena texto pero para una futura manipulacion de esa columna la cambie a tipo datetime. "
   ]
  },
  {
   "cell_type": "code",
   "execution_count": null,
   "metadata": {
    "id": "S2r8xA4f0q0-"
   },
   "outputs": [
    {
     "name": "stdout",
     "output_type": "stream",
     "text": [
      "<class 'pandas.core.frame.DataFrame'>\n",
      "RangeIndex: 137735 entries, 0 to 137734\n",
      "Data columns (total 4 columns):\n",
      " #   Column     Non-Null Count   Dtype         \n",
      "---  ------     --------------   -----         \n",
      " 0   id         137735 non-null  object        \n",
      " 1   user_id    137735 non-null  int64         \n",
      " 2   call_date  137735 non-null  datetime64[ns]\n",
      " 3   duration   137735 non-null  float64       \n",
      "dtypes: datetime64[ns](1), float64(1), int64(1), object(1)\n",
      "memory usage: 4.2+ MB\n"
     ]
    }
   ],
   "source": [
    "calls['call_date']  = pd.to_datetime(calls['call_date'], format='%Y-%m-%d')\n",
    "calls.info()"
   ]
  },
  {
   "cell_type": "markdown",
   "metadata": {
    "id": "KrMgTrlG0q0_"
   },
   "source": [
    "### Enriquecer los datos"
   ]
  },
  {
   "cell_type": "markdown",
   "metadata": {
    "id": "a9MbmEvE0q0_"
   },
   "source": [
    "Este DataFrame lo encuentro perfectamente estructurado por lo que no tendria nada que agregarle y como podemos ver que no cuenta con filas duplicadas."
   ]
  },
  {
   "cell_type": "code",
   "execution_count": null,
   "metadata": {
    "id": "iZ1avpA_0q0_"
   },
   "outputs": [
    {
     "name": "stdout",
     "output_type": "stream",
     "text": [
      "El data frame 'calls' no tiene duplicados\n"
     ]
    }
   ],
   "source": [
    "calls_duplicates = calls.duplicated().sum()\n",
    "\n",
    "ContadorDuplicates(calls_duplicates , \"calls\")"
   ]
  },
  {
   "cell_type": "markdown",
   "metadata": {},
   "source": [
    "<div class=\"alert alert-block alert-warning\">\n",
    "<b>Comentario Revisor</b> <a class=\"tocSkip\"></a>\n",
    "\n",
    "Qué podríamos decir hasta el momento de las llamadas que tienen una duración de 0?\n",
    "</div>"
   ]
  },
  {
   "cell_type": "markdown",
   "metadata": {},
   "source": [
    "<div class=\"alert alert-block alert-info\">\n",
    "<b>Respuesta del estudiante.</b> Las llamadas con duracion 0 ya que la duracion esta almacenada en minutos podria significar una llamada la cual duro segundos pero al no tener 60 segundos esta figura como 0 minutos  <a class=\"tocSkip\"></a>"
   ]
  },
  {
   "cell_type": "markdown",
   "metadata": {},
   "source": [
    "<div class=\"alert alert-block alert-success\">\n",
    "<b>Comentario del revisor</b> <a class=\"tocSkip\"></a>\n",
    "\n",
    "Muy buen trabajo con los ajustes!\n",
    "</div>"
   ]
  },
  {
   "cell_type": "markdown",
   "metadata": {
    "id": "mOUZSi180q0_"
   },
   "source": [
    "## Mensajes"
   ]
  },
  {
   "cell_type": "code",
   "execution_count": null,
   "metadata": {
    "id": "R-bYJpdV0q1A"
   },
   "outputs": [
    {
     "name": "stdout",
     "output_type": "stream",
     "text": [
      "<class 'pandas.core.frame.DataFrame'>\n",
      "RangeIndex: 76051 entries, 0 to 76050\n",
      "Data columns (total 3 columns):\n",
      " #   Column        Non-Null Count  Dtype \n",
      "---  ------        --------------  ----- \n",
      " 0   id            76051 non-null  object\n",
      " 1   user_id       76051 non-null  int64 \n",
      " 2   message_date  76051 non-null  object\n",
      "dtypes: int64(1), object(2)\n",
      "memory usage: 1.7+ MB\n"
     ]
    }
   ],
   "source": [
    "# Imprime la información general/resumida sobre el DataFrame de los mensajes\n",
    "messages.info()"
   ]
  },
  {
   "cell_type": "code",
   "execution_count": null,
   "metadata": {
    "id": "mCEl2iGE0q1A"
   },
   "outputs": [
    {
     "data": {
      "text/html": [
       "<div>\n",
       "<style scoped>\n",
       "    .dataframe tbody tr th:only-of-type {\n",
       "        vertical-align: middle;\n",
       "    }\n",
       "\n",
       "    .dataframe tbody tr th {\n",
       "        vertical-align: top;\n",
       "    }\n",
       "\n",
       "    .dataframe thead th {\n",
       "        text-align: right;\n",
       "    }\n",
       "</style>\n",
       "<table border=\"1\" class=\"dataframe\">\n",
       "  <thead>\n",
       "    <tr style=\"text-align: right;\">\n",
       "      <th></th>\n",
       "      <th>id</th>\n",
       "      <th>user_id</th>\n",
       "      <th>message_date</th>\n",
       "    </tr>\n",
       "  </thead>\n",
       "  <tbody>\n",
       "    <tr>\n",
       "      <th>0</th>\n",
       "      <td>1000_125</td>\n",
       "      <td>1000</td>\n",
       "      <td>2018-12-27</td>\n",
       "    </tr>\n",
       "    <tr>\n",
       "      <th>1</th>\n",
       "      <td>1000_160</td>\n",
       "      <td>1000</td>\n",
       "      <td>2018-12-31</td>\n",
       "    </tr>\n",
       "    <tr>\n",
       "      <th>2</th>\n",
       "      <td>1000_223</td>\n",
       "      <td>1000</td>\n",
       "      <td>2018-12-31</td>\n",
       "    </tr>\n",
       "    <tr>\n",
       "      <th>3</th>\n",
       "      <td>1000_251</td>\n",
       "      <td>1000</td>\n",
       "      <td>2018-12-27</td>\n",
       "    </tr>\n",
       "    <tr>\n",
       "      <th>4</th>\n",
       "      <td>1000_255</td>\n",
       "      <td>1000</td>\n",
       "      <td>2018-12-26</td>\n",
       "    </tr>\n",
       "  </tbody>\n",
       "</table>\n",
       "</div>"
      ],
      "text/plain": [
       "         id  user_id message_date\n",
       "0  1000_125     1000   2018-12-27\n",
       "1  1000_160     1000   2018-12-31\n",
       "2  1000_223     1000   2018-12-31\n",
       "3  1000_251     1000   2018-12-27\n",
       "4  1000_255     1000   2018-12-26"
      ]
     },
     "execution_count": 16,
     "metadata": {},
     "output_type": "execute_result"
    }
   ],
   "source": [
    "# Imprime una muestra de datos para los mensajes\n",
    "messages.head()"
   ]
  },
  {
   "cell_type": "markdown",
   "metadata": {
    "id": "04xDj7KH0q1A"
   },
   "source": [
    "Podemos observar que en el data frame messages la estructura esta bien a simple vista el unico problema encontrado podria ser el tipo de dato de la columna message_date lo cual explico en el siguiente punto pero por lo demas no tenemos valores nulos, los nombres de las categorias cuentan con un buen formato, etc."
   ]
  },
  {
   "cell_type": "markdown",
   "metadata": {
    "id": "Sprfak900q1B"
   },
   "source": [
    "### Corregir los datos"
   ]
  },
  {
   "cell_type": "markdown",
   "metadata": {
    "id": "eGw7d9j10q1B"
   },
   "source": [
    "Al igual con los otros data frames opte por cambiar el tipo de dato de la columna message_date a un tipo de dato datetime por si en un futuro hay alguna manipulacion de esa columna."
   ]
  },
  {
   "cell_type": "code",
   "execution_count": null,
   "metadata": {
    "id": "vsllvkoa0q1B"
   },
   "outputs": [
    {
     "name": "stdout",
     "output_type": "stream",
     "text": [
      "<class 'pandas.core.frame.DataFrame'>\n",
      "RangeIndex: 76051 entries, 0 to 76050\n",
      "Data columns (total 3 columns):\n",
      " #   Column        Non-Null Count  Dtype         \n",
      "---  ------        --------------  -----         \n",
      " 0   id            76051 non-null  object        \n",
      " 1   user_id       76051 non-null  int64         \n",
      " 2   message_date  76051 non-null  datetime64[ns]\n",
      "dtypes: datetime64[ns](1), int64(1), object(1)\n",
      "memory usage: 1.7+ MB\n"
     ]
    }
   ],
   "source": [
    "messages['message_date'] = pd.to_datetime(messages['message_date'] , format = '%Y-%m-%d' )\n",
    "messages.info()"
   ]
  },
  {
   "cell_type": "markdown",
   "metadata": {
    "id": "HvLid7iD0q1B"
   },
   "source": [
    "### Enriquecer los datos"
   ]
  },
  {
   "cell_type": "markdown",
   "metadata": {
    "id": "8nhPFKIe0q1C"
   },
   "source": [
    "Este DataFrame lo encuentro perfectamente estructurado por lo que no tendria nada que agregarle y como podemos ver que no cuenta con filas duplicadas."
   ]
  },
  {
   "cell_type": "code",
   "execution_count": null,
   "metadata": {
    "id": "zYEXZac10q1C"
   },
   "outputs": [
    {
     "name": "stdout",
     "output_type": "stream",
     "text": [
      "El data frame 'messages' no tiene duplicados\n"
     ]
    }
   ],
   "source": [
    "messages_duplicates = messages.duplicated().sum()\n",
    "ContadorDuplicates(messages_duplicates, \"messages\")"
   ]
  },
  {
   "cell_type": "markdown",
   "metadata": {
    "id": "bStkaxn40q1C"
   },
   "source": [
    "## Internet"
   ]
  },
  {
   "cell_type": "code",
   "execution_count": null,
   "metadata": {
    "id": "e-Uz5qyn0q1C"
   },
   "outputs": [
    {
     "name": "stdout",
     "output_type": "stream",
     "text": [
      "<class 'pandas.core.frame.DataFrame'>\n",
      "RangeIndex: 104825 entries, 0 to 104824\n",
      "Data columns (total 4 columns):\n",
      " #   Column        Non-Null Count   Dtype  \n",
      "---  ------        --------------   -----  \n",
      " 0   id            104825 non-null  object \n",
      " 1   user_id       104825 non-null  int64  \n",
      " 2   session_date  104825 non-null  object \n",
      " 3   mb_used       104825 non-null  float64\n",
      "dtypes: float64(1), int64(1), object(2)\n",
      "memory usage: 3.2+ MB\n"
     ]
    }
   ],
   "source": [
    "# Imprime la información general/resumida sobre el DataFrame de internet\n",
    "\n",
    "internet.info()"
   ]
  },
  {
   "cell_type": "code",
   "execution_count": null,
   "metadata": {
    "id": "9r3x_XLw0q1C"
   },
   "outputs": [
    {
     "data": {
      "text/html": [
       "<div>\n",
       "<style scoped>\n",
       "    .dataframe tbody tr th:only-of-type {\n",
       "        vertical-align: middle;\n",
       "    }\n",
       "\n",
       "    .dataframe tbody tr th {\n",
       "        vertical-align: top;\n",
       "    }\n",
       "\n",
       "    .dataframe thead th {\n",
       "        text-align: right;\n",
       "    }\n",
       "</style>\n",
       "<table border=\"1\" class=\"dataframe\">\n",
       "  <thead>\n",
       "    <tr style=\"text-align: right;\">\n",
       "      <th></th>\n",
       "      <th>id</th>\n",
       "      <th>user_id</th>\n",
       "      <th>session_date</th>\n",
       "      <th>mb_used</th>\n",
       "    </tr>\n",
       "  </thead>\n",
       "  <tbody>\n",
       "    <tr>\n",
       "      <th>0</th>\n",
       "      <td>1000_13</td>\n",
       "      <td>1000</td>\n",
       "      <td>2018-12-29</td>\n",
       "      <td>89.86</td>\n",
       "    </tr>\n",
       "    <tr>\n",
       "      <th>1</th>\n",
       "      <td>1000_204</td>\n",
       "      <td>1000</td>\n",
       "      <td>2018-12-31</td>\n",
       "      <td>0.00</td>\n",
       "    </tr>\n",
       "    <tr>\n",
       "      <th>2</th>\n",
       "      <td>1000_379</td>\n",
       "      <td>1000</td>\n",
       "      <td>2018-12-28</td>\n",
       "      <td>660.40</td>\n",
       "    </tr>\n",
       "    <tr>\n",
       "      <th>3</th>\n",
       "      <td>1000_413</td>\n",
       "      <td>1000</td>\n",
       "      <td>2018-12-26</td>\n",
       "      <td>270.99</td>\n",
       "    </tr>\n",
       "    <tr>\n",
       "      <th>4</th>\n",
       "      <td>1000_442</td>\n",
       "      <td>1000</td>\n",
       "      <td>2018-12-27</td>\n",
       "      <td>880.22</td>\n",
       "    </tr>\n",
       "    <tr>\n",
       "      <th>5</th>\n",
       "      <td>1001_0</td>\n",
       "      <td>1001</td>\n",
       "      <td>2018-08-24</td>\n",
       "      <td>284.68</td>\n",
       "    </tr>\n",
       "    <tr>\n",
       "      <th>6</th>\n",
       "      <td>1001_3</td>\n",
       "      <td>1001</td>\n",
       "      <td>2018-12-09</td>\n",
       "      <td>656.04</td>\n",
       "    </tr>\n",
       "    <tr>\n",
       "      <th>7</th>\n",
       "      <td>1001_4</td>\n",
       "      <td>1001</td>\n",
       "      <td>2018-11-04</td>\n",
       "      <td>16.97</td>\n",
       "    </tr>\n",
       "    <tr>\n",
       "      <th>8</th>\n",
       "      <td>1001_10</td>\n",
       "      <td>1001</td>\n",
       "      <td>2018-11-27</td>\n",
       "      <td>135.18</td>\n",
       "    </tr>\n",
       "    <tr>\n",
       "      <th>9</th>\n",
       "      <td>1001_15</td>\n",
       "      <td>1001</td>\n",
       "      <td>2018-12-13</td>\n",
       "      <td>761.92</td>\n",
       "    </tr>\n",
       "  </tbody>\n",
       "</table>\n",
       "</div>"
      ],
      "text/plain": [
       "         id  user_id session_date  mb_used\n",
       "0   1000_13     1000   2018-12-29    89.86\n",
       "1  1000_204     1000   2018-12-31     0.00\n",
       "2  1000_379     1000   2018-12-28   660.40\n",
       "3  1000_413     1000   2018-12-26   270.99\n",
       "4  1000_442     1000   2018-12-27   880.22\n",
       "5    1001_0     1001   2018-08-24   284.68\n",
       "6    1001_3     1001   2018-12-09   656.04\n",
       "7    1001_4     1001   2018-11-04    16.97\n",
       "8   1001_10     1001   2018-11-27   135.18\n",
       "9   1001_15     1001   2018-12-13   761.92"
      ]
     },
     "execution_count": 20,
     "metadata": {},
     "output_type": "execute_result"
    }
   ],
   "source": [
    "# Imprime una muestra de datos para el tráfico de internet\n",
    "internet.head(10)"
   ]
  },
  {
   "cell_type": "markdown",
   "metadata": {
    "id": "EzOG5ik30q1D"
   },
   "source": [
    "Podemos observar que en el data frame internet la estructura esta bien a simple vista el unico problema encontrado podria ser el tipo de dato de la columna session_date lo cual explico en el siguiente punto pero por lo demas no tenemos valores nulos, los nombres de las categorias cuentan con un buen formato, etc."
   ]
  },
  {
   "cell_type": "markdown",
   "metadata": {
    "id": "yA0tkPFg0q1D"
   },
   "source": [
    "### Corregir los datos"
   ]
  },
  {
   "cell_type": "markdown",
   "metadata": {
    "id": "zlZMuIEK0q1D"
   },
   "source": [
    "Al igual con los otros data frames opte por cambiar el tipo de dato de la columna session_date a un tipo de dato datetime por si en un futuro hay alguna manipulacion de esa columna."
   ]
  },
  {
   "cell_type": "code",
   "execution_count": null,
   "metadata": {
    "id": "zVeanzdd0q1E"
   },
   "outputs": [
    {
     "name": "stdout",
     "output_type": "stream",
     "text": [
      "<class 'pandas.core.frame.DataFrame'>\n",
      "RangeIndex: 104825 entries, 0 to 104824\n",
      "Data columns (total 4 columns):\n",
      " #   Column        Non-Null Count   Dtype         \n",
      "---  ------        --------------   -----         \n",
      " 0   id            104825 non-null  object        \n",
      " 1   user_id       104825 non-null  int64         \n",
      " 2   session_date  104825 non-null  datetime64[ns]\n",
      " 3   mb_used       104825 non-null  float64       \n",
      "dtypes: datetime64[ns](1), float64(1), int64(1), object(1)\n",
      "memory usage: 3.2+ MB\n"
     ]
    }
   ],
   "source": [
    "internet['session_date'] = pd.to_datetime(internet['session_date'] , format = '%Y-%m-%d')\n",
    "internet.info()"
   ]
  },
  {
   "cell_type": "markdown",
   "metadata": {
    "id": "e8_mLF4a0q1E"
   },
   "source": [
    "### Enriquecer los datos"
   ]
  },
  {
   "cell_type": "markdown",
   "metadata": {
    "id": "xhNdn2tE0q1E"
   },
   "source": [
    "Posteriormente cuando tengamos que hacer los calculos para la tarifa tendremos que convertir la columna mb_used en gb para asi poder hacer el calculo y utilizaremos esta formula"
   ]
  },
  {
   "cell_type": "code",
   "execution_count": null,
   "metadata": {
    "id": "ESiYPIEK0q1E"
   },
   "outputs": [],
   "source": [
    "#internet ['gb_used'] = np.ceil(internet['mb_used']/1024)"
   ]
  },
  {
   "cell_type": "markdown",
   "metadata": {},
   "source": [
    "<div class=\"alert alert-block alert-warning\">\n",
    "<b>Comentario revisor</b> <a class=\"tocSkip\"></a>\n",
    "\n",
    "\n",
    "Te recomiendo solamente comentar que cuando agrupemos los datos vamos a tener que redondear hacia arriba lo valores de la transformación de mbegabyter a gigabyte, para este ejercicio debemos hacer el redondeo superior dado que se cobra el costo extra en cuanto se pasa de los límites.Por lo que es necesario hacer la transformación de mb a gb y después hacer el redondeo.  \n",
    "</div>"
   ]
  },
  {
   "cell_type": "markdown",
   "metadata": {},
   "source": [
    "<div class=\"alert alert-block alert-info\">\n",
    "<b>Respuesta del estudiante.</b> Ahi ya se puede apreciar la transformacion de la columna mb_used a gb_used utilizando redondeo superior<a class=\"tocSkip\"></a>"
   ]
  },
  {
   "cell_type": "markdown",
   "metadata": {},
   "source": [
    "<div class=\"alert alert-block alert-success\">\n",
    "<b>Comentario del revisor</b> <a class=\"tocSkip\"></a>\n",
    "\n",
    "Muy buen trabajo con los ajustes!\n",
    "</div>"
   ]
  },
  {
   "cell_type": "markdown",
   "metadata": {
    "id": "3UA2cqIW0q1E"
   },
   "source": [
    "## Estudiar las condiciones de las tarifas"
   ]
  },
  {
   "cell_type": "markdown",
   "metadata": {
    "id": "T86Sqltq0q1F"
   },
   "source": [
    "[Es sumamente importante entender cómo funcionan las tarifas, cómo se les cobra a los usuarios en función de su plan de suscripción. Así que te sugerimos imprimir la información de la tarifa para ver una vez más sus condiciones.]"
   ]
  },
  {
   "cell_type": "code",
   "execution_count": null,
   "metadata": {
    "id": "i409op8p0q1F"
   },
   "outputs": [
    {
     "data": {
      "text/html": [
       "<div>\n",
       "<style scoped>\n",
       "    .dataframe tbody tr th:only-of-type {\n",
       "        vertical-align: middle;\n",
       "    }\n",
       "\n",
       "    .dataframe tbody tr th {\n",
       "        vertical-align: top;\n",
       "    }\n",
       "\n",
       "    .dataframe thead th {\n",
       "        text-align: right;\n",
       "    }\n",
       "</style>\n",
       "<table border=\"1\" class=\"dataframe\">\n",
       "  <thead>\n",
       "    <tr style=\"text-align: right;\">\n",
       "      <th></th>\n",
       "      <th>messages_included</th>\n",
       "      <th>mb_per_month_included</th>\n",
       "      <th>minutes_included</th>\n",
       "      <th>usd_monthly_pay</th>\n",
       "      <th>usd_per_gb</th>\n",
       "      <th>usd_per_message</th>\n",
       "      <th>usd_per_minute</th>\n",
       "      <th>plan</th>\n",
       "    </tr>\n",
       "  </thead>\n",
       "  <tbody>\n",
       "    <tr>\n",
       "      <th>0</th>\n",
       "      <td>50</td>\n",
       "      <td>15360</td>\n",
       "      <td>500</td>\n",
       "      <td>20</td>\n",
       "      <td>10</td>\n",
       "      <td>0.03</td>\n",
       "      <td>0.03</td>\n",
       "      <td>surf</td>\n",
       "    </tr>\n",
       "    <tr>\n",
       "      <th>1</th>\n",
       "      <td>1000</td>\n",
       "      <td>30720</td>\n",
       "      <td>3000</td>\n",
       "      <td>70</td>\n",
       "      <td>7</td>\n",
       "      <td>0.01</td>\n",
       "      <td>0.01</td>\n",
       "      <td>ultimate</td>\n",
       "    </tr>\n",
       "  </tbody>\n",
       "</table>\n",
       "</div>"
      ],
      "text/plain": [
       "   messages_included  mb_per_month_included  minutes_included  \\\n",
       "0                 50                  15360               500   \n",
       "1               1000                  30720              3000   \n",
       "\n",
       "   usd_monthly_pay  usd_per_gb  usd_per_message  usd_per_minute      plan  \n",
       "0               20          10             0.03            0.03      surf  \n",
       "1               70           7             0.01            0.01  ultimate  "
      ]
     },
     "execution_count": 23,
     "metadata": {},
     "output_type": "execute_result"
    }
   ],
   "source": [
    "# Imprime las condiciones de la tarifa y asegúrate de que te quedan claras\n",
    "\n",
    "plans.head()"
   ]
  },
  {
   "cell_type": "markdown",
   "metadata": {
    "id": "hMR1tP5d0q1F"
   },
   "source": [
    "## Agregar datos por usuario\n",
    "\n",
    "[Ahora que los datos están limpios, agrega los datos por usuario y por periodo para que solo haya un registro por usuario y por periodo. Esto facilitará mucho el análisis posterior.]"
   ]
  },
  {
   "cell_type": "code",
   "execution_count": null,
   "metadata": {},
   "outputs": [],
   "source": [
    "#Crear la columna month para extraer el mes para los calculos requeridos\n",
    "calls['month'] = calls['call_date'].dt.month\n",
    "messages['month'] = messages['message_date'].dt.month\n",
    "internet['month'] = internet['session_date'].dt.month\n"
   ]
  },
  {
   "cell_type": "code",
   "execution_count": null,
   "metadata": {
    "id": "A332cedB0q1G"
   },
   "outputs": [
    {
     "data": {
      "text/html": [
       "<div>\n",
       "<style scoped>\n",
       "    .dataframe tbody tr th:only-of-type {\n",
       "        vertical-align: middle;\n",
       "    }\n",
       "\n",
       "    .dataframe tbody tr th {\n",
       "        vertical-align: top;\n",
       "    }\n",
       "\n",
       "    .dataframe thead th {\n",
       "        text-align: right;\n",
       "    }\n",
       "</style>\n",
       "<table border=\"1\" class=\"dataframe\">\n",
       "  <thead>\n",
       "    <tr style=\"text-align: right;\">\n",
       "      <th></th>\n",
       "      <th>user_id</th>\n",
       "      <th>month</th>\n",
       "      <th>call_count</th>\n",
       "    </tr>\n",
       "  </thead>\n",
       "  <tbody>\n",
       "    <tr>\n",
       "      <th>0</th>\n",
       "      <td>1000</td>\n",
       "      <td>12</td>\n",
       "      <td>16</td>\n",
       "    </tr>\n",
       "    <tr>\n",
       "      <th>1</th>\n",
       "      <td>1001</td>\n",
       "      <td>8</td>\n",
       "      <td>27</td>\n",
       "    </tr>\n",
       "    <tr>\n",
       "      <th>2</th>\n",
       "      <td>1001</td>\n",
       "      <td>9</td>\n",
       "      <td>49</td>\n",
       "    </tr>\n",
       "    <tr>\n",
       "      <th>3</th>\n",
       "      <td>1001</td>\n",
       "      <td>10</td>\n",
       "      <td>65</td>\n",
       "    </tr>\n",
       "    <tr>\n",
       "      <th>4</th>\n",
       "      <td>1001</td>\n",
       "      <td>11</td>\n",
       "      <td>64</td>\n",
       "    </tr>\n",
       "  </tbody>\n",
       "</table>\n",
       "</div>"
      ],
      "text/plain": [
       "   user_id  month  call_count\n",
       "0     1000     12          16\n",
       "1     1001      8          27\n",
       "2     1001      9          49\n",
       "3     1001     10          65\n",
       "4     1001     11          64"
      ]
     },
     "execution_count": 25,
     "metadata": {},
     "output_type": "execute_result"
    }
   ],
   "source": [
    "# Calcula el número de llamadas hechas por cada usuario al mes. Guarda el resultado.\n",
    "\n",
    "calls_per_month = calls.groupby(['user_id', 'month']).size().reset_index(name='call_count')\n",
    "\n",
    "calls_per_month.head()"
   ]
  },
  {
   "cell_type": "markdown",
   "metadata": {},
   "source": [
    "<div class=\"alert alert-block alert-warning\">\n",
    "\n",
    "<b>Comentario revisor</b> <a class=\"tocSkip\"></a>\n",
    "\n",
    "Si bien es correcta la forma de agrupar para sacar la duración de las llamadas por cada ususario, para proximas ocasiones puedes hacer uso de la siguiente forma:\n",
    "    \n",
    "    pivot_calls = calls.pivot_table(index=['user_id', 'month'],\n",
    "                                values=['duration'],\n",
    "                                aggfunc=['sum','count']).reset_index()\n",
    "\n",
    "</div>"
   ]
  },
  {
   "cell_type": "code",
   "execution_count": null,
   "metadata": {
    "id": "aw2cmuql0q1G"
   },
   "outputs": [
    {
     "data": {
      "text/html": [
       "<div>\n",
       "<style scoped>\n",
       "    .dataframe tbody tr th:only-of-type {\n",
       "        vertical-align: middle;\n",
       "    }\n",
       "\n",
       "    .dataframe tbody tr th {\n",
       "        vertical-align: top;\n",
       "    }\n",
       "\n",
       "    .dataframe thead th {\n",
       "        text-align: right;\n",
       "    }\n",
       "</style>\n",
       "<table border=\"1\" class=\"dataframe\">\n",
       "  <thead>\n",
       "    <tr style=\"text-align: right;\">\n",
       "      <th></th>\n",
       "      <th>user_id</th>\n",
       "      <th>month</th>\n",
       "      <th>total_duration</th>\n",
       "    </tr>\n",
       "  </thead>\n",
       "  <tbody>\n",
       "    <tr>\n",
       "      <th>0</th>\n",
       "      <td>1000</td>\n",
       "      <td>12</td>\n",
       "      <td>116.83</td>\n",
       "    </tr>\n",
       "    <tr>\n",
       "      <th>1</th>\n",
       "      <td>1001</td>\n",
       "      <td>8</td>\n",
       "      <td>171.14</td>\n",
       "    </tr>\n",
       "    <tr>\n",
       "      <th>2</th>\n",
       "      <td>1001</td>\n",
       "      <td>9</td>\n",
       "      <td>297.69</td>\n",
       "    </tr>\n",
       "    <tr>\n",
       "      <th>3</th>\n",
       "      <td>1001</td>\n",
       "      <td>10</td>\n",
       "      <td>374.11</td>\n",
       "    </tr>\n",
       "    <tr>\n",
       "      <th>4</th>\n",
       "      <td>1001</td>\n",
       "      <td>11</td>\n",
       "      <td>404.59</td>\n",
       "    </tr>\n",
       "    <tr>\n",
       "      <th>5</th>\n",
       "      <td>1001</td>\n",
       "      <td>12</td>\n",
       "      <td>392.93</td>\n",
       "    </tr>\n",
       "    <tr>\n",
       "      <th>6</th>\n",
       "      <td>1002</td>\n",
       "      <td>10</td>\n",
       "      <td>54.13</td>\n",
       "    </tr>\n",
       "    <tr>\n",
       "      <th>7</th>\n",
       "      <td>1002</td>\n",
       "      <td>11</td>\n",
       "      <td>359.76</td>\n",
       "    </tr>\n",
       "    <tr>\n",
       "      <th>8</th>\n",
       "      <td>1002</td>\n",
       "      <td>12</td>\n",
       "      <td>363.24</td>\n",
       "    </tr>\n",
       "    <tr>\n",
       "      <th>9</th>\n",
       "      <td>1003</td>\n",
       "      <td>12</td>\n",
       "      <td>1041.00</td>\n",
       "    </tr>\n",
       "  </tbody>\n",
       "</table>\n",
       "</div>"
      ],
      "text/plain": [
       "   user_id  month  total_duration\n",
       "0     1000     12          116.83\n",
       "1     1001      8          171.14\n",
       "2     1001      9          297.69\n",
       "3     1001     10          374.11\n",
       "4     1001     11          404.59\n",
       "5     1001     12          392.93\n",
       "6     1002     10           54.13\n",
       "7     1002     11          359.76\n",
       "8     1002     12          363.24\n",
       "9     1003     12         1041.00"
      ]
     },
     "execution_count": 26,
     "metadata": {},
     "output_type": "execute_result"
    }
   ],
   "source": [
    "# Calcula la cantidad de minutos usados por cada usuario al mes. Guarda el resultado.\n",
    "\n",
    "minutes_per_month = calls.groupby(['user_id' , 'month'])['duration'].sum().reset_index(name='total_duration')\n",
    "\n",
    "minutes_per_month.head(10)"
   ]
  },
  {
   "cell_type": "code",
   "execution_count": null,
   "metadata": {
    "id": "CcQvNHn60q1G"
   },
   "outputs": [
    {
     "data": {
      "text/html": [
       "<div>\n",
       "<style scoped>\n",
       "    .dataframe tbody tr th:only-of-type {\n",
       "        vertical-align: middle;\n",
       "    }\n",
       "\n",
       "    .dataframe tbody tr th {\n",
       "        vertical-align: top;\n",
       "    }\n",
       "\n",
       "    .dataframe thead th {\n",
       "        text-align: right;\n",
       "    }\n",
       "</style>\n",
       "<table border=\"1\" class=\"dataframe\">\n",
       "  <thead>\n",
       "    <tr style=\"text-align: right;\">\n",
       "      <th></th>\n",
       "      <th>user_id</th>\n",
       "      <th>month</th>\n",
       "      <th>Total_messages</th>\n",
       "    </tr>\n",
       "  </thead>\n",
       "  <tbody>\n",
       "    <tr>\n",
       "      <th>0</th>\n",
       "      <td>1000</td>\n",
       "      <td>12</td>\n",
       "      <td>11</td>\n",
       "    </tr>\n",
       "    <tr>\n",
       "      <th>1</th>\n",
       "      <td>1001</td>\n",
       "      <td>8</td>\n",
       "      <td>30</td>\n",
       "    </tr>\n",
       "    <tr>\n",
       "      <th>2</th>\n",
       "      <td>1001</td>\n",
       "      <td>9</td>\n",
       "      <td>44</td>\n",
       "    </tr>\n",
       "    <tr>\n",
       "      <th>3</th>\n",
       "      <td>1001</td>\n",
       "      <td>10</td>\n",
       "      <td>53</td>\n",
       "    </tr>\n",
       "    <tr>\n",
       "      <th>4</th>\n",
       "      <td>1001</td>\n",
       "      <td>11</td>\n",
       "      <td>36</td>\n",
       "    </tr>\n",
       "    <tr>\n",
       "      <th>5</th>\n",
       "      <td>1001</td>\n",
       "      <td>12</td>\n",
       "      <td>44</td>\n",
       "    </tr>\n",
       "    <tr>\n",
       "      <th>6</th>\n",
       "      <td>1002</td>\n",
       "      <td>10</td>\n",
       "      <td>15</td>\n",
       "    </tr>\n",
       "    <tr>\n",
       "      <th>7</th>\n",
       "      <td>1002</td>\n",
       "      <td>11</td>\n",
       "      <td>32</td>\n",
       "    </tr>\n",
       "    <tr>\n",
       "      <th>8</th>\n",
       "      <td>1002</td>\n",
       "      <td>12</td>\n",
       "      <td>41</td>\n",
       "    </tr>\n",
       "    <tr>\n",
       "      <th>9</th>\n",
       "      <td>1003</td>\n",
       "      <td>12</td>\n",
       "      <td>50</td>\n",
       "    </tr>\n",
       "  </tbody>\n",
       "</table>\n",
       "</div>"
      ],
      "text/plain": [
       "   user_id  month  Total_messages\n",
       "0     1000     12              11\n",
       "1     1001      8              30\n",
       "2     1001      9              44\n",
       "3     1001     10              53\n",
       "4     1001     11              36\n",
       "5     1001     12              44\n",
       "6     1002     10              15\n",
       "7     1002     11              32\n",
       "8     1002     12              41\n",
       "9     1003     12              50"
      ]
     },
     "execution_count": 27,
     "metadata": {},
     "output_type": "execute_result"
    }
   ],
   "source": [
    "# Calcula el número de mensajes enviados por cada usuario al mes. Guarda el resultado.\n",
    "\n",
    "messages_per_month = messages.groupby(['user_id', 'month']).size().reset_index(name='Total_messages')\n",
    "\n",
    "messages_per_month.head(10)"
   ]
  },
  {
   "cell_type": "code",
   "execution_count": null,
   "metadata": {
    "id": "H1AqN2eG0q1H"
   },
   "outputs": [
    {
     "data": {
      "text/html": [
       "<div>\n",
       "<style scoped>\n",
       "    .dataframe tbody tr th:only-of-type {\n",
       "        vertical-align: middle;\n",
       "    }\n",
       "\n",
       "    .dataframe tbody tr th {\n",
       "        vertical-align: top;\n",
       "    }\n",
       "\n",
       "    .dataframe thead th {\n",
       "        text-align: right;\n",
       "    }\n",
       "</style>\n",
       "<table border=\"1\" class=\"dataframe\">\n",
       "  <thead>\n",
       "    <tr style=\"text-align: right;\">\n",
       "      <th></th>\n",
       "      <th>user_id</th>\n",
       "      <th>month</th>\n",
       "      <th>Traffic_volume</th>\n",
       "    </tr>\n",
       "  </thead>\n",
       "  <tbody>\n",
       "    <tr>\n",
       "      <th>0</th>\n",
       "      <td>1000</td>\n",
       "      <td>12</td>\n",
       "      <td>1901.47</td>\n",
       "    </tr>\n",
       "    <tr>\n",
       "      <th>1</th>\n",
       "      <td>1001</td>\n",
       "      <td>8</td>\n",
       "      <td>6919.15</td>\n",
       "    </tr>\n",
       "    <tr>\n",
       "      <th>2</th>\n",
       "      <td>1001</td>\n",
       "      <td>9</td>\n",
       "      <td>13314.82</td>\n",
       "    </tr>\n",
       "    <tr>\n",
       "      <th>3</th>\n",
       "      <td>1001</td>\n",
       "      <td>10</td>\n",
       "      <td>22330.49</td>\n",
       "    </tr>\n",
       "    <tr>\n",
       "      <th>4</th>\n",
       "      <td>1001</td>\n",
       "      <td>11</td>\n",
       "      <td>18504.30</td>\n",
       "    </tr>\n",
       "    <tr>\n",
       "      <th>5</th>\n",
       "      <td>1001</td>\n",
       "      <td>12</td>\n",
       "      <td>19369.18</td>\n",
       "    </tr>\n",
       "    <tr>\n",
       "      <th>6</th>\n",
       "      <td>1002</td>\n",
       "      <td>10</td>\n",
       "      <td>6552.01</td>\n",
       "    </tr>\n",
       "    <tr>\n",
       "      <th>7</th>\n",
       "      <td>1002</td>\n",
       "      <td>11</td>\n",
       "      <td>19345.08</td>\n",
       "    </tr>\n",
       "    <tr>\n",
       "      <th>8</th>\n",
       "      <td>1002</td>\n",
       "      <td>12</td>\n",
       "      <td>14396.24</td>\n",
       "    </tr>\n",
       "    <tr>\n",
       "      <th>9</th>\n",
       "      <td>1003</td>\n",
       "      <td>12</td>\n",
       "      <td>27044.14</td>\n",
       "    </tr>\n",
       "    <tr>\n",
       "      <th>10</th>\n",
       "      <td>1004</td>\n",
       "      <td>5</td>\n",
       "      <td>6547.21</td>\n",
       "    </tr>\n",
       "    <tr>\n",
       "      <th>11</th>\n",
       "      <td>1004</td>\n",
       "      <td>6</td>\n",
       "      <td>20672.82</td>\n",
       "    </tr>\n",
       "    <tr>\n",
       "      <th>12</th>\n",
       "      <td>1004</td>\n",
       "      <td>7</td>\n",
       "      <td>24516.62</td>\n",
       "    </tr>\n",
       "    <tr>\n",
       "      <th>13</th>\n",
       "      <td>1004</td>\n",
       "      <td>8</td>\n",
       "      <td>27981.74</td>\n",
       "    </tr>\n",
       "    <tr>\n",
       "      <th>14</th>\n",
       "      <td>1004</td>\n",
       "      <td>9</td>\n",
       "      <td>18852.72</td>\n",
       "    </tr>\n",
       "  </tbody>\n",
       "</table>\n",
       "</div>"
      ],
      "text/plain": [
       "    user_id  month  Traffic_volume\n",
       "0      1000     12         1901.47\n",
       "1      1001      8         6919.15\n",
       "2      1001      9        13314.82\n",
       "3      1001     10        22330.49\n",
       "4      1001     11        18504.30\n",
       "5      1001     12        19369.18\n",
       "6      1002     10         6552.01\n",
       "7      1002     11        19345.08\n",
       "8      1002     12        14396.24\n",
       "9      1003     12        27044.14\n",
       "10     1004      5         6547.21\n",
       "11     1004      6        20672.82\n",
       "12     1004      7        24516.62\n",
       "13     1004      8        27981.74\n",
       "14     1004      9        18852.72"
      ]
     },
     "execution_count": 28,
     "metadata": {},
     "output_type": "execute_result"
    }
   ],
   "source": [
    "# Calcula el volumen del tráfico de Internet usado por cada usuario al mes. Guarda el resultado.\n",
    "\n",
    "internet_per_month = internet.groupby(['user_id' , 'month'])['mb_used'].sum().reset_index(name = 'Traffic_volume')\n",
    "internet_per_month.head(15)"
   ]
  },
  {
   "cell_type": "markdown",
   "metadata": {
    "id": "VDfYXnj80q1H"
   },
   "source": [
    "[Junta los datos agregados en un DataFrame para que haya un registro que represente lo que consumió un usuario único en un mes determinado.]"
   ]
  },
  {
   "cell_type": "code",
   "execution_count": null,
   "metadata": {
    "id": "FW99ykyf0q1H"
   },
   "outputs": [
    {
     "data": {
      "text/html": [
       "<div>\n",
       "<style scoped>\n",
       "    .dataframe tbody tr th:only-of-type {\n",
       "        vertical-align: middle;\n",
       "    }\n",
       "\n",
       "    .dataframe tbody tr th {\n",
       "        vertical-align: top;\n",
       "    }\n",
       "\n",
       "    .dataframe thead th {\n",
       "        text-align: right;\n",
       "    }\n",
       "</style>\n",
       "<table border=\"1\" class=\"dataframe\">\n",
       "  <thead>\n",
       "    <tr style=\"text-align: right;\">\n",
       "      <th></th>\n",
       "      <th>user_id</th>\n",
       "      <th>month</th>\n",
       "      <th>call_count</th>\n",
       "      <th>total_duration</th>\n",
       "      <th>Total_messages</th>\n",
       "      <th>Traffic_volume</th>\n",
       "    </tr>\n",
       "  </thead>\n",
       "  <tbody>\n",
       "    <tr>\n",
       "      <th>0</th>\n",
       "      <td>1000</td>\n",
       "      <td>12</td>\n",
       "      <td>16</td>\n",
       "      <td>116.83</td>\n",
       "      <td>11.0</td>\n",
       "      <td>1901.47</td>\n",
       "    </tr>\n",
       "    <tr>\n",
       "      <th>1</th>\n",
       "      <td>1001</td>\n",
       "      <td>8</td>\n",
       "      <td>27</td>\n",
       "      <td>171.14</td>\n",
       "      <td>30.0</td>\n",
       "      <td>6919.15</td>\n",
       "    </tr>\n",
       "    <tr>\n",
       "      <th>2</th>\n",
       "      <td>1001</td>\n",
       "      <td>9</td>\n",
       "      <td>49</td>\n",
       "      <td>297.69</td>\n",
       "      <td>44.0</td>\n",
       "      <td>13314.82</td>\n",
       "    </tr>\n",
       "    <tr>\n",
       "      <th>3</th>\n",
       "      <td>1001</td>\n",
       "      <td>10</td>\n",
       "      <td>65</td>\n",
       "      <td>374.11</td>\n",
       "      <td>53.0</td>\n",
       "      <td>22330.49</td>\n",
       "    </tr>\n",
       "    <tr>\n",
       "      <th>4</th>\n",
       "      <td>1001</td>\n",
       "      <td>11</td>\n",
       "      <td>64</td>\n",
       "      <td>404.59</td>\n",
       "      <td>36.0</td>\n",
       "      <td>18504.30</td>\n",
       "    </tr>\n",
       "    <tr>\n",
       "      <th>5</th>\n",
       "      <td>1001</td>\n",
       "      <td>12</td>\n",
       "      <td>56</td>\n",
       "      <td>392.93</td>\n",
       "      <td>44.0</td>\n",
       "      <td>19369.18</td>\n",
       "    </tr>\n",
       "    <tr>\n",
       "      <th>6</th>\n",
       "      <td>1002</td>\n",
       "      <td>10</td>\n",
       "      <td>11</td>\n",
       "      <td>54.13</td>\n",
       "      <td>15.0</td>\n",
       "      <td>6552.01</td>\n",
       "    </tr>\n",
       "    <tr>\n",
       "      <th>7</th>\n",
       "      <td>1002</td>\n",
       "      <td>11</td>\n",
       "      <td>55</td>\n",
       "      <td>359.76</td>\n",
       "      <td>32.0</td>\n",
       "      <td>19345.08</td>\n",
       "    </tr>\n",
       "    <tr>\n",
       "      <th>8</th>\n",
       "      <td>1002</td>\n",
       "      <td>12</td>\n",
       "      <td>47</td>\n",
       "      <td>363.24</td>\n",
       "      <td>41.0</td>\n",
       "      <td>14396.24</td>\n",
       "    </tr>\n",
       "    <tr>\n",
       "      <th>9</th>\n",
       "      <td>1003</td>\n",
       "      <td>12</td>\n",
       "      <td>149</td>\n",
       "      <td>1041.00</td>\n",
       "      <td>50.0</td>\n",
       "      <td>27044.14</td>\n",
       "    </tr>\n",
       "  </tbody>\n",
       "</table>\n",
       "</div>"
      ],
      "text/plain": [
       "   user_id  month  call_count  total_duration  Total_messages  Traffic_volume\n",
       "0     1000     12          16          116.83            11.0         1901.47\n",
       "1     1001      8          27          171.14            30.0         6919.15\n",
       "2     1001      9          49          297.69            44.0        13314.82\n",
       "3     1001     10          65          374.11            53.0        22330.49\n",
       "4     1001     11          64          404.59            36.0        18504.30\n",
       "5     1001     12          56          392.93            44.0        19369.18\n",
       "6     1002     10          11           54.13            15.0         6552.01\n",
       "7     1002     11          55          359.76            32.0        19345.08\n",
       "8     1002     12          47          363.24            41.0        14396.24\n",
       "9     1003     12         149         1041.00            50.0        27044.14"
      ]
     },
     "execution_count": 29,
     "metadata": {},
     "output_type": "execute_result"
    }
   ],
   "source": [
    "# Fusiona los datos de llamadas, minutos, mensajes e Internet con base en user_id y month\n",
    "merged_data = pd.merge(calls_per_month, minutes_per_month, on=['user_id', 'month'], how='left')\n",
    "merged_data = pd.merge(merged_data, messages_per_month, on=['user_id', 'month'], how='left')\n",
    "merged_data = pd.merge(merged_data, internet_per_month, on=['user_id', 'month'], how='left')\n",
    "\n",
    "merged_data.head(10)"
   ]
  },
  {
   "cell_type": "code",
   "execution_count": null,
   "metadata": {
    "id": "0dNOXHag0q1H"
   },
   "outputs": [
    {
     "data": {
      "text/html": [
       "<div>\n",
       "<style scoped>\n",
       "    .dataframe tbody tr th:only-of-type {\n",
       "        vertical-align: middle;\n",
       "    }\n",
       "\n",
       "    .dataframe tbody tr th {\n",
       "        vertical-align: top;\n",
       "    }\n",
       "\n",
       "    .dataframe thead th {\n",
       "        text-align: right;\n",
       "    }\n",
       "</style>\n",
       "<table border=\"1\" class=\"dataframe\">\n",
       "  <thead>\n",
       "    <tr style=\"text-align: right;\">\n",
       "      <th></th>\n",
       "      <th>user_id</th>\n",
       "      <th>month</th>\n",
       "      <th>call_count</th>\n",
       "      <th>total_duration</th>\n",
       "      <th>Total_messages</th>\n",
       "      <th>Traffic_volume</th>\n",
       "      <th>plan</th>\n",
       "      <th>messages_included</th>\n",
       "      <th>mb_per_month_included</th>\n",
       "      <th>minutes_included</th>\n",
       "      <th>usd_monthly_pay</th>\n",
       "      <th>usd_per_gb</th>\n",
       "      <th>usd_per_message</th>\n",
       "      <th>usd_per_minute</th>\n",
       "    </tr>\n",
       "  </thead>\n",
       "  <tbody>\n",
       "    <tr>\n",
       "      <th>0</th>\n",
       "      <td>1000</td>\n",
       "      <td>12</td>\n",
       "      <td>16</td>\n",
       "      <td>116.83</td>\n",
       "      <td>11.0</td>\n",
       "      <td>1901.47</td>\n",
       "      <td>ultimate</td>\n",
       "      <td>1000</td>\n",
       "      <td>30720</td>\n",
       "      <td>3000</td>\n",
       "      <td>70</td>\n",
       "      <td>7</td>\n",
       "      <td>0.01</td>\n",
       "      <td>0.01</td>\n",
       "    </tr>\n",
       "    <tr>\n",
       "      <th>1</th>\n",
       "      <td>1001</td>\n",
       "      <td>8</td>\n",
       "      <td>27</td>\n",
       "      <td>171.14</td>\n",
       "      <td>30.0</td>\n",
       "      <td>6919.15</td>\n",
       "      <td>surf</td>\n",
       "      <td>50</td>\n",
       "      <td>15360</td>\n",
       "      <td>500</td>\n",
       "      <td>20</td>\n",
       "      <td>10</td>\n",
       "      <td>0.03</td>\n",
       "      <td>0.03</td>\n",
       "    </tr>\n",
       "    <tr>\n",
       "      <th>2</th>\n",
       "      <td>1001</td>\n",
       "      <td>9</td>\n",
       "      <td>49</td>\n",
       "      <td>297.69</td>\n",
       "      <td>44.0</td>\n",
       "      <td>13314.82</td>\n",
       "      <td>surf</td>\n",
       "      <td>50</td>\n",
       "      <td>15360</td>\n",
       "      <td>500</td>\n",
       "      <td>20</td>\n",
       "      <td>10</td>\n",
       "      <td>0.03</td>\n",
       "      <td>0.03</td>\n",
       "    </tr>\n",
       "    <tr>\n",
       "      <th>3</th>\n",
       "      <td>1001</td>\n",
       "      <td>10</td>\n",
       "      <td>65</td>\n",
       "      <td>374.11</td>\n",
       "      <td>53.0</td>\n",
       "      <td>22330.49</td>\n",
       "      <td>surf</td>\n",
       "      <td>50</td>\n",
       "      <td>15360</td>\n",
       "      <td>500</td>\n",
       "      <td>20</td>\n",
       "      <td>10</td>\n",
       "      <td>0.03</td>\n",
       "      <td>0.03</td>\n",
       "    </tr>\n",
       "    <tr>\n",
       "      <th>4</th>\n",
       "      <td>1001</td>\n",
       "      <td>11</td>\n",
       "      <td>64</td>\n",
       "      <td>404.59</td>\n",
       "      <td>36.0</td>\n",
       "      <td>18504.30</td>\n",
       "      <td>surf</td>\n",
       "      <td>50</td>\n",
       "      <td>15360</td>\n",
       "      <td>500</td>\n",
       "      <td>20</td>\n",
       "      <td>10</td>\n",
       "      <td>0.03</td>\n",
       "      <td>0.03</td>\n",
       "    </tr>\n",
       "    <tr>\n",
       "      <th>...</th>\n",
       "      <td>...</td>\n",
       "      <td>...</td>\n",
       "      <td>...</td>\n",
       "      <td>...</td>\n",
       "      <td>...</td>\n",
       "      <td>...</td>\n",
       "      <td>...</td>\n",
       "      <td>...</td>\n",
       "      <td>...</td>\n",
       "      <td>...</td>\n",
       "      <td>...</td>\n",
       "      <td>...</td>\n",
       "      <td>...</td>\n",
       "      <td>...</td>\n",
       "    </tr>\n",
       "    <tr>\n",
       "      <th>1095</th>\n",
       "      <td>1239</td>\n",
       "      <td>11</td>\n",
       "      <td>80</td>\n",
       "      <td>550.20</td>\n",
       "      <td>NaN</td>\n",
       "      <td>13955.03</td>\n",
       "      <td>surf</td>\n",
       "      <td>50</td>\n",
       "      <td>15360</td>\n",
       "      <td>500</td>\n",
       "      <td>20</td>\n",
       "      <td>10</td>\n",
       "      <td>0.03</td>\n",
       "      <td>0.03</td>\n",
       "    </tr>\n",
       "    <tr>\n",
       "      <th>1096</th>\n",
       "      <td>1239</td>\n",
       "      <td>12</td>\n",
       "      <td>82</td>\n",
       "      <td>613.49</td>\n",
       "      <td>NaN</td>\n",
       "      <td>17206.28</td>\n",
       "      <td>surf</td>\n",
       "      <td>50</td>\n",
       "      <td>15360</td>\n",
       "      <td>500</td>\n",
       "      <td>20</td>\n",
       "      <td>10</td>\n",
       "      <td>0.03</td>\n",
       "      <td>0.03</td>\n",
       "    </tr>\n",
       "    <tr>\n",
       "      <th>1097</th>\n",
       "      <td>1240</td>\n",
       "      <td>6</td>\n",
       "      <td>36</td>\n",
       "      <td>169.94</td>\n",
       "      <td>3.0</td>\n",
       "      <td>8454.95</td>\n",
       "      <td>surf</td>\n",
       "      <td>50</td>\n",
       "      <td>15360</td>\n",
       "      <td>500</td>\n",
       "      <td>20</td>\n",
       "      <td>10</td>\n",
       "      <td>0.03</td>\n",
       "      <td>0.03</td>\n",
       "    </tr>\n",
       "    <tr>\n",
       "      <th>1098</th>\n",
       "      <td>1240</td>\n",
       "      <td>7</td>\n",
       "      <td>164</td>\n",
       "      <td>1112.88</td>\n",
       "      <td>9.0</td>\n",
       "      <td>34750.43</td>\n",
       "      <td>surf</td>\n",
       "      <td>50</td>\n",
       "      <td>15360</td>\n",
       "      <td>500</td>\n",
       "      <td>20</td>\n",
       "      <td>10</td>\n",
       "      <td>0.03</td>\n",
       "      <td>0.03</td>\n",
       "    </tr>\n",
       "    <tr>\n",
       "      <th>1099</th>\n",
       "      <td>1240</td>\n",
       "      <td>8</td>\n",
       "      <td>161</td>\n",
       "      <td>1038.88</td>\n",
       "      <td>15.0</td>\n",
       "      <td>49950.58</td>\n",
       "      <td>surf</td>\n",
       "      <td>50</td>\n",
       "      <td>15360</td>\n",
       "      <td>500</td>\n",
       "      <td>20</td>\n",
       "      <td>10</td>\n",
       "      <td>0.03</td>\n",
       "      <td>0.03</td>\n",
       "    </tr>\n",
       "  </tbody>\n",
       "</table>\n",
       "<p>1100 rows × 14 columns</p>\n",
       "</div>"
      ],
      "text/plain": [
       "      user_id  month  call_count  total_duration  Total_messages  \\\n",
       "0        1000     12          16          116.83            11.0   \n",
       "1        1001      8          27          171.14            30.0   \n",
       "2        1001      9          49          297.69            44.0   \n",
       "3        1001     10          65          374.11            53.0   \n",
       "4        1001     11          64          404.59            36.0   \n",
       "...       ...    ...         ...             ...             ...   \n",
       "1095     1239     11          80          550.20             NaN   \n",
       "1096     1239     12          82          613.49             NaN   \n",
       "1097     1240      6          36          169.94             3.0   \n",
       "1098     1240      7         164         1112.88             9.0   \n",
       "1099     1240      8         161         1038.88            15.0   \n",
       "\n",
       "      Traffic_volume      plan  messages_included  mb_per_month_included  \\\n",
       "0            1901.47  ultimate               1000                  30720   \n",
       "1            6919.15      surf                 50                  15360   \n",
       "2           13314.82      surf                 50                  15360   \n",
       "3           22330.49      surf                 50                  15360   \n",
       "4           18504.30      surf                 50                  15360   \n",
       "...              ...       ...                ...                    ...   \n",
       "1095        13955.03      surf                 50                  15360   \n",
       "1096        17206.28      surf                 50                  15360   \n",
       "1097         8454.95      surf                 50                  15360   \n",
       "1098        34750.43      surf                 50                  15360   \n",
       "1099        49950.58      surf                 50                  15360   \n",
       "\n",
       "      minutes_included  usd_monthly_pay  usd_per_gb  usd_per_message  \\\n",
       "0                 3000               70           7             0.01   \n",
       "1                  500               20          10             0.03   \n",
       "2                  500               20          10             0.03   \n",
       "3                  500               20          10             0.03   \n",
       "4                  500               20          10             0.03   \n",
       "...                ...              ...         ...              ...   \n",
       "1095               500               20          10             0.03   \n",
       "1096               500               20          10             0.03   \n",
       "1097               500               20          10             0.03   \n",
       "1098               500               20          10             0.03   \n",
       "1099               500               20          10             0.03   \n",
       "\n",
       "      usd_per_minute  \n",
       "0               0.01  \n",
       "1               0.03  \n",
       "2               0.03  \n",
       "3               0.03  \n",
       "4               0.03  \n",
       "...              ...  \n",
       "1095            0.03  \n",
       "1096            0.03  \n",
       "1097            0.03  \n",
       "1098            0.03  \n",
       "1099            0.03  \n",
       "\n",
       "[1100 rows x 14 columns]"
      ]
     },
     "execution_count": 30,
     "metadata": {},
     "output_type": "execute_result"
    }
   ],
   "source": [
    "# Añade la información de la tarifa\n",
    "\n",
    "merged_data = pd.merge(merged_data, users[['user_id', 'plan']], on='user_id', how='inner')\n",
    "\n",
    "merged_data = pd.merge(merged_data, plans, on='plan', how='left')\n",
    "\n",
    "merged_data.head(1100)"
   ]
  },
  {
   "cell_type": "markdown",
   "metadata": {},
   "source": [
    "<div class=\"alert alert-block alert-warning\">\n",
    "\n",
    "<b>Comentario revisor</b> <a class=\"tocSkip\"></a>\n",
    "\n",
    "Gran trabajo con el merge. Solamente para este caso te recomiendo que para el merge uses las variables de 'user_id' y \"month\" dado que queremos obtener el calculo del ingreso por usuario y por mes.\n",
    "\n",
    "</div>"
   ]
  },
  {
   "cell_type": "markdown",
   "metadata": {
    "id": "1IwGo4wg0q1I"
   },
   "source": [
    "[Calcula los ingresos mensuales por usuario (resta el límite del paquete gratuito del número total de llamadas, mensajes de texto y datos; multiplica el resultado por el valor del plan de llamadas; añade la tarifa mensual en función del plan de llamadas). Nota: Dadas las condiciones del plan, ¡esto podría no ser tan trivial como un par de líneas! Así que no pasa nada si dedicas algo de tiempo a ello.]"
   ]
  },
  {
   "cell_type": "code",
   "execution_count": null,
   "metadata": {
    "id": "5FGCf_c60q1I"
   },
   "outputs": [
    {
     "data": {
      "text/html": [
       "<div>\n",
       "<style scoped>\n",
       "    .dataframe tbody tr th:only-of-type {\n",
       "        vertical-align: middle;\n",
       "    }\n",
       "\n",
       "    .dataframe tbody tr th {\n",
       "        vertical-align: top;\n",
       "    }\n",
       "\n",
       "    .dataframe thead th {\n",
       "        text-align: right;\n",
       "    }\n",
       "</style>\n",
       "<table border=\"1\" class=\"dataframe\">\n",
       "  <thead>\n",
       "    <tr style=\"text-align: right;\">\n",
       "      <th></th>\n",
       "      <th>user_id</th>\n",
       "      <th>month</th>\n",
       "      <th>monthly_revenue</th>\n",
       "    </tr>\n",
       "  </thead>\n",
       "  <tbody>\n",
       "    <tr>\n",
       "      <th>0</th>\n",
       "      <td>1000</td>\n",
       "      <td>12</td>\n",
       "      <td>70.00</td>\n",
       "    </tr>\n",
       "    <tr>\n",
       "      <th>1</th>\n",
       "      <td>1001</td>\n",
       "      <td>8</td>\n",
       "      <td>20.00</td>\n",
       "    </tr>\n",
       "    <tr>\n",
       "      <th>2</th>\n",
       "      <td>1001</td>\n",
       "      <td>9</td>\n",
       "      <td>20.00</td>\n",
       "    </tr>\n",
       "    <tr>\n",
       "      <th>3</th>\n",
       "      <td>1001</td>\n",
       "      <td>10</td>\n",
       "      <td>90.09</td>\n",
       "    </tr>\n",
       "    <tr>\n",
       "      <th>4</th>\n",
       "      <td>1001</td>\n",
       "      <td>11</td>\n",
       "      <td>60.00</td>\n",
       "    </tr>\n",
       "    <tr>\n",
       "      <th>...</th>\n",
       "      <td>...</td>\n",
       "      <td>...</td>\n",
       "      <td>...</td>\n",
       "    </tr>\n",
       "    <tr>\n",
       "      <th>2253</th>\n",
       "      <td>1498</td>\n",
       "      <td>12</td>\n",
       "      <td>100.00</td>\n",
       "    </tr>\n",
       "    <tr>\n",
       "      <th>2254</th>\n",
       "      <td>1499</td>\n",
       "      <td>9</td>\n",
       "      <td>20.00</td>\n",
       "    </tr>\n",
       "    <tr>\n",
       "      <th>2255</th>\n",
       "      <td>1499</td>\n",
       "      <td>10</td>\n",
       "      <td>70.00</td>\n",
       "    </tr>\n",
       "    <tr>\n",
       "      <th>2256</th>\n",
       "      <td>1499</td>\n",
       "      <td>11</td>\n",
       "      <td>40.00</td>\n",
       "    </tr>\n",
       "    <tr>\n",
       "      <th>2257</th>\n",
       "      <td>1499</td>\n",
       "      <td>12</td>\n",
       "      <td>90.00</td>\n",
       "    </tr>\n",
       "  </tbody>\n",
       "</table>\n",
       "<p>2258 rows × 3 columns</p>\n",
       "</div>"
      ],
      "text/plain": [
       "      user_id  month  monthly_revenue\n",
       "0        1000     12            70.00\n",
       "1        1001      8            20.00\n",
       "2        1001      9            20.00\n",
       "3        1001     10            90.09\n",
       "4        1001     11            60.00\n",
       "...       ...    ...              ...\n",
       "2253     1498     12           100.00\n",
       "2254     1499      9            20.00\n",
       "2255     1499     10            70.00\n",
       "2256     1499     11            40.00\n",
       "2257     1499     12            90.00\n",
       "\n",
       "[2258 rows x 3 columns]"
      ]
     },
     "execution_count": 31,
     "metadata": {},
     "output_type": "execute_result"
    }
   ],
   "source": [
    "# Calcula el ingreso mensual para cada usuario\n",
    "\n",
    "merged_data['minutes_included'] = merged_data['minutes_included'].astype(float)\n",
    "\n",
    "# Calcular costos adicionales\n",
    "merged_data['extra_minutes'] = merged_data['total_duration'] - merged_data['minutes_included']\n",
    "merged_data['extra_minutes'] = merged_data['extra_minutes'].apply(lambda x: x if x > 0 else 0)\n",
    "\n",
    "merged_data['extra_messages'] = merged_data['Total_messages'] - merged_data['messages_included']\n",
    "merged_data['extra_messages'] = merged_data['extra_messages'].apply(lambda x: x if x > 0 else 0)\n",
    "\n",
    "merged_data['extra_data_GB'] = merged_data['Traffic_volume'] - merged_data['mb_per_month_included']\n",
    "merged_data['extra_data_GB'] = np.ceil(merged_data['extra_data_GB']/1024)\n",
    "merged_data['extra_data_GB'] = merged_data['extra_data_GB'].apply(lambda x: x if x > 0 else 0)\n",
    "\n",
    "# Calcular el costo total adicional\n",
    "merged_data['extra_cost'] = (merged_data['extra_minutes'] * merged_data['usd_per_minute'] +\n",
    "                             merged_data['extra_messages'] * merged_data['usd_per_message'] +\n",
    "                             merged_data['extra_data_GB'] * merged_data['usd_per_gb'])\n",
    "\n",
    "# Calcular el ingreso mensual total para cada usuario\n",
    "merged_data['monthly_revenue'] = merged_data['usd_monthly_pay'] + merged_data['extra_cost']\n",
    "\n",
    "# Mostrar los primeros registros del resultado\n",
    "merged_data[['user_id', 'month', 'monthly_revenue']].head(10000)"
   ]
  },
  {
   "cell_type": "markdown",
   "metadata": {},
   "source": [
    "<div class=\"alert alert-block alert-info\">\n",
    "<b>Respuesta del estudiante.</b> <a class=\"tocSkip\"></a>\n",
    "    Queria saber si me pueden revisar hasta aca ya que no entiendo muy buen el calculo que piden \n",
    "</div>"
   ]
  },
  {
   "cell_type": "markdown",
   "metadata": {},
   "source": [
    "<div class=\"alert alert-block alert-warning\">\n",
    "\n",
    "<b>Comentario revisor</b> <a class=\"tocSkip\"></a>\n",
    "\n",
    "Hola, Rodrigo! Con los ajustes anteriores puedes continuar con el resto de los ejercicios!\n",
    "\n",
    "</div>"
   ]
  },
  {
   "cell_type": "markdown",
   "metadata": {
    "id": "-jtyHzJb0q1I"
   },
   "source": [
    "## Estudia el comportamiento de usuario"
   ]
  },
  {
   "cell_type": "markdown",
   "metadata": {
    "id": "AxU3Y0N70q1J"
   },
   "source": [
    "[Calcula algunas estadísticas descriptivas para los datos agregados y fusionados que nos sean útiles y que muestren un panorama general captado por los datos. Dibuja gráficos útiles para facilitar la comprensión. Dado que la tarea principal es comparar las tarifas y decidir cuál es más rentable, las estadísticas y gráficas deben calcularse por tarifa.]\n",
    "\n",
    "[En los comentarios hallarás pistas relevantes para las llamadas, pero no las hay para los mensajes e Internet. Sin embargo, el principio del estudio estadístico que se aplica para ellos es el mismo que para las llamadas.]"
   ]
  },
  {
   "cell_type": "markdown",
   "metadata": {
    "id": "vtW4CJEe0q1J"
   },
   "source": [
    "### Llamadas"
   ]
  },
  {
   "cell_type": "code",
   "execution_count": null,
   "metadata": {
    "id": "Jf5v5--k0q1J"
   },
   "outputs": [
    {
     "data": {
      "image/png": "[encoded data removed]",
      "text/plain": [
       "<Figure size 1200x600 with 1 Axes>"
      ]
     },
     "metadata": {},
     "output_type": "display_data"
    }
   ],
   "source": [
    "# Compara la duración promedio de llamadas por cada plan y por cada mes. Traza un gráfico de barras para visualizarla.\n",
    "\n",
    "mean_calls_per_month = merged_data.groupby(['plan' , 'month'])['total_duration'].mean().reset_index(name = 'Mean_duration')\n",
    "\n",
    "plt.figure(figsize=(12, 6))\n",
    "\n",
    "# Añadir transparencia a las barras del plan 'surf'\n",
    "for plan in mean_calls_per_month['plan'].unique():\n",
    "    subset = mean_calls_per_month[mean_calls_per_month['plan'] == plan]\n",
    "    if plan == 'ultimate':\n",
    "        plt.bar(subset['month'], subset['Mean_duration'], label=plan, alpha=0.6)  \n",
    "    else:\n",
    "        plt.bar(subset['month'], subset['Mean_duration'], label=plan)\n",
    "\n",
    "plt.xlabel('Month')\n",
    "plt.ylabel('Mean Call Duration')\n",
    "plt.title('Average Call Duration per Plan per Month')\n",
    "plt.legend(title='Plan')\n",
    "plt.xticks(rotation=45)\n",
    "plt.show()"
   ]
  },
  {
   "cell_type": "markdown",
   "metadata": {},
   "source": [
    "Conclusiones\n",
    "`Basandonos en ese grafico podemos ver que el promedio de llamadas para el plan ultimate en el mes de febrero fue el promedio mas alto y para el plan surf en el mes de diciembre fue el promedio mas alto`"
   ]
  },
  {
   "cell_type": "code",
   "execution_count": null,
   "metadata": {
    "id": "QoLqW1S_0q1J"
   },
   "outputs": [
    {
     "data": {
      "image/png": "[encoded data removed]",
      "text/plain": [
       "<Figure size 1000x600 with 1 Axes>"
      ]
     },
     "metadata": {},
     "output_type": "display_data"
    }
   ],
   "source": [
    "# Compara el número de minutos mensuales que necesitan los usuarios de cada plan. Traza un histograma.\n",
    "\n",
    "\n",
    "plt.figure(figsize=(10, 6))\n",
    "\n",
    "# Separar los datos por plan y dibujar histogramas para cada plan\n",
    "for plan in merged_data['plan'].unique():\n",
    "    subset = merged_data[merged_data['plan'] == plan]\n",
    "    plt.hist(subset['total_duration'], bins=20, alpha=0.7, label=plan)\n",
    "\n",
    "plt.xlabel('Total Monthly Duration (Minutes)')\n",
    "plt.ylabel('Frequency')\n",
    "plt.title('Monthly Call Duration Distribution by Plan')\n",
    "plt.legend(title='Plan')\n",
    "plt.grid(True)\n",
    "plt.show()\n"
   ]
  },
  {
   "cell_type": "markdown",
   "metadata": {
    "id": "bLS9T8OH0q1K"
   },
   "source": [
    "[Calcula la media y la variable de la duración de las llamadas para averiguar si los usuarios de los distintos planes se comportan de forma diferente al realizar sus llamadas.]"
   ]
  },
  {
   "cell_type": "code",
   "execution_count": null,
   "metadata": {
    "id": "oSndbAnt0q1K"
   },
   "outputs": [
    {
     "name": "stdout",
     "output_type": "stream",
     "text": [
      "Media de duración mensual de llamadas por plan:\n",
      "plan\n",
      "surf        412.097890\n",
      "ultimate    410.180954\n",
      "Name: total_duration, dtype: float64\n",
      "\n",
      "Varianza de duración mensual de llamadas por plan:\n",
      "plan\n",
      "surf        47001.254231\n",
      "ultimate    50510.631705\n",
      "Name: total_duration, dtype: float64\n"
     ]
    }
   ],
   "source": [
    "# Calcula la media y la varianza de la duración mensual de llamadas.\n",
    "\n",
    "mean_duration_by_plan = merged_data.groupby('plan')['total_duration'].mean()\n",
    "variance_duration_by_plan = merged_data.groupby('plan')['total_duration'].var()\n",
    "\n",
    "# Imprimir los resultados\n",
    "print(\"Media de duración mensual de llamadas por plan:\")\n",
    "print(mean_duration_by_plan)\n",
    "print(\"\\nVarianza de duración mensual de llamadas por plan:\")\n",
    "print(variance_duration_by_plan)\n"
   ]
  },
  {
   "cell_type": "code",
   "execution_count": null,
   "metadata": {
    "id": "nZzoRUKc0q1K"
   },
   "outputs": [
    {
     "data": {
      "image/png": "[encoded data removed]",
      "text/plain": [
       "<Figure size 1000x600 with 1 Axes>"
      ]
     },
     "metadata": {},
     "output_type": "display_data"
    }
   ],
   "source": [
    "# Traza un diagrama de caja para visualizar la distribución de la duración mensual de llamadas\n",
    "\n",
    "# Crear el diagrama de caja\n",
    "plt.figure(figsize=(10, 6))\n",
    "plt.boxplot([merged_data[merged_data['plan'] == 'surf']['total_duration'], \n",
    "             merged_data[merged_data['plan'] == 'ultimate']['total_duration']], \n",
    "            labels=['Surf', 'Ultimate'])\n",
    "\n",
    "# Añadir etiquetas y título\n",
    "plt.xlabel('Plan')\n",
    "plt.ylabel('Duración Mensual de Llamadas (Minutos)')\n",
    "plt.title('Distribución de Duración Mensual de Llamadas por Plan')\n",
    "\n",
    "# Mostrar el diagrama de caja\n",
    "plt.grid(True)\n",
    "plt.show()"
   ]
  },
  {
   "cell_type": "markdown",
   "metadata": {
    "id": "r627zBO50q1K"
   },
   "source": [
    "Podemos observar que en el grafico de la caja de bigotes para el plan surf hay una cantidad mayor de valores atipicos esto puede significar en este caso que hay mas usuarios los que realizan llamadas de mucha mas duracion"
   ]
  },
  {
   "cell_type": "markdown",
   "metadata": {
    "id": "8idKy8Wh0q1L"
   },
   "source": [
    "### Mensajes"
   ]
  },
  {
   "cell_type": "code",
   "execution_count": null,
   "metadata": {
    "id": "NXLxiTit0q1L"
   },
   "outputs": [
    {
     "data": {
      "image/png": "[encoded data removed]",
      "text/plain": [
       "<Figure size 1000x600 with 1 Axes>"
      ]
     },
     "metadata": {},
     "output_type": "display_data"
    }
   ],
   "source": [
    "# Comprara el número de mensajes que tienden a enviar cada mes los usuarios de cada plan\n",
    "\n",
    "# Configuración de estilo\n",
    "sns.set(style=\"whitegrid\")\n",
    "\n",
    "# Crear el diagrama de caja\n",
    "plt.figure(figsize=(10, 6))\n",
    "sns.boxplot(x='plan', y='Total_messages', data=merged_data)\n",
    "\n",
    "# Añadir etiquetas y título\n",
    "plt.xlabel('Plan')\n",
    "plt.ylabel('Total de Mensajes Mensuales')\n",
    "plt.title('Comparación del Total de Mensajes Mensuales por Plan')\n",
    "\n",
    "# Mostrar el diagrama de caja\n",
    "plt.grid(True)\n",
    "plt.show()"
   ]
  },
  {
   "cell_type": "markdown",
   "metadata": {
    "id": "42YSypXz0q1M"
   },
   "source": [
    "### Internet"
   ]
  },
  {
   "cell_type": "code",
   "execution_count": null,
   "metadata": {
    "id": "lSuKPtjh0q1M"
   },
   "outputs": [
    {
     "data": {
      "image/png": "[encoded data removed]",
      "text/plain": [
       "<Figure size 1000x600 with 1 Axes>"
      ]
     },
     "metadata": {},
     "output_type": "display_data"
    }
   ],
   "source": [
    "# Compara la cantidad de tráfico de Internet consumido por usuarios por plan\n",
    "\n",
    "traffic_by_plan = merged_data.groupby('plan')['Traffic_volume'].sum().reset_index()\n",
    "\n",
    "# Configurar el gráfico de barras\n",
    "plt.figure(figsize=(10, 6))\n",
    "sns.barplot(x='plan', y='Traffic_volume', data=traffic_by_plan)\n",
    "\n",
    "# Añadir etiquetas y título\n",
    "plt.xlabel('Plan')\n",
    "plt.ylabel('Tráfico de Internet Consumido (MB)')\n",
    "plt.title('Comparación del Tráfico de Internet Consumido por Plan')\n",
    "\n",
    "# Mostrar el gráfico de barras\n",
    "plt.grid(True)\n",
    "plt.show()"
   ]
  },
  {
   "cell_type": "markdown",
   "metadata": {
    "id": "UN9zwuMP0q1N"
   },
   "source": [
    "Podemos ver que el comportamiento si varia dependiendo de el plan , en el plan surf encontramos un mayor trafico de internet condumido por plan a diferencia de el plan ultimate que es significativamente mejor el trafico consumido."
   ]
  },
  {
   "cell_type": "markdown",
   "metadata": {
    "id": "tCijq3260q1N"
   },
   "source": [
    "## Ingreso"
   ]
  },
  {
   "cell_type": "markdown",
   "metadata": {
    "id": "9nq5IAcy0q1O"
   },
   "source": [
    "[Del mismo modo que has estudiado el comportamiento de los usuarios, describe estadísticamente los ingresos de los planes.]"
   ]
  },
  {
   "cell_type": "code",
   "execution_count": null,
   "metadata": {
    "id": "tz-dq_V00q1O"
   },
   "outputs": [],
   "source": []
  },
  {
   "cell_type": "code",
   "execution_count": null,
   "metadata": {
    "id": "0Y1v8ZUz0q1P"
   },
   "outputs": [],
   "source": []
  },
  {
   "cell_type": "code",
   "execution_count": null,
   "metadata": {
    "id": "bYmwxyVh0q1P"
   },
   "outputs": [],
   "source": []
  },
  {
   "cell_type": "markdown",
   "metadata": {
    "id": "KAFidcXZ0q1P"
   },
   "source": [
    "[Elabora las conclusiones sobre cómo difiere el ingreso entre los planes.]"
   ]
  },
  {
   "cell_type": "markdown",
   "metadata": {
    "id": "ajJ7VKeI0q1Q"
   },
   "source": [
    "## Prueba las hipótesis estadísticas"
   ]
  },
  {
   "cell_type": "markdown",
   "metadata": {
    "id": "AdXAZ-yL0q1Q"
   },
   "source": [
    "[Prueba la hipótesis de que son diferentes los ingresos promedio procedentes de los usuarios de los planes de llamada Ultimate y Surf.]"
   ]
  },
  {
   "cell_type": "markdown",
   "metadata": {
    "id": "IQwa_hsh0q1Q"
   },
   "source": [
    "[Elabora las hipótesis nula y alternativa, escoge la prueba estadística, determina el valor alfa.]"
   ]
  },
  {
   "cell_type": "code",
   "execution_count": null,
   "metadata": {
    "id": "nFoPNlPq0q1R"
   },
   "outputs": [
    {
     "name": "stdout",
     "output_type": "stream",
     "text": [
      "Estadístico t: 8.808284240212345\n",
      "Valor p: 2.8950294906188983e-18\n",
      "Se rechaza la hipótesis nula: hay evidencia suficiente para concluir que hay una diferencia significativa en los ingresos promedio entre los usuarios de los planes Ultimate y Surf.\n"
     ]
    }
   ],
   "source": [
    "# Prueba las hipótesis\n",
    "ultimate_revenue = merged_data[merged_data['plan'] == 'ultimate']['monthly_revenue']\n",
    "surf_revenue = merged_data[merged_data['plan'] == 'surf']['monthly_revenue']\n",
    "\n",
    "# Realizar la prueba t de Student\n",
    "t_statistic, p_value = st.ttest_ind(ultimate_revenue, surf_revenue, equal_var=False)\n",
    "\n",
    "# Nivel de significancia (alfa)\n",
    "alpha = 0.05\n",
    "\n",
    "# Imprimir los resultados\n",
    "print(\"Estadístico t:\", t_statistic)\n",
    "print(\"Valor p:\", p_value)\n",
    "\n",
    "# Comprobar si se rechaza la hipótesis nula\n",
    "if p_value < alpha:\n",
    "    print(\"Se rechaza la hipótesis nula: hay evidencia suficiente para concluir que hay una diferencia significativa en los ingresos promedio entre los usuarios de los planes Ultimate y Surf.\")\n",
    "else:\n",
    "    print(\"No se rechaza la hipótesis nula: no hay suficiente evidencia para concluir que hay una diferencia significativa en los ingresos promedio entre los usuarios de los planes Ultimate y Surf.\")\n"
   ]
  },
  {
   "cell_type": "markdown",
   "metadata": {
    "id": "tCcAruM60q1R"
   },
   "source": [
    "[Prueba la hipótesis de que el ingreso promedio de los usuarios del área NY-NJ es diferente al de los usuarios de otras regiones.]"
   ]
  },
  {
   "cell_type": "markdown",
   "metadata": {
    "id": "LsBgitqj0q1R"
   },
   "source": [
    "[Elabora las hipótesis nula y alternativa, escoge la prueba estadística, determina el valor alfa.]"
   ]
  },
  {
   "cell_type": "code",
   "execution_count": null,
   "metadata": {
    "id": "Cqcj7wrZ0q1S"
   },
   "outputs": [
    {
     "name": "stdout",
     "output_type": "stream",
     "text": [
      "Valor p: 0.0004245108766945332\n",
      "Se rechaza la hipótesis nula: hay evidencia suficiente para concluir que hay una diferencia significativa en el ingreso promedio entre los usuarios del área NY-NJ y los usuarios de otras regiones.\n"
     ]
    }
   ],
   "source": [
    "# Prueba las hipótesis\n",
    "\n",
    "merged_data = pd.merge(merged_data, users[['user_id', 'city']], on='user_id', how='left')\n",
    "\n",
    "# Obtener los ingresos mensuales de usuarios del área NY-NJ y de otras regiones\n",
    "ny_nj_revenue = merged_data[merged_data['city'].str.contains('New York-Newark-Jersey City, NY-NJ-PA MSA', case=False)]['monthly_revenue']\n",
    "other_regions_revenue = merged_data[~merged_data['city'].str.contains('New York-Newark-Jersey City, NY-NJ-PA MSA', case=False)]['monthly_revenue']\n",
    "\n",
    "# Realizar la prueba t de Student o la prueba de Mann-Whitney U dependiendo de la distribución de los datos\n",
    "# Comprobamos si los datos siguen una distribución normal\n",
    "if st.normaltest(ny_nj_revenue).pvalue > 0.05 and st.normaltest(other_regions_revenue).pvalue > 0.05:\n",
    "    # Los datos siguen una distribución normal, podemos usar la prueba t de Student\n",
    "    t_statistic, p_value = st.ttest_ind(ny_nj_revenue, other_regions_revenue, equal_var=False)\n",
    "else:\n",
    "    # Los datos no siguen una distribución normal, usamos la prueba de Mann-Whitney U\n",
    "    u_statistic, p_value = st.mannwhitneyu(ny_nj_revenue, other_regions_revenue)\n",
    "\n",
    "# Nivel de significancia (alfa)\n",
    "alpha = 0.05\n",
    "\n",
    "# Imprimir los resultados\n",
    "print(\"Valor p:\", p_value)\n",
    "\n",
    "# Comprobar si se rechaza la hipótesis nula\n",
    "if p_value < alpha:\n",
    "    print(\"Se rechaza la hipótesis nula: hay evidencia suficiente para concluir que hay una diferencia significativa en el ingreso promedio entre los usuarios del área NY-NJ y los usuarios de otras regiones.\")\n",
    "else:\n",
    "    print(\"No se rechaza la hipótesis nula: no hay suficiente evidencia para concluir que hay una diferencia significativa en el ingreso promedio entre los usuarios del área NY-NJ y los usuarios de otras regiones.\")\n"
   ]
  },
  {
   "cell_type": "markdown",
   "metadata": {},
   "source": [
    "<div class=\"alert alert-block alert-warning\">\n",
    "<b>Comentario del revisor</b> <a class=\"tocSkip\"></a>\n",
    "\n",
    "Hola, Rodrigo! Ya solamente es importante verificar que contamos con la variable 'city' en la base que usamos para el desarrollo de las pruebas de hipótesis\n",
    "</div>"
   ]
  },
  {
   "cell_type": "markdown",
   "metadata": {},
   "source": [
    "<div class=\"alert alert-block alert-info\">\n",
    "<b>Respuesta del estudiante.</b> Disculpa nose por que antes si me corria ya esta solucionado!<a class=\"tocSkip\"></a>"
   ]
  },
  {
   "cell_type": "markdown",
   "metadata": {
    "id": "bbTR8UQO0q1T"
   },
   "source": [
    "\n",
    "## Conclusión general\n",
    "\n",
    "Este trabajo me a ayudado mucho para poner a prueba los conocimientos"
   ]
  }
 ],
 "metadata": {
  "ExecuteTimeLog": [
   {
    "duration": 828,
    "start_time": "2021-11-16T09:21:11.304Z"
   },
   {
    "duration": 893,
    "start_time": "2021-11-16T09:21:17.728Z"
   },
   {
    "duration": 1150,
    "start_time": "2021-11-16T09:21:29.568Z"
   },
   {
    "duration": 3,
    "start_time": "2021-11-16T09:24:14.495Z"
   },
   {
    "duration": 120,
    "start_time": "2021-11-16T09:24:46.630Z"
   },
   {
    "duration": 3,
    "start_time": "2021-11-16T09:28:27.882Z"
   },
   {
    "duration": 4,
    "start_time": "2021-11-16T09:29:54.281Z"
   },
   {
    "duration": 3,
    "start_time": "2021-11-16T09:30:45.936Z"
   },
   {
    "duration": 4,
    "start_time": "2021-11-16T09:31:06.300Z"
   },
   {
    "duration": 113,
    "start_time": "2021-11-16T09:31:37.208Z"
   },
   {
    "duration": 143,
    "start_time": "2021-11-16T09:31:48.656Z"
   },
   {
    "duration": 98,
    "start_time": "2021-11-16T09:31:55.678Z"
   },
   {
    "duration": 3,
    "start_time": "2021-11-16T09:32:08.535Z"
   },
   {
    "duration": 111,
    "start_time": "2021-11-16T09:32:10.120Z"
   },
   {
    "duration": 3,
    "start_time": "2021-11-16T09:32:15.732Z"
   },
   {
    "duration": 4,
    "start_time": "2021-11-16T09:32:29.423Z"
   },
   {
    "duration": 3,
    "start_time": "2021-11-16T10:03:03.074Z"
   },
   {
    "duration": 3,
    "start_time": "2021-11-16T10:10:01.288Z"
   },
   {
    "duration": 3,
    "start_time": "2021-11-16T10:10:46.923Z"
   },
   {
    "duration": 121,
    "start_time": "2021-11-16T10:37:46.494Z"
   },
   {
    "duration": 125,
    "start_time": "2021-11-16T10:38:20.632Z"
   },
   {
    "duration": 112,
    "start_time": "2021-11-16T10:46:53.001Z"
   },
   {
    "duration": 110,
    "start_time": "2021-11-16T10:48:25.775Z"
   },
   {
    "duration": 3,
    "start_time": "2021-11-16T10:50:18.720Z"
   },
   {
    "duration": 4,
    "start_time": "2021-11-16T10:50:37.649Z"
   },
   {
    "duration": 2,
    "start_time": "2021-11-16T10:50:51.884Z"
   },
   {
    "duration": 3,
    "start_time": "2021-11-16T10:51:56.237Z"
   },
   {
    "duration": 101,
    "start_time": "2021-11-16T10:53:13.791Z"
   },
   {
    "duration": 3,
    "start_time": "2021-11-16T10:55:59.186Z"
   },
   {
    "duration": 3,
    "start_time": "2021-11-16T10:56:10.751Z"
   },
   {
    "duration": 3,
    "start_time": "2021-11-16T10:56:49.038Z"
   },
   {
    "duration": 3,
    "start_time": "2021-11-16T10:56:49.174Z"
   },
   {
    "duration": 4,
    "start_time": "2021-11-16T10:56:49.414Z"
   },
   {
    "duration": 3,
    "start_time": "2021-11-16T10:56:49.680Z"
   },
   {
    "duration": 3,
    "start_time": "2021-11-16T10:56:50.370Z"
   },
   {
    "duration": 114,
    "start_time": "2021-11-16T10:59:34.518Z"
   },
   {
    "duration": 3,
    "start_time": "2021-11-16T11:01:41.201Z"
   },
   {
    "duration": 116,
    "start_time": "2021-11-16T11:01:48.754Z"
   },
   {
    "duration": 3,
    "start_time": "2021-11-16T11:02:16.685Z"
   },
   {
    "duration": 3,
    "start_time": "2021-11-16T11:02:19.479Z"
   },
   {
    "duration": 3,
    "start_time": "2021-11-16T11:02:47.067Z"
   },
   {
    "duration": 3,
    "start_time": "2021-11-16T11:02:49.353Z"
   },
   {
    "duration": 3,
    "start_time": "2021-11-16T11:03:07.835Z"
   },
   {
    "duration": 3,
    "start_time": "2021-11-16T11:03:07.953Z"
   },
   {
    "duration": 112,
    "start_time": "2021-11-16T11:07:52.072Z"
   },
   {
    "duration": 187,
    "start_time": "2021-11-16T11:09:23.468Z"
   },
   {
    "duration": 4,
    "start_time": "2021-11-16T11:10:01.455Z"
   },
   {
    "duration": 3,
    "start_time": "2021-11-16T11:10:05.069Z"
   },
   {
    "duration": 4,
    "start_time": "2021-11-16T11:10:13.376Z"
   },
   {
    "duration": 3,
    "start_time": "2021-11-16T11:10:14.434Z"
   },
   {
    "duration": 3,
    "start_time": "2021-11-16T11:10:22.853Z"
   },
   {
    "duration": 4,
    "start_time": "2021-11-16T11:27:29.279Z"
   },
   {
    "duration": 4,
    "start_time": "2021-11-16T11:29:08.919Z"
   },
   {
    "duration": 118,
    "start_time": "2021-11-16T11:29:46.703Z"
   },
   {
    "duration": 437,
    "start_time": "2021-11-16T11:36:02.181Z"
   },
   {
    "duration": 157,
    "start_time": "2021-11-16T11:36:14.388Z"
   },
   {
    "duration": 207,
    "start_time": "2021-11-16T11:47:15.898Z"
   },
   {
    "duration": 3,
    "start_time": "2021-11-16T11:53:52.092Z"
   },
   {
    "duration": 3,
    "start_time": "2021-11-16T11:53:52.236Z"
   },
   {
    "duration": 3,
    "start_time": "2021-11-16T11:59:12.005Z"
   },
   {
    "duration": 112,
    "start_time": "2021-11-16T12:00:33.446Z"
   },
   {
    "duration": 3,
    "start_time": "2021-11-16T12:02:14.453Z"
   },
   {
    "duration": 3,
    "start_time": "2021-11-16T12:02:39.512Z"
   },
   {
    "duration": 106,
    "start_time": "2021-11-16T12:03:03.460Z"
   },
   {
    "duration": 3,
    "start_time": "2021-11-17T20:37:21.139Z"
   },
   {
    "duration": 3,
    "start_time": "2021-11-17T20:37:22.229Z"
   },
   {
    "duration": 3,
    "start_time": "2021-11-17T20:38:38.806Z"
   },
   {
    "duration": 3,
    "start_time": "2021-11-17T20:38:41.958Z"
   },
   {
    "duration": 3,
    "start_time": "2021-11-17T20:43:46.551Z"
   },
   {
    "duration": 4,
    "start_time": "2021-11-17T20:58:21.835Z"
   },
   {
    "duration": 3,
    "start_time": "2021-11-17T20:59:21.872Z"
   },
   {
    "duration": 4,
    "start_time": "2021-11-17T20:59:45.352Z"
   },
   {
    "duration": 4,
    "start_time": "2021-11-17T20:59:49.646Z"
   },
   {
    "duration": 159,
    "start_time": "2021-11-17T21:02:26.949Z"
   },
   {
    "duration": 3,
    "start_time": "2021-11-17T21:03:53.461Z"
   },
   {
    "duration": 3,
    "start_time": "2021-11-17T21:03:53.694Z"
   },
   {
    "duration": 3,
    "start_time": "2021-11-17T21:05:28.145Z"
   },
   {
    "duration": 116,
    "start_time": "2021-11-17T21:05:57.787Z"
   },
   {
    "duration": 3,
    "start_time": "2021-11-17T21:06:37.993Z"
   },
   {
    "duration": 3,
    "start_time": "2021-11-17T21:06:38.261Z"
   },
   {
    "duration": 3,
    "start_time": "2021-11-17T21:11:54.358Z"
   },
   {
    "duration": 3,
    "start_time": "2021-11-17T21:12:43.846Z"
   },
   {
    "duration": 4,
    "start_time": "2021-11-17T21:13:08.773Z"
   },
   {
    "duration": 3,
    "start_time": "2021-11-17T21:14:44.441Z"
   },
   {
    "duration": 3,
    "start_time": "2021-11-17T21:15:42.059Z"
   },
   {
    "duration": 4,
    "start_time": "2021-11-17T21:15:51.995Z"
   },
   {
    "duration": 3,
    "start_time": "2021-11-17T21:15:53.923Z"
   },
   {
    "duration": 3,
    "start_time": "2021-11-17T21:15:55.282Z"
   },
   {
    "duration": 3,
    "start_time": "2021-11-17T21:16:28.492Z"
   },
   {
    "duration": 3,
    "start_time": "2021-11-17T21:16:32.603Z"
   },
   {
    "duration": 3,
    "start_time": "2021-11-17T21:17:06.941Z"
   },
   {
    "duration": 98,
    "start_time": "2021-11-17T21:18:05.733Z"
   },
   {
    "duration": 4,
    "start_time": "2021-11-17T21:21:35.255Z"
   },
   {
    "duration": 3,
    "start_time": "2021-11-17T21:21:37.804Z"
   },
   {
    "duration": 4,
    "start_time": "2021-11-17T21:23:06.071Z"
   },
   {
    "duration": 3,
    "start_time": "2021-11-17T21:23:24.799Z"
   },
   {
    "duration": 3,
    "start_time": "2021-11-17T21:23:32.591Z"
   },
   {
    "duration": 98,
    "start_time": "2021-11-17T21:28:31.559Z"
   },
   {
    "duration": 3,
    "start_time": "2021-11-17T21:28:45.448Z"
   },
   {
    "duration": 3,
    "start_time": "2021-11-17T21:29:17.303Z"
   },
   {
    "duration": 3,
    "start_time": "2021-11-17T21:29:29.617Z"
   },
   {
    "duration": 3,
    "start_time": "2021-11-17T21:29:32.681Z"
   },
   {
    "duration": 3,
    "start_time": "2021-11-17T21:36:11.474Z"
   },
   {
    "duration": 3,
    "start_time": "2021-11-17T21:36:14.791Z"
   },
   {
    "duration": 3,
    "start_time": "2021-11-17T21:36:53.943Z"
   },
   {
    "duration": 3,
    "start_time": "2021-11-17T21:36:56.165Z"
   },
   {
    "duration": 4,
    "start_time": "2021-11-17T21:37:16.590Z"
   },
   {
    "duration": 3,
    "start_time": "2021-11-17T21:37:22.702Z"
   },
   {
    "duration": 4,
    "start_time": "2021-11-17T21:38:03.479Z"
   },
   {
    "duration": 3,
    "start_time": "2021-11-17T21:38:08.601Z"
   },
   {
    "duration": 3,
    "start_time": "2021-11-17T21:38:12.928Z"
   },
   {
    "duration": 3,
    "start_time": "2021-11-17T21:38:48.896Z"
   },
   {
    "duration": 2,
    "start_time": "2021-11-17T21:38:49.171Z"
   },
   {
    "duration": 4,
    "start_time": "2021-11-17T21:39:57.889Z"
   },
   {
    "duration": 3,
    "start_time": "2021-11-17T21:39:58.057Z"
   },
   {
    "duration": 3,
    "start_time": "2021-11-17T21:41:20.108Z"
   },
   {
    "duration": 3,
    "start_time": "2021-11-17T21:41:20.629Z"
   },
   {
    "duration": 3,
    "start_time": "2021-11-17T21:42:49.136Z"
   },
   {
    "duration": 3,
    "start_time": "2021-11-17T21:43:15.137Z"
   },
   {
    "duration": 4,
    "start_time": "2021-11-17T21:43:16.766Z"
   },
   {
    "duration": 4,
    "start_time": "2021-11-17T21:43:31.711Z"
   },
   {
    "duration": 3,
    "start_time": "2021-11-17T21:43:36.312Z"
   },
   {
    "duration": 4,
    "start_time": "2021-11-17T21:45:08.825Z"
   },
   {
    "duration": 4,
    "start_time": "2021-11-17T21:45:10.119Z"
   },
   {
    "duration": 4,
    "start_time": "2021-11-17T21:45:13.748Z"
   },
   {
    "duration": 3,
    "start_time": "2021-11-17T21:45:22.219Z"
   },
   {
    "duration": 3,
    "start_time": "2021-11-17T21:45:33.412Z"
   },
   {
    "duration": 2,
    "start_time": "2021-11-17T21:46:01.885Z"
   },
   {
    "duration": 3,
    "start_time": "2021-11-17T21:46:03.628Z"
   },
   {
    "duration": 107,
    "start_time": "2021-11-17T21:47:32.512Z"
   },
   {
    "duration": 103,
    "start_time": "2021-11-17T21:50:36.243Z"
   },
   {
    "duration": 3,
    "start_time": "2021-11-18T06:28:31.440Z"
   },
   {
    "duration": 3,
    "start_time": "2021-11-18T06:29:00.168Z"
   },
   {
    "duration": 3,
    "start_time": "2021-11-18T06:31:27.008Z"
   },
   {
    "duration": 2,
    "start_time": "2021-11-18T06:35:34.288Z"
   },
   {
    "duration": 2,
    "start_time": "2021-11-18T06:38:04.527Z"
   },
   {
    "duration": 943,
    "start_time": "2024-05-29T06:02:25.703Z"
   },
   {
    "duration": 1140,
    "start_time": "2024-05-29T06:02:26.725Z"
   },
   {
    "duration": 398,
    "start_time": "2024-05-29T06:03:06.263Z"
   },
   {
    "duration": 16,
    "start_time": "2024-05-29T06:06:35.247Z"
   },
   {
    "duration": 44,
    "start_time": "2024-05-29T06:06:40.559Z"
   },
   {
    "duration": 13,
    "start_time": "2024-05-29T06:07:07.177Z"
   },
   {
    "duration": 17,
    "start_time": "2024-05-29T06:07:59.470Z"
   },
   {
    "duration": 319,
    "start_time": "2024-05-29T20:09:18.030Z"
   },
   {
    "duration": 1036,
    "start_time": "2024-05-29T20:09:26.487Z"
   },
   {
    "duration": 495,
    "start_time": "2024-05-29T20:09:27.528Z"
   },
   {
    "duration": 59,
    "start_time": "2024-05-29T20:09:28.035Z"
   },
   {
    "duration": 16,
    "start_time": "2024-05-29T20:09:28.100Z"
   },
   {
    "duration": 18,
    "start_time": "2024-05-29T20:09:28.134Z"
   },
   {
    "duration": 4,
    "start_time": "2024-05-29T20:09:28.155Z"
   },
   {
    "duration": 4,
    "start_time": "2024-05-29T20:09:28.162Z"
   },
   {
    "duration": 3,
    "start_time": "2024-05-29T20:09:28.170Z"
   },
   {
    "duration": 3,
    "start_time": "2024-05-29T20:09:28.177Z"
   },
   {
    "duration": 45,
    "start_time": "2024-05-29T20:09:28.188Z"
   },
   {
    "duration": 3,
    "start_time": "2024-05-29T20:09:28.237Z"
   },
   {
    "duration": 3,
    "start_time": "2024-05-29T20:09:28.244Z"
   },
   {
    "duration": 4,
    "start_time": "2024-05-29T20:09:28.251Z"
   },
   {
    "duration": 3,
    "start_time": "2024-05-29T20:09:28.259Z"
   },
   {
    "duration": 4,
    "start_time": "2024-05-29T20:09:28.266Z"
   },
   {
    "duration": 3,
    "start_time": "2024-05-29T20:09:28.274Z"
   },
   {
    "duration": 3,
    "start_time": "2024-05-29T20:09:28.281Z"
   },
   {
    "duration": 4,
    "start_time": "2024-05-29T20:09:28.335Z"
   },
   {
    "duration": 4,
    "start_time": "2024-05-29T20:09:28.342Z"
   },
   {
    "duration": 4,
    "start_time": "2024-05-29T20:09:28.349Z"
   },
   {
    "duration": 3,
    "start_time": "2024-05-29T20:09:28.357Z"
   },
   {
    "duration": 3,
    "start_time": "2024-05-29T20:09:28.364Z"
   },
   {
    "duration": 4,
    "start_time": "2024-05-29T20:09:28.370Z"
   },
   {
    "duration": 3,
    "start_time": "2024-05-29T20:09:28.378Z"
   },
   {
    "duration": 49,
    "start_time": "2024-05-29T20:09:28.385Z"
   },
   {
    "duration": 4,
    "start_time": "2024-05-29T20:09:28.438Z"
   },
   {
    "duration": 3,
    "start_time": "2024-05-29T20:09:28.446Z"
   },
   {
    "duration": 4,
    "start_time": "2024-05-29T20:09:28.457Z"
   },
   {
    "duration": 4,
    "start_time": "2024-05-29T20:09:28.464Z"
   },
   {
    "duration": 184,
    "start_time": "2024-05-29T20:14:43.921Z"
   },
   {
    "duration": 6,
    "start_time": "2024-05-29T20:14:58.133Z"
   },
   {
    "duration": 275,
    "start_time": "2024-05-29T20:17:57.412Z"
   },
   {
    "duration": 876,
    "start_time": "2024-05-29T20:18:06.894Z"
   },
   {
    "duration": 283,
    "start_time": "2024-05-29T20:18:07.774Z"
   },
   {
    "duration": 4,
    "start_time": "2024-05-29T20:18:08.060Z"
   },
   {
    "duration": 43,
    "start_time": "2024-05-29T20:18:08.070Z"
   },
   {
    "duration": 13,
    "start_time": "2024-05-29T20:18:08.133Z"
   },
   {
    "duration": 17,
    "start_time": "2024-05-29T20:18:08.150Z"
   },
   {
    "duration": 475,
    "start_time": "2024-05-29T20:18:08.171Z"
   },
   {
    "duration": 0,
    "start_time": "2024-05-29T20:18:08.651Z"
   },
   {
    "duration": 0,
    "start_time": "2024-05-29T20:18:08.653Z"
   },
   {
    "duration": 0,
    "start_time": "2024-05-29T20:18:08.654Z"
   },
   {
    "duration": 0,
    "start_time": "2024-05-29T20:18:08.658Z"
   },
   {
    "duration": 0,
    "start_time": "2024-05-29T20:18:08.660Z"
   },
   {
    "duration": 0,
    "start_time": "2024-05-29T20:18:08.662Z"
   },
   {
    "duration": 0,
    "start_time": "2024-05-29T20:18:08.666Z"
   },
   {
    "duration": 0,
    "start_time": "2024-05-29T20:18:08.668Z"
   },
   {
    "duration": 0,
    "start_time": "2024-05-29T20:18:08.671Z"
   },
   {
    "duration": 0,
    "start_time": "2024-05-29T20:18:08.673Z"
   },
   {
    "duration": 0,
    "start_time": "2024-05-29T20:18:08.674Z"
   },
   {
    "duration": 0,
    "start_time": "2024-05-29T20:18:08.676Z"
   },
   {
    "duration": 0,
    "start_time": "2024-05-29T20:18:08.678Z"
   },
   {
    "duration": 0,
    "start_time": "2024-05-29T20:18:08.680Z"
   },
   {
    "duration": 0,
    "start_time": "2024-05-29T20:18:08.682Z"
   },
   {
    "duration": 0,
    "start_time": "2024-05-29T20:18:08.685Z"
   },
   {
    "duration": 0,
    "start_time": "2024-05-29T20:18:08.732Z"
   },
   {
    "duration": 0,
    "start_time": "2024-05-29T20:18:08.734Z"
   },
   {
    "duration": 0,
    "start_time": "2024-05-29T20:18:08.736Z"
   },
   {
    "duration": 0,
    "start_time": "2024-05-29T20:18:08.738Z"
   },
   {
    "duration": 0,
    "start_time": "2024-05-29T20:18:08.739Z"
   },
   {
    "duration": 0,
    "start_time": "2024-05-29T20:18:08.741Z"
   },
   {
    "duration": 0,
    "start_time": "2024-05-29T20:18:08.743Z"
   },
   {
    "duration": 0,
    "start_time": "2024-05-29T20:18:08.746Z"
   },
   {
    "duration": 6,
    "start_time": "2024-05-29T20:18:19.840Z"
   },
   {
    "duration": 4,
    "start_time": "2024-05-29T20:19:00.387Z"
   },
   {
    "duration": 5,
    "start_time": "2024-05-29T20:19:03.847Z"
   },
   {
    "duration": 5,
    "start_time": "2024-05-29T20:19:19.317Z"
   },
   {
    "duration": 6,
    "start_time": "2024-05-29T20:19:21.626Z"
   },
   {
    "duration": 18,
    "start_time": "2024-05-29T20:20:00.670Z"
   },
   {
    "duration": 13,
    "start_time": "2024-05-29T20:24:28.167Z"
   },
   {
    "duration": 14,
    "start_time": "2024-05-29T20:27:36.341Z"
   },
   {
    "duration": 13,
    "start_time": "2024-05-29T20:28:48.675Z"
   },
   {
    "duration": 5,
    "start_time": "2024-05-29T20:30:34.005Z"
   },
   {
    "duration": 17,
    "start_time": "2024-05-29T20:30:39.174Z"
   },
   {
    "duration": 19,
    "start_time": "2024-05-29T20:31:05.630Z"
   },
   {
    "duration": 17,
    "start_time": "2024-05-29T20:31:16.993Z"
   },
   {
    "duration": 20,
    "start_time": "2024-05-29T20:31:21.320Z"
   },
   {
    "duration": 19,
    "start_time": "2024-05-29T20:32:00.254Z"
   },
   {
    "duration": 20,
    "start_time": "2024-05-29T20:32:21.611Z"
   },
   {
    "duration": 8,
    "start_time": "2024-05-29T20:42:35.379Z"
   },
   {
    "duration": 898,
    "start_time": "2024-05-29T20:58:38.381Z"
   },
   {
    "duration": 267,
    "start_time": "2024-05-29T20:58:39.283Z"
   },
   {
    "duration": 4,
    "start_time": "2024-05-29T20:58:39.553Z"
   },
   {
    "duration": 16,
    "start_time": "2024-05-29T20:58:39.562Z"
   },
   {
    "duration": 18,
    "start_time": "2024-05-29T20:58:39.581Z"
   },
   {
    "duration": 32,
    "start_time": "2024-05-29T20:58:39.602Z"
   },
   {
    "duration": 15,
    "start_time": "2024-05-29T20:58:39.637Z"
   },
   {
    "duration": 13,
    "start_time": "2024-05-29T20:58:39.656Z"
   },
   {
    "duration": 60,
    "start_time": "2024-05-29T20:58:39.672Z"
   },
   {
    "duration": 7,
    "start_time": "2024-05-29T20:58:39.738Z"
   },
   {
    "duration": 4,
    "start_time": "2024-05-29T20:58:39.747Z"
   },
   {
    "duration": 3,
    "start_time": "2024-05-29T20:58:39.754Z"
   },
   {
    "duration": 2,
    "start_time": "2024-05-29T20:58:39.762Z"
   },
   {
    "duration": 3,
    "start_time": "2024-05-29T20:58:39.768Z"
   },
   {
    "duration": 4,
    "start_time": "2024-05-29T20:58:39.775Z"
   },
   {
    "duration": 53,
    "start_time": "2024-05-29T20:58:39.781Z"
   },
   {
    "duration": 3,
    "start_time": "2024-05-29T20:58:39.838Z"
   },
   {
    "duration": 4,
    "start_time": "2024-05-29T20:58:39.845Z"
   },
   {
    "duration": 3,
    "start_time": "2024-05-29T20:58:39.852Z"
   },
   {
    "duration": 3,
    "start_time": "2024-05-29T20:58:39.858Z"
   },
   {
    "duration": 3,
    "start_time": "2024-05-29T20:58:39.864Z"
   },
   {
    "duration": 4,
    "start_time": "2024-05-29T20:58:39.870Z"
   },
   {
    "duration": 57,
    "start_time": "2024-05-29T20:58:39.877Z"
   },
   {
    "duration": 8,
    "start_time": "2024-05-29T20:58:39.937Z"
   },
   {
    "duration": 6,
    "start_time": "2024-05-29T20:58:39.947Z"
   },
   {
    "duration": 3,
    "start_time": "2024-05-29T20:58:39.956Z"
   },
   {
    "duration": 3,
    "start_time": "2024-05-29T20:58:39.962Z"
   },
   {
    "duration": 3,
    "start_time": "2024-05-29T20:58:39.972Z"
   },
   {
    "duration": 3,
    "start_time": "2024-05-29T20:58:39.979Z"
   },
   {
    "duration": 3,
    "start_time": "2024-05-29T20:58:40.034Z"
   },
   {
    "duration": 3,
    "start_time": "2024-05-29T20:58:40.041Z"
   },
   {
    "duration": 4,
    "start_time": "2024-05-29T20:58:40.047Z"
   },
   {
    "duration": 25,
    "start_time": "2024-05-29T20:59:00.958Z"
   },
   {
    "duration": 10,
    "start_time": "2024-05-29T20:59:29.805Z"
   },
   {
    "duration": 43,
    "start_time": "2024-05-29T21:00:56.550Z"
   },
   {
    "duration": 53,
    "start_time": "2024-05-29T21:06:13.591Z"
   },
   {
    "duration": 19,
    "start_time": "2024-05-29T21:09:13.490Z"
   },
   {
    "duration": 469,
    "start_time": "2024-05-29T21:09:14.040Z"
   },
   {
    "duration": 10,
    "start_time": "2024-05-29T21:09:18.441Z"
   },
   {
    "duration": 308,
    "start_time": "2024-05-29T21:13:19.529Z"
   },
   {
    "duration": 32,
    "start_time": "2024-05-29T21:13:28.535Z"
   },
   {
    "duration": 26,
    "start_time": "2024-05-29T21:14:17.741Z"
   },
   {
    "duration": 22,
    "start_time": "2024-05-29T21:18:00.080Z"
   },
   {
    "duration": 13,
    "start_time": "2024-05-29T21:18:14.630Z"
   },
   {
    "duration": 36,
    "start_time": "2024-05-29T21:20:58.277Z"
   },
   {
    "duration": 63,
    "start_time": "2024-05-29T21:22:16.780Z"
   },
   {
    "duration": 56,
    "start_time": "2024-05-29T21:22:33.322Z"
   },
   {
    "duration": 14,
    "start_time": "2024-05-29T21:23:09.994Z"
   },
   {
    "duration": 72,
    "start_time": "2024-05-29T23:02:29.162Z"
   },
   {
    "duration": 71,
    "start_time": "2024-05-29T23:03:06.158Z"
   },
   {
    "duration": 74,
    "start_time": "2024-05-29T23:04:48.034Z"
   },
   {
    "duration": 922,
    "start_time": "2024-05-29T23:07:41.843Z"
   },
   {
    "duration": 273,
    "start_time": "2024-05-29T23:07:42.769Z"
   },
   {
    "duration": 5,
    "start_time": "2024-05-29T23:07:43.045Z"
   },
   {
    "duration": 20,
    "start_time": "2024-05-29T23:07:43.053Z"
   },
   {
    "duration": 21,
    "start_time": "2024-05-29T23:07:43.081Z"
   },
   {
    "duration": 35,
    "start_time": "2024-05-29T23:07:43.105Z"
   },
   {
    "duration": 17,
    "start_time": "2024-05-29T23:07:43.144Z"
   },
   {
    "duration": 16,
    "start_time": "2024-05-29T23:07:43.165Z"
   },
   {
    "duration": 58,
    "start_time": "2024-05-29T23:07:43.183Z"
   },
   {
    "duration": 8,
    "start_time": "2024-05-29T23:07:43.245Z"
   },
   {
    "duration": 25,
    "start_time": "2024-05-29T23:07:43.256Z"
   },
   {
    "duration": 11,
    "start_time": "2024-05-29T23:07:43.284Z"
   },
   {
    "duration": 43,
    "start_time": "2024-05-29T23:07:43.334Z"
   },
   {
    "duration": 70,
    "start_time": "2024-05-29T23:07:43.385Z"
   },
   {
    "duration": 21,
    "start_time": "2024-05-29T23:07:43.458Z"
   },
   {
    "duration": 10,
    "start_time": "2024-05-29T23:07:43.482Z"
   },
   {
    "duration": 59,
    "start_time": "2024-05-29T23:07:43.495Z"
   },
   {
    "duration": 23,
    "start_time": "2024-05-29T23:07:43.556Z"
   },
   {
    "duration": 56,
    "start_time": "2024-05-29T23:07:43.582Z"
   },
   {
    "duration": 12,
    "start_time": "2024-05-29T23:07:43.640Z"
   },
   {
    "duration": 35,
    "start_time": "2024-05-29T23:07:43.656Z"
   },
   {
    "duration": 83,
    "start_time": "2024-05-29T23:07:43.694Z"
   },
   {
    "duration": 12,
    "start_time": "2024-05-29T23:07:43.780Z"
   },
   {
    "duration": 112,
    "start_time": "2024-05-29T23:07:43.795Z"
   },
   {
    "duration": 925,
    "start_time": "2024-05-29T23:10:16.481Z"
   },
   {
    "duration": 277,
    "start_time": "2024-05-29T23:10:17.410Z"
   },
   {
    "duration": 5,
    "start_time": "2024-05-29T23:10:17.689Z"
   },
   {
    "duration": 32,
    "start_time": "2024-05-29T23:10:17.700Z"
   },
   {
    "duration": 19,
    "start_time": "2024-05-29T23:10:17.735Z"
   },
   {
    "duration": 7,
    "start_time": "2024-05-29T23:10:17.757Z"
   },
   {
    "duration": 15,
    "start_time": "2024-05-29T23:10:17.767Z"
   },
   {
    "duration": 51,
    "start_time": "2024-05-29T23:10:17.784Z"
   },
   {
    "duration": 18,
    "start_time": "2024-05-29T23:10:17.839Z"
   },
   {
    "duration": 9,
    "start_time": "2024-05-29T23:10:17.863Z"
   },
   {
    "duration": 65,
    "start_time": "2024-05-29T23:10:17.876Z"
   },
   {
    "duration": 13,
    "start_time": "2024-05-29T23:10:17.944Z"
   },
   {
    "duration": 43,
    "start_time": "2024-05-29T23:10:17.960Z"
   },
   {
    "duration": 77,
    "start_time": "2024-05-29T23:10:18.006Z"
   },
   {
    "duration": 48,
    "start_time": "2024-05-29T23:10:18.087Z"
   },
   {
    "duration": 11,
    "start_time": "2024-05-29T23:10:18.138Z"
   },
   {
    "duration": 29,
    "start_time": "2024-05-29T23:10:18.152Z"
   },
   {
    "duration": 56,
    "start_time": "2024-05-29T23:10:18.184Z"
   },
   {
    "duration": 22,
    "start_time": "2024-05-29T23:10:18.243Z"
   },
   {
    "duration": 15,
    "start_time": "2024-05-29T23:10:18.270Z"
   },
   {
    "duration": 79,
    "start_time": "2024-05-29T23:10:18.288Z"
   },
   {
    "duration": 85,
    "start_time": "2024-05-29T23:10:18.369Z"
   },
   {
    "duration": 13,
    "start_time": "2024-05-29T23:10:18.457Z"
   },
   {
    "duration": 158,
    "start_time": "2024-05-29T23:10:18.472Z"
   },
   {
    "duration": 3,
    "start_time": "2024-05-29T23:10:18.634Z"
   },
   {
    "duration": 3,
    "start_time": "2024-05-29T23:10:18.641Z"
   },
   {
    "duration": 5,
    "start_time": "2024-05-29T23:10:18.647Z"
   },
   {
    "duration": 3,
    "start_time": "2024-05-29T23:10:18.660Z"
   },
   {
    "duration": 3,
    "start_time": "2024-05-29T23:10:18.667Z"
   },
   {
    "duration": 3,
    "start_time": "2024-05-29T23:10:18.674Z"
   },
   {
    "duration": 56,
    "start_time": "2024-05-29T23:10:18.680Z"
   },
   {
    "duration": 3,
    "start_time": "2024-05-29T23:10:18.739Z"
   },
   {
    "duration": 4,
    "start_time": "2024-05-29T23:10:18.746Z"
   },
   {
    "duration": 4,
    "start_time": "2024-05-29T23:10:18.754Z"
   },
   {
    "duration": 4,
    "start_time": "2024-05-29T23:10:18.762Z"
   },
   {
    "duration": 3,
    "start_time": "2024-05-29T23:10:18.769Z"
   },
   {
    "duration": 60,
    "start_time": "2024-05-29T23:10:18.775Z"
   },
   {
    "duration": 5,
    "start_time": "2024-05-29T23:10:18.839Z"
   },
   {
    "duration": 970,
    "start_time": "2024-05-29T23:12:08.617Z"
   },
   {
    "duration": 278,
    "start_time": "2024-05-29T23:12:09.593Z"
   },
   {
    "duration": 4,
    "start_time": "2024-05-29T23:12:09.874Z"
   },
   {
    "duration": 17,
    "start_time": "2024-05-29T23:12:09.882Z"
   },
   {
    "duration": 42,
    "start_time": "2024-05-29T23:12:09.906Z"
   },
   {
    "duration": 7,
    "start_time": "2024-05-29T23:12:09.951Z"
   },
   {
    "duration": 16,
    "start_time": "2024-05-29T23:12:09.961Z"
   },
   {
    "duration": 14,
    "start_time": "2024-05-29T23:12:09.981Z"
   },
   {
    "duration": 19,
    "start_time": "2024-05-29T23:12:10.033Z"
   },
   {
    "duration": 8,
    "start_time": "2024-05-29T23:12:10.056Z"
   },
   {
    "duration": 24,
    "start_time": "2024-05-29T23:12:10.067Z"
   },
   {
    "duration": 12,
    "start_time": "2024-05-29T23:12:10.134Z"
   },
   {
    "duration": 43,
    "start_time": "2024-05-29T23:12:10.150Z"
   },
   {
    "duration": 73,
    "start_time": "2024-05-29T23:12:10.202Z"
   },
   {
    "duration": 20,
    "start_time": "2024-05-29T23:12:10.277Z"
   },
   {
    "duration": 35,
    "start_time": "2024-05-29T23:12:10.300Z"
   },
   {
    "duration": 30,
    "start_time": "2024-05-29T23:12:10.338Z"
   },
   {
    "duration": 23,
    "start_time": "2024-05-29T23:12:10.371Z"
   },
   {
    "duration": 56,
    "start_time": "2024-05-29T23:12:10.397Z"
   },
   {
    "duration": 12,
    "start_time": "2024-05-29T23:12:10.456Z"
   },
   {
    "duration": 69,
    "start_time": "2024-05-29T23:12:10.472Z"
   },
   {
    "duration": 59,
    "start_time": "2024-05-29T23:12:10.545Z"
   },
   {
    "duration": 30,
    "start_time": "2024-05-29T23:12:10.607Z"
   },
   {
    "duration": 69,
    "start_time": "2024-05-29T23:12:10.640Z"
   },
   {
    "duration": 87,
    "start_time": "2024-05-29T23:12:10.711Z"
   },
   {
    "duration": 3,
    "start_time": "2024-05-29T23:12:10.801Z"
   },
   {
    "duration": 3,
    "start_time": "2024-05-29T23:12:10.807Z"
   },
   {
    "duration": 3,
    "start_time": "2024-05-29T23:12:10.813Z"
   },
   {
    "duration": 4,
    "start_time": "2024-05-29T23:12:10.834Z"
   },
   {
    "duration": 3,
    "start_time": "2024-05-29T23:12:10.841Z"
   },
   {
    "duration": 4,
    "start_time": "2024-05-29T23:12:10.847Z"
   },
   {
    "duration": 4,
    "start_time": "2024-05-29T23:12:10.854Z"
   },
   {
    "duration": 3,
    "start_time": "2024-05-29T23:12:10.862Z"
   },
   {
    "duration": 4,
    "start_time": "2024-05-29T23:12:10.868Z"
   },
   {
    "duration": 59,
    "start_time": "2024-05-29T23:12:10.875Z"
   },
   {
    "duration": 4,
    "start_time": "2024-05-29T23:12:10.937Z"
   },
   {
    "duration": 4,
    "start_time": "2024-05-29T23:12:10.944Z"
   },
   {
    "duration": 4,
    "start_time": "2024-05-29T23:12:10.950Z"
   },
   {
    "duration": 3,
    "start_time": "2024-05-29T23:12:10.957Z"
   },
   {
    "duration": 880,
    "start_time": "2024-05-29T23:13:42.569Z"
   },
   {
    "duration": 288,
    "start_time": "2024-05-29T23:13:43.453Z"
   },
   {
    "duration": 3,
    "start_time": "2024-05-29T23:13:43.744Z"
   },
   {
    "duration": 18,
    "start_time": "2024-05-29T23:13:43.750Z"
   },
   {
    "duration": 18,
    "start_time": "2024-05-29T23:13:43.772Z"
   },
   {
    "duration": 6,
    "start_time": "2024-05-29T23:13:43.793Z"
   },
   {
    "duration": 15,
    "start_time": "2024-05-29T23:13:43.834Z"
   },
   {
    "duration": 14,
    "start_time": "2024-05-29T23:13:43.852Z"
   },
   {
    "duration": 18,
    "start_time": "2024-05-29T23:13:43.869Z"
   },
   {
    "duration": 8,
    "start_time": "2024-05-29T23:13:43.932Z"
   },
   {
    "duration": 25,
    "start_time": "2024-05-29T23:13:43.943Z"
   },
   {
    "duration": 11,
    "start_time": "2024-05-29T23:13:43.970Z"
   },
   {
    "duration": 77,
    "start_time": "2024-05-29T23:13:43.984Z"
   },
   {
    "duration": 77,
    "start_time": "2024-05-29T23:13:44.067Z"
   },
   {
    "duration": 20,
    "start_time": "2024-05-29T23:13:44.146Z"
   },
   {
    "duration": 10,
    "start_time": "2024-05-29T23:13:44.169Z"
   },
   {
    "duration": 61,
    "start_time": "2024-05-29T23:13:44.182Z"
   },
   {
    "duration": 22,
    "start_time": "2024-05-29T23:13:44.245Z"
   },
   {
    "duration": 21,
    "start_time": "2024-05-29T23:13:44.270Z"
   },
   {
    "duration": 40,
    "start_time": "2024-05-29T23:13:44.294Z"
   },
   {
    "duration": 37,
    "start_time": "2024-05-29T23:13:44.337Z"
   },
   {
    "duration": 86,
    "start_time": "2024-05-29T23:13:44.377Z"
   },
   {
    "duration": 12,
    "start_time": "2024-05-29T23:13:44.466Z"
   },
   {
    "duration": 96,
    "start_time": "2024-05-29T23:13:44.482Z"
   },
   {
    "duration": 33,
    "start_time": "2024-05-29T23:13:44.581Z"
   },
   {
    "duration": 18,
    "start_time": "2024-05-29T23:13:44.616Z"
   },
   {
    "duration": 3,
    "start_time": "2024-05-29T23:13:44.637Z"
   },
   {
    "duration": 4,
    "start_time": "2024-05-29T23:13:44.643Z"
   },
   {
    "duration": 3,
    "start_time": "2024-05-29T23:13:44.650Z"
   },
   {
    "duration": 3,
    "start_time": "2024-05-29T23:13:44.656Z"
   },
   {
    "duration": 3,
    "start_time": "2024-05-29T23:13:44.663Z"
   },
   {
    "duration": 4,
    "start_time": "2024-05-29T23:13:44.670Z"
   },
   {
    "duration": 4,
    "start_time": "2024-05-29T23:13:44.734Z"
   },
   {
    "duration": 4,
    "start_time": "2024-05-29T23:13:44.742Z"
   },
   {
    "duration": 4,
    "start_time": "2024-05-29T23:13:44.750Z"
   },
   {
    "duration": 4,
    "start_time": "2024-05-29T23:13:44.757Z"
   },
   {
    "duration": 4,
    "start_time": "2024-05-29T23:13:44.764Z"
   },
   {
    "duration": 4,
    "start_time": "2024-05-29T23:13:44.771Z"
   },
   {
    "duration": 54,
    "start_time": "2024-05-29T23:13:44.779Z"
   },
   {
    "duration": 79,
    "start_time": "2024-05-29T23:14:09.695Z"
   },
   {
    "duration": 72,
    "start_time": "2024-05-29T23:14:32.095Z"
   },
   {
    "duration": 30,
    "start_time": "2024-05-29T23:15:31.753Z"
   },
   {
    "duration": 40,
    "start_time": "2024-05-29T23:15:36.005Z"
   },
   {
    "duration": 30,
    "start_time": "2024-05-29T23:15:53.460Z"
   },
   {
    "duration": 30,
    "start_time": "2024-05-29T23:16:01.168Z"
   },
   {
    "duration": 35,
    "start_time": "2024-05-29T23:16:18.019Z"
   },
   {
    "duration": 33,
    "start_time": "2024-05-29T23:16:38.965Z"
   },
   {
    "duration": 47,
    "start_time": "2024-05-29T23:17:13.830Z"
   },
   {
    "duration": 66,
    "start_time": "2024-05-29T23:17:31.502Z"
   },
   {
    "duration": 56,
    "start_time": "2024-05-29T23:17:59.272Z"
   },
   {
    "duration": 64,
    "start_time": "2024-05-29T23:18:34.050Z"
   },
   {
    "duration": 1079,
    "start_time": "2024-05-29T23:20:17.631Z"
   },
   {
    "duration": 24,
    "start_time": "2024-05-29T23:20:38.619Z"
   },
   {
    "duration": 26,
    "start_time": "2024-05-29T23:20:45.151Z"
   },
   {
    "duration": 50,
    "start_time": "2024-05-29T23:21:13.060Z"
   },
   {
    "duration": 379,
    "start_time": "2024-05-30T03:33:19.830Z"
   },
   {
    "duration": 25,
    "start_time": "2024-05-30T03:33:23.443Z"
   },
   {
    "duration": 947,
    "start_time": "2024-05-30T03:33:43.619Z"
   },
   {
    "duration": 375,
    "start_time": "2024-05-30T03:33:44.570Z"
   },
   {
    "duration": 4,
    "start_time": "2024-05-30T03:33:44.948Z"
   },
   {
    "duration": 16,
    "start_time": "2024-05-30T03:33:44.959Z"
   },
   {
    "duration": 38,
    "start_time": "2024-05-30T03:33:44.978Z"
   },
   {
    "duration": 7,
    "start_time": "2024-05-30T03:33:45.019Z"
   },
   {
    "duration": 14,
    "start_time": "2024-05-30T03:33:45.029Z"
   },
   {
    "duration": 14,
    "start_time": "2024-05-30T03:33:45.046Z"
   },
   {
    "duration": 58,
    "start_time": "2024-05-30T03:33:45.062Z"
   },
   {
    "duration": 7,
    "start_time": "2024-05-30T03:33:45.127Z"
   },
   {
    "duration": 25,
    "start_time": "2024-05-30T03:33:45.137Z"
   },
   {
    "duration": 44,
    "start_time": "2024-05-30T03:33:45.165Z"
   },
   {
    "duration": 45,
    "start_time": "2024-05-30T03:33:45.212Z"
   },
   {
    "duration": 75,
    "start_time": "2024-05-30T03:33:45.260Z"
   },
   {
    "duration": 19,
    "start_time": "2024-05-30T03:33:45.339Z"
   },
   {
    "duration": 10,
    "start_time": "2024-05-30T03:33:45.360Z"
   },
   {
    "duration": 58,
    "start_time": "2024-05-30T03:33:45.374Z"
   },
   {
    "duration": 22,
    "start_time": "2024-05-30T03:33:45.435Z"
   },
   {
    "duration": 52,
    "start_time": "2024-05-30T03:33:45.460Z"
   },
   {
    "duration": 12,
    "start_time": "2024-05-30T03:33:45.518Z"
   },
   {
    "duration": 36,
    "start_time": "2024-05-30T03:33:45.533Z"
   },
   {
    "duration": 87,
    "start_time": "2024-05-30T03:33:45.571Z"
   },
   {
    "duration": 12,
    "start_time": "2024-05-30T03:33:45.661Z"
   },
   {
    "duration": 102,
    "start_time": "2024-05-30T03:33:45.676Z"
   },
   {
    "duration": 610,
    "start_time": "2024-05-30T03:33:45.781Z"
   },
   {
    "duration": 0,
    "start_time": "2024-05-30T03:33:46.395Z"
   },
   {
    "duration": 0,
    "start_time": "2024-05-30T03:33:46.405Z"
   },
   {
    "duration": 0,
    "start_time": "2024-05-30T03:33:46.407Z"
   },
   {
    "duration": 0,
    "start_time": "2024-05-30T03:33:46.410Z"
   },
   {
    "duration": 0,
    "start_time": "2024-05-30T03:33:46.412Z"
   },
   {
    "duration": 0,
    "start_time": "2024-05-30T03:33:46.414Z"
   },
   {
    "duration": 0,
    "start_time": "2024-05-30T03:33:46.417Z"
   },
   {
    "duration": 0,
    "start_time": "2024-05-30T03:33:46.419Z"
   },
   {
    "duration": 0,
    "start_time": "2024-05-30T03:33:46.422Z"
   },
   {
    "duration": 0,
    "start_time": "2024-05-30T03:33:46.424Z"
   },
   {
    "duration": 0,
    "start_time": "2024-05-30T03:33:46.427Z"
   },
   {
    "duration": 0,
    "start_time": "2024-05-30T03:33:46.429Z"
   },
   {
    "duration": 0,
    "start_time": "2024-05-30T03:33:46.431Z"
   },
   {
    "duration": 0,
    "start_time": "2024-05-30T03:33:46.433Z"
   },
   {
    "duration": 62,
    "start_time": "2024-05-30T03:33:52.126Z"
   },
   {
    "duration": 121,
    "start_time": "2024-05-30T03:34:30.764Z"
   },
   {
    "duration": 61,
    "start_time": "2024-05-30T03:34:48.544Z"
   },
   {
    "duration": 52,
    "start_time": "2024-05-30T03:35:12.561Z"
   },
   {
    "duration": 23,
    "start_time": "2024-05-30T03:37:37.771Z"
   },
   {
    "duration": 24,
    "start_time": "2024-05-30T03:37:51.898Z"
   },
   {
    "duration": 44,
    "start_time": "2024-05-30T03:37:59.607Z"
   },
   {
    "duration": 52,
    "start_time": "2024-05-30T03:38:15.074Z"
   },
   {
    "duration": 37,
    "start_time": "2024-05-30T03:40:09.046Z"
   },
   {
    "duration": 52,
    "start_time": "2024-05-30T03:40:32.188Z"
   },
   {
    "duration": 153,
    "start_time": "2024-05-30T03:44:18.777Z"
   },
   {
    "duration": 153,
    "start_time": "2024-05-30T03:44:26.541Z"
   },
   {
    "duration": 103,
    "start_time": "2024-05-30T03:46:45.559Z"
   },
   {
    "duration": 72,
    "start_time": "2024-05-30T03:46:52.610Z"
   },
   {
    "duration": 12,
    "start_time": "2024-05-30T03:48:26.729Z"
   },
   {
    "duration": 12,
    "start_time": "2024-05-30T03:48:30.752Z"
   },
   {
    "duration": 22,
    "start_time": "2024-05-30T03:48:48.385Z"
   },
   {
    "duration": 62,
    "start_time": "2024-05-30T03:48:50.346Z"
   },
   {
    "duration": 869,
    "start_time": "2024-05-30T03:49:25.485Z"
   },
   {
    "duration": 273,
    "start_time": "2024-05-30T03:49:26.358Z"
   },
   {
    "duration": 5,
    "start_time": "2024-05-30T03:49:26.634Z"
   },
   {
    "duration": 17,
    "start_time": "2024-05-30T03:49:26.642Z"
   },
   {
    "duration": 18,
    "start_time": "2024-05-30T03:49:26.664Z"
   },
   {
    "duration": 12,
    "start_time": "2024-05-30T03:49:26.707Z"
   },
   {
    "duration": 17,
    "start_time": "2024-05-30T03:49:26.723Z"
   },
   {
    "duration": 16,
    "start_time": "2024-05-30T03:49:26.743Z"
   },
   {
    "duration": 58,
    "start_time": "2024-05-30T03:49:26.762Z"
   },
   {
    "duration": 9,
    "start_time": "2024-05-30T03:49:26.823Z"
   },
   {
    "duration": 26,
    "start_time": "2024-05-30T03:49:26.834Z"
   },
   {
    "duration": 49,
    "start_time": "2024-05-30T03:49:26.863Z"
   },
   {
    "duration": 45,
    "start_time": "2024-05-30T03:49:26.915Z"
   },
   {
    "duration": 74,
    "start_time": "2024-05-30T03:49:26.968Z"
   },
   {
    "duration": 20,
    "start_time": "2024-05-30T03:49:27.045Z"
   },
   {
    "duration": 10,
    "start_time": "2024-05-30T03:49:27.068Z"
   },
   {
    "duration": 29,
    "start_time": "2024-05-30T03:49:27.108Z"
   },
   {
    "duration": 23,
    "start_time": "2024-05-30T03:49:27.140Z"
   },
   {
    "duration": 55,
    "start_time": "2024-05-30T03:49:27.166Z"
   },
   {
    "duration": 12,
    "start_time": "2024-05-30T03:49:27.224Z"
   },
   {
    "duration": 35,
    "start_time": "2024-05-30T03:49:27.239Z"
   },
   {
    "duration": 60,
    "start_time": "2024-05-30T03:49:27.307Z"
   },
   {
    "duration": 13,
    "start_time": "2024-05-30T03:49:27.370Z"
   },
   {
    "duration": 100,
    "start_time": "2024-05-30T03:49:27.406Z"
   },
   {
    "duration": 62,
    "start_time": "2024-05-30T03:49:27.509Z"
   },
   {
    "duration": 67,
    "start_time": "2024-05-30T03:49:27.574Z"
   },
   {
    "duration": 62,
    "start_time": "2024-05-30T03:49:27.644Z"
   },
   {
    "duration": 42,
    "start_time": "2024-05-30T03:49:27.709Z"
   },
   {
    "duration": 88,
    "start_time": "2024-05-30T03:49:27.754Z"
   },
   {
    "duration": 1119,
    "start_time": "2024-05-30T03:49:27.846Z"
   },
   {
    "duration": 0,
    "start_time": "2024-05-30T03:49:28.969Z"
   },
   {
    "duration": 0,
    "start_time": "2024-05-30T03:49:28.972Z"
   },
   {
    "duration": 0,
    "start_time": "2024-05-30T03:49:28.975Z"
   },
   {
    "duration": 0,
    "start_time": "2024-05-30T03:49:28.978Z"
   },
   {
    "duration": 0,
    "start_time": "2024-05-30T03:49:29.005Z"
   },
   {
    "duration": 0,
    "start_time": "2024-05-30T03:49:29.008Z"
   },
   {
    "duration": 0,
    "start_time": "2024-05-30T03:49:29.011Z"
   },
   {
    "duration": 0,
    "start_time": "2024-05-30T03:49:29.013Z"
   },
   {
    "duration": 0,
    "start_time": "2024-05-30T03:49:29.016Z"
   },
   {
    "duration": 0,
    "start_time": "2024-05-30T03:49:29.019Z"
   },
   {
    "duration": 0,
    "start_time": "2024-05-30T03:49:29.023Z"
   },
   {
    "duration": 38,
    "start_time": "2024-05-30T03:49:57.406Z"
   },
   {
    "duration": 41,
    "start_time": "2024-05-30T03:50:05.530Z"
   },
   {
    "duration": 38,
    "start_time": "2024-05-30T03:50:33.852Z"
   },
   {
    "duration": 562,
    "start_time": "2024-05-30T03:51:04.028Z"
   },
   {
    "duration": 54,
    "start_time": "2024-05-30T03:51:14.218Z"
   },
   {
    "duration": 2464,
    "start_time": "2024-05-30T03:53:13.935Z"
   },
   {
    "duration": 68,
    "start_time": "2024-05-30T03:53:21.502Z"
   },
   {
    "duration": 2895,
    "start_time": "2024-05-30T03:53:28.974Z"
   },
   {
    "duration": 74,
    "start_time": "2024-05-30T03:53:53.952Z"
   },
   {
    "duration": 358,
    "start_time": "2024-05-30T03:54:09.855Z"
   },
   {
    "duration": 242,
    "start_time": "2024-05-30T03:54:36.854Z"
   },
   {
    "duration": 477,
    "start_time": "2024-05-30T03:54:44.636Z"
   },
   {
    "duration": 296,
    "start_time": "2024-05-30T03:54:53.065Z"
   },
   {
    "duration": 629,
    "start_time": "2024-05-30T03:55:08.647Z"
   },
   {
    "duration": 391,
    "start_time": "2024-05-30T03:55:26.274Z"
   },
   {
    "duration": 806,
    "start_time": "2024-05-30T03:55:31.309Z"
   },
   {
    "duration": 51,
    "start_time": "2024-05-30T03:56:25.003Z"
   },
   {
    "duration": 51,
    "start_time": "2024-05-30T03:56:30.040Z"
   },
   {
    "duration": 57,
    "start_time": "2024-05-30T03:56:51.770Z"
   },
   {
    "duration": 944,
    "start_time": "2024-05-30T04:05:37.808Z"
   },
   {
    "duration": 276,
    "start_time": "2024-05-30T04:05:38.755Z"
   },
   {
    "duration": 4,
    "start_time": "2024-05-30T04:05:39.034Z"
   },
   {
    "duration": 18,
    "start_time": "2024-05-30T04:05:39.042Z"
   },
   {
    "duration": 19,
    "start_time": "2024-05-30T04:05:39.062Z"
   },
   {
    "duration": 8,
    "start_time": "2024-05-30T04:05:39.108Z"
   },
   {
    "duration": 16,
    "start_time": "2024-05-30T04:05:39.120Z"
   },
   {
    "duration": 13,
    "start_time": "2024-05-30T04:05:39.139Z"
   },
   {
    "duration": 55,
    "start_time": "2024-05-30T04:05:39.156Z"
   },
   {
    "duration": 7,
    "start_time": "2024-05-30T04:05:39.218Z"
   },
   {
    "duration": 25,
    "start_time": "2024-05-30T04:05:39.229Z"
   },
   {
    "duration": 49,
    "start_time": "2024-05-30T04:05:39.257Z"
   },
   {
    "duration": 44,
    "start_time": "2024-05-30T04:05:39.310Z"
   },
   {
    "duration": 77,
    "start_time": "2024-05-30T04:05:39.357Z"
   },
   {
    "duration": 26,
    "start_time": "2024-05-30T04:05:39.440Z"
   },
   {
    "duration": 25,
    "start_time": "2024-05-30T04:05:39.472Z"
   },
   {
    "duration": 30,
    "start_time": "2024-05-30T04:05:39.507Z"
   },
   {
    "duration": 23,
    "start_time": "2024-05-30T04:05:39.539Z"
   },
   {
    "duration": 55,
    "start_time": "2024-05-30T04:05:39.566Z"
   },
   {
    "duration": 13,
    "start_time": "2024-05-30T04:05:39.624Z"
   },
   {
    "duration": 35,
    "start_time": "2024-05-30T04:05:39.640Z"
   },
   {
    "duration": 57,
    "start_time": "2024-05-30T04:05:39.707Z"
   },
   {
    "duration": 12,
    "start_time": "2024-05-30T04:05:39.767Z"
   },
   {
    "duration": 85,
    "start_time": "2024-05-30T04:05:39.805Z"
   },
   {
    "duration": 36,
    "start_time": "2024-05-30T04:05:39.906Z"
   },
   {
    "duration": 16,
    "start_time": "2024-05-30T04:05:39.946Z"
   },
   {
    "duration": 77,
    "start_time": "2024-05-30T04:05:39.965Z"
   },
   {
    "duration": 27,
    "start_time": "2024-05-30T04:05:40.048Z"
   },
   {
    "duration": 83,
    "start_time": "2024-05-30T04:05:40.078Z"
   },
   {
    "duration": 49,
    "start_time": "2024-05-30T04:05:40.165Z"
   },
   {
    "duration": 58,
    "start_time": "2024-05-30T04:05:40.217Z"
   },
   {
    "duration": 117,
    "start_time": "2024-05-30T04:05:40.278Z"
   },
   {
    "duration": 10,
    "start_time": "2024-05-30T04:05:40.398Z"
   },
   {
    "duration": 4,
    "start_time": "2024-05-30T04:05:40.411Z"
   },
   {
    "duration": 3,
    "start_time": "2024-05-30T04:05:40.418Z"
   },
   {
    "duration": 4,
    "start_time": "2024-05-30T04:05:40.424Z"
   },
   {
    "duration": 3,
    "start_time": "2024-05-30T04:05:40.432Z"
   },
   {
    "duration": 4,
    "start_time": "2024-05-30T04:05:40.438Z"
   },
   {
    "duration": 61,
    "start_time": "2024-05-30T04:05:40.445Z"
   },
   {
    "duration": 5,
    "start_time": "2024-05-30T04:05:40.510Z"
   },
   {
    "duration": 4,
    "start_time": "2024-05-30T04:05:40.522Z"
   },
   {
    "duration": 936,
    "start_time": "2024-05-30T04:06:27.724Z"
   },
   {
    "duration": 294,
    "start_time": "2024-05-30T04:06:28.664Z"
   },
   {
    "duration": 5,
    "start_time": "2024-05-30T04:06:28.960Z"
   },
   {
    "duration": 16,
    "start_time": "2024-05-30T04:06:28.970Z"
   },
   {
    "duration": 33,
    "start_time": "2024-05-30T04:06:28.988Z"
   },
   {
    "duration": 7,
    "start_time": "2024-05-30T04:06:29.023Z"
   },
   {
    "duration": 17,
    "start_time": "2024-05-30T04:06:29.033Z"
   },
   {
    "duration": 54,
    "start_time": "2024-05-30T04:06:29.054Z"
   },
   {
    "duration": 21,
    "start_time": "2024-05-30T04:06:29.112Z"
   },
   {
    "duration": 7,
    "start_time": "2024-05-30T04:06:29.141Z"
   },
   {
    "duration": 67,
    "start_time": "2024-05-30T04:06:29.151Z"
   },
   {
    "duration": 11,
    "start_time": "2024-05-30T04:06:29.221Z"
   },
   {
    "duration": 46,
    "start_time": "2024-05-30T04:06:29.234Z"
   },
   {
    "duration": 47,
    "start_time": "2024-05-30T04:06:29.307Z"
   },
   {
    "duration": 20,
    "start_time": "2024-05-30T04:06:29.357Z"
   },
   {
    "duration": 35,
    "start_time": "2024-05-30T04:06:29.380Z"
   },
   {
    "duration": 29,
    "start_time": "2024-05-30T04:06:29.419Z"
   },
   {
    "duration": 56,
    "start_time": "2024-05-30T04:06:29.452Z"
   },
   {
    "duration": 22,
    "start_time": "2024-05-30T04:06:29.511Z"
   },
   {
    "duration": 13,
    "start_time": "2024-05-30T04:06:29.536Z"
   },
   {
    "duration": 67,
    "start_time": "2024-05-30T04:06:29.552Z"
   },
   {
    "duration": 58,
    "start_time": "2024-05-30T04:06:29.623Z"
   },
   {
    "duration": 28,
    "start_time": "2024-05-30T04:06:29.687Z"
   },
   {
    "duration": 104,
    "start_time": "2024-05-30T04:06:29.718Z"
   },
   {
    "duration": 38,
    "start_time": "2024-05-30T04:06:29.826Z"
   },
   {
    "duration": 42,
    "start_time": "2024-05-30T04:06:29.866Z"
   },
   {
    "duration": 46,
    "start_time": "2024-05-30T04:06:29.910Z"
   },
   {
    "duration": 47,
    "start_time": "2024-05-30T04:06:29.963Z"
   },
   {
    "duration": 63,
    "start_time": "2024-05-30T04:06:30.013Z"
   },
   {
    "duration": 49,
    "start_time": "2024-05-30T04:06:30.080Z"
   },
   {
    "duration": 31,
    "start_time": "2024-05-30T04:06:30.133Z"
   },
   {
    "duration": 93,
    "start_time": "2024-05-30T04:06:30.167Z"
   },
   {
    "duration": 3,
    "start_time": "2024-05-30T04:06:30.263Z"
   },
   {
    "duration": 3,
    "start_time": "2024-05-30T04:06:30.270Z"
   },
   {
    "duration": 29,
    "start_time": "2024-05-30T04:06:30.276Z"
   },
   {
    "duration": 4,
    "start_time": "2024-05-30T04:06:30.308Z"
   },
   {
    "duration": 5,
    "start_time": "2024-05-30T04:06:30.315Z"
   },
   {
    "duration": 4,
    "start_time": "2024-05-30T04:06:30.322Z"
   },
   {
    "duration": 4,
    "start_time": "2024-05-30T04:06:30.328Z"
   },
   {
    "duration": 3,
    "start_time": "2024-05-30T04:06:30.336Z"
   },
   {
    "duration": 4,
    "start_time": "2024-05-30T04:06:30.341Z"
   },
   {
    "duration": 954,
    "start_time": "2024-05-30T04:07:27.105Z"
   },
   {
    "duration": 272,
    "start_time": "2024-05-30T04:07:28.063Z"
   },
   {
    "duration": 5,
    "start_time": "2024-05-30T04:07:28.338Z"
   },
   {
    "duration": 16,
    "start_time": "2024-05-30T04:07:28.346Z"
   },
   {
    "duration": 42,
    "start_time": "2024-05-30T04:07:28.367Z"
   },
   {
    "duration": 8,
    "start_time": "2024-05-30T04:07:28.411Z"
   },
   {
    "duration": 16,
    "start_time": "2024-05-30T04:07:28.422Z"
   },
   {
    "duration": 14,
    "start_time": "2024-05-30T04:07:28.441Z"
   },
   {
    "duration": 65,
    "start_time": "2024-05-30T04:07:28.458Z"
   },
   {
    "duration": 8,
    "start_time": "2024-05-30T04:07:28.526Z"
   },
   {
    "duration": 25,
    "start_time": "2024-05-30T04:07:28.536Z"
   },
   {
    "duration": 44,
    "start_time": "2024-05-30T04:07:28.564Z"
   },
   {
    "duration": 45,
    "start_time": "2024-05-30T04:07:28.612Z"
   },
   {
    "duration": 73,
    "start_time": "2024-05-30T04:07:28.664Z"
   },
   {
    "duration": 19,
    "start_time": "2024-05-30T04:07:28.740Z"
   },
   {
    "duration": 10,
    "start_time": "2024-05-30T04:07:28.762Z"
   },
   {
    "duration": 64,
    "start_time": "2024-05-30T04:07:28.775Z"
   },
   {
    "duration": 26,
    "start_time": "2024-05-30T04:07:28.842Z"
   },
   {
    "duration": 51,
    "start_time": "2024-05-30T04:07:28.871Z"
   },
   {
    "duration": 12,
    "start_time": "2024-05-30T04:07:28.926Z"
   },
   {
    "duration": 63,
    "start_time": "2024-05-30T04:07:28.942Z"
   },
   {
    "duration": 58,
    "start_time": "2024-05-30T04:07:29.008Z"
   },
   {
    "duration": 13,
    "start_time": "2024-05-30T04:07:29.069Z"
   },
   {
    "duration": 106,
    "start_time": "2024-05-30T04:07:29.084Z"
   },
   {
    "duration": 39,
    "start_time": "2024-05-30T04:07:29.207Z"
   },
   {
    "duration": 15,
    "start_time": "2024-05-30T04:07:29.249Z"
   },
   {
    "duration": 80,
    "start_time": "2024-05-30T04:07:29.267Z"
   },
   {
    "duration": 14,
    "start_time": "2024-05-30T04:07:29.350Z"
   },
   {
    "duration": 89,
    "start_time": "2024-05-30T04:07:29.367Z"
   },
   {
    "duration": 31,
    "start_time": "2024-05-30T04:07:29.459Z"
   },
   {
    "duration": 29,
    "start_time": "2024-05-30T04:07:29.505Z"
   },
   {
    "duration": 78,
    "start_time": "2024-05-30T04:07:29.537Z"
   },
   {
    "duration": 3,
    "start_time": "2024-05-30T04:07:29.618Z"
   },
   {
    "duration": 3,
    "start_time": "2024-05-30T04:07:29.625Z"
   },
   {
    "duration": 4,
    "start_time": "2024-05-30T04:07:29.631Z"
   },
   {
    "duration": 4,
    "start_time": "2024-05-30T04:07:29.638Z"
   },
   {
    "duration": 4,
    "start_time": "2024-05-30T04:07:29.645Z"
   },
   {
    "duration": 55,
    "start_time": "2024-05-30T04:07:29.652Z"
   },
   {
    "duration": 3,
    "start_time": "2024-05-30T04:07:29.711Z"
   },
   {
    "duration": 4,
    "start_time": "2024-05-30T04:07:29.717Z"
   },
   {
    "duration": 3,
    "start_time": "2024-05-30T04:07:29.728Z"
   },
   {
    "duration": 4,
    "start_time": "2024-05-30T17:42:26.928Z"
   },
   {
    "duration": 880,
    "start_time": "2024-05-30T17:43:16.663Z"
   },
   {
    "duration": 357,
    "start_time": "2024-05-30T17:43:17.546Z"
   },
   {
    "duration": 4,
    "start_time": "2024-05-30T17:43:17.907Z"
   },
   {
    "duration": 16,
    "start_time": "2024-05-30T17:43:17.917Z"
   },
   {
    "duration": 21,
    "start_time": "2024-05-30T17:43:17.937Z"
   },
   {
    "duration": 32,
    "start_time": "2024-05-30T17:43:17.961Z"
   },
   {
    "duration": 14,
    "start_time": "2024-05-30T17:43:17.996Z"
   },
   {
    "duration": 14,
    "start_time": "2024-05-30T17:43:18.013Z"
   },
   {
    "duration": 60,
    "start_time": "2024-05-30T17:43:18.031Z"
   },
   {
    "duration": 8,
    "start_time": "2024-05-30T17:43:18.097Z"
   },
   {
    "duration": 25,
    "start_time": "2024-05-30T17:43:18.108Z"
   },
   {
    "duration": 13,
    "start_time": "2024-05-30T17:43:18.136Z"
   },
   {
    "duration": 83,
    "start_time": "2024-05-30T17:43:18.152Z"
   },
   {
    "duration": 73,
    "start_time": "2024-05-30T17:43:18.238Z"
   },
   {
    "duration": 29,
    "start_time": "2024-05-30T17:43:18.314Z"
   },
   {
    "duration": 12,
    "start_time": "2024-05-30T17:43:18.347Z"
   },
   {
    "duration": 54,
    "start_time": "2024-05-30T17:43:18.362Z"
   },
   {
    "duration": 25,
    "start_time": "2024-05-30T17:43:18.419Z"
   },
   {
    "duration": 53,
    "start_time": "2024-05-30T17:43:18.447Z"
   },
   {
    "duration": 12,
    "start_time": "2024-05-30T17:43:18.503Z"
   },
   {
    "duration": 35,
    "start_time": "2024-05-30T17:43:18.518Z"
   },
   {
    "duration": 82,
    "start_time": "2024-05-30T17:43:18.557Z"
   },
   {
    "duration": 12,
    "start_time": "2024-05-30T17:43:18.642Z"
   },
   {
    "duration": 462,
    "start_time": "2024-05-30T17:43:18.657Z"
   },
   {
    "duration": 0,
    "start_time": "2024-05-30T17:43:19.124Z"
   },
   {
    "duration": 0,
    "start_time": "2024-05-30T17:43:19.126Z"
   },
   {
    "duration": 0,
    "start_time": "2024-05-30T17:43:19.127Z"
   },
   {
    "duration": 0,
    "start_time": "2024-05-30T17:43:19.129Z"
   },
   {
    "duration": 0,
    "start_time": "2024-05-30T17:43:19.131Z"
   },
   {
    "duration": 0,
    "start_time": "2024-05-30T17:43:19.133Z"
   },
   {
    "duration": 0,
    "start_time": "2024-05-30T17:43:19.136Z"
   },
   {
    "duration": 0,
    "start_time": "2024-05-30T17:43:19.138Z"
   },
   {
    "duration": 0,
    "start_time": "2024-05-30T17:43:19.140Z"
   },
   {
    "duration": 0,
    "start_time": "2024-05-30T17:43:19.142Z"
   },
   {
    "duration": 0,
    "start_time": "2024-05-30T17:43:19.145Z"
   },
   {
    "duration": 0,
    "start_time": "2024-05-30T17:43:19.148Z"
   },
   {
    "duration": 0,
    "start_time": "2024-05-30T17:43:19.149Z"
   },
   {
    "duration": 0,
    "start_time": "2024-05-30T17:43:19.191Z"
   },
   {
    "duration": 0,
    "start_time": "2024-05-30T17:43:19.194Z"
   },
   {
    "duration": 17,
    "start_time": "2024-05-30T17:43:25.236Z"
   },
   {
    "duration": 14,
    "start_time": "2024-05-30T17:43:46.101Z"
   },
   {
    "duration": 33,
    "start_time": "2024-05-30T17:44:52.357Z"
   },
   {
    "duration": 680,
    "start_time": "2024-05-30T17:45:13.183Z"
   },
   {
    "duration": 737,
    "start_time": "2024-05-30T17:46:36.217Z"
   },
   {
    "duration": 130,
    "start_time": "2024-05-30T17:46:58.040Z"
   },
   {
    "duration": 54,
    "start_time": "2024-05-30T17:47:21.418Z"
   },
   {
    "duration": 38,
    "start_time": "2024-05-30T17:47:28.196Z"
   },
   {
    "duration": 21,
    "start_time": "2024-05-30T17:49:08.599Z"
   },
   {
    "duration": 20,
    "start_time": "2024-05-30T17:49:18.804Z"
   },
   {
    "duration": 22,
    "start_time": "2024-05-30T17:49:22.221Z"
   },
   {
    "duration": 20,
    "start_time": "2024-05-30T17:49:55.607Z"
   },
   {
    "duration": 22,
    "start_time": "2024-05-30T17:51:27.571Z"
   },
   {
    "duration": 32,
    "start_time": "2024-05-30T17:51:49.894Z"
   },
   {
    "duration": 28,
    "start_time": "2024-05-30T17:52:13.565Z"
   },
   {
    "duration": 26,
    "start_time": "2024-05-30T17:52:19.829Z"
   },
   {
    "duration": 81,
    "start_time": "2024-05-30T17:55:41.806Z"
   },
   {
    "duration": 561,
    "start_time": "2024-05-30T17:55:50.843Z"
   },
   {
    "duration": 34,
    "start_time": "2024-05-30T17:56:10.486Z"
   },
   {
    "duration": 25,
    "start_time": "2024-05-30T17:56:12.625Z"
   },
   {
    "duration": 28,
    "start_time": "2024-05-30T17:56:14.127Z"
   },
   {
    "duration": 32,
    "start_time": "2024-05-30T17:56:16.120Z"
   },
   {
    "duration": 21,
    "start_time": "2024-05-30T17:56:22.721Z"
   },
   {
    "duration": 26,
    "start_time": "2024-05-30T17:58:36.312Z"
   },
   {
    "duration": 24,
    "start_time": "2024-05-30T17:58:43.244Z"
   },
   {
    "duration": 23,
    "start_time": "2024-05-30T17:58:47.882Z"
   },
   {
    "duration": 929,
    "start_time": "2024-05-30T17:59:25.903Z"
   },
   {
    "duration": 282,
    "start_time": "2024-05-30T17:59:26.835Z"
   },
   {
    "duration": 5,
    "start_time": "2024-05-30T17:59:27.120Z"
   },
   {
    "duration": 17,
    "start_time": "2024-05-30T17:59:27.131Z"
   },
   {
    "duration": 48,
    "start_time": "2024-05-30T17:59:27.151Z"
   },
   {
    "duration": 7,
    "start_time": "2024-05-30T17:59:27.203Z"
   },
   {
    "duration": 16,
    "start_time": "2024-05-30T17:59:27.213Z"
   },
   {
    "duration": 15,
    "start_time": "2024-05-30T17:59:27.232Z"
   },
   {
    "duration": 19,
    "start_time": "2024-05-30T17:59:27.294Z"
   },
   {
    "duration": 8,
    "start_time": "2024-05-30T17:59:27.320Z"
   },
   {
    "duration": 59,
    "start_time": "2024-05-30T17:59:27.331Z"
   },
   {
    "duration": 12,
    "start_time": "2024-05-30T17:59:27.393Z"
   },
   {
    "duration": 45,
    "start_time": "2024-05-30T17:59:27.408Z"
   },
   {
    "duration": 75,
    "start_time": "2024-05-30T17:59:27.456Z"
   },
   {
    "duration": 19,
    "start_time": "2024-05-30T17:59:27.534Z"
   },
   {
    "duration": 35,
    "start_time": "2024-05-30T17:59:27.558Z"
   },
   {
    "duration": 29,
    "start_time": "2024-05-30T17:59:27.595Z"
   },
   {
    "duration": 23,
    "start_time": "2024-05-30T17:59:27.627Z"
   },
   {
    "duration": 55,
    "start_time": "2024-05-30T17:59:27.653Z"
   },
   {
    "duration": 12,
    "start_time": "2024-05-30T17:59:27.711Z"
   },
   {
    "duration": 65,
    "start_time": "2024-05-30T17:59:27.726Z"
   },
   {
    "duration": 56,
    "start_time": "2024-05-30T17:59:27.793Z"
   },
   {
    "duration": 12,
    "start_time": "2024-05-30T17:59:27.852Z"
   },
   {
    "duration": 34,
    "start_time": "2024-05-30T17:59:27.892Z"
   },
   {
    "duration": 28,
    "start_time": "2024-05-30T17:59:27.930Z"
   },
   {
    "duration": 52,
    "start_time": "2024-05-30T17:59:27.961Z"
   },
   {
    "duration": 22,
    "start_time": "2024-05-30T17:59:28.016Z"
   },
   {
    "duration": 61,
    "start_time": "2024-05-30T17:59:28.045Z"
   },
   {
    "duration": 3,
    "start_time": "2024-05-30T17:59:28.109Z"
   },
   {
    "duration": 4,
    "start_time": "2024-05-30T17:59:28.115Z"
   },
   {
    "duration": 4,
    "start_time": "2024-05-30T17:59:28.121Z"
   },
   {
    "duration": 4,
    "start_time": "2024-05-30T17:59:28.128Z"
   },
   {
    "duration": 7,
    "start_time": "2024-05-30T17:59:28.136Z"
   },
   {
    "duration": 3,
    "start_time": "2024-05-30T17:59:28.146Z"
   },
   {
    "duration": 41,
    "start_time": "2024-05-30T17:59:28.151Z"
   },
   {
    "duration": 3,
    "start_time": "2024-05-30T17:59:28.196Z"
   },
   {
    "duration": 4,
    "start_time": "2024-05-30T17:59:28.203Z"
   },
   {
    "duration": 3,
    "start_time": "2024-05-30T17:59:28.211Z"
   },
   {
    "duration": 5,
    "start_time": "2024-05-30T17:59:28.218Z"
   },
   {
    "duration": 19,
    "start_time": "2024-05-30T18:01:41.327Z"
   },
   {
    "duration": 958,
    "start_time": "2024-05-30T18:02:31.685Z"
   },
   {
    "duration": 288,
    "start_time": "2024-05-30T18:02:32.646Z"
   },
   {
    "duration": 5,
    "start_time": "2024-05-30T18:02:32.937Z"
   },
   {
    "duration": 18,
    "start_time": "2024-05-30T18:02:32.945Z"
   },
   {
    "duration": 23,
    "start_time": "2024-05-30T18:02:32.992Z"
   },
   {
    "duration": 7,
    "start_time": "2024-05-30T18:02:33.019Z"
   },
   {
    "duration": 15,
    "start_time": "2024-05-30T18:02:33.029Z"
   },
   {
    "duration": 53,
    "start_time": "2024-05-30T18:02:33.048Z"
   },
   {
    "duration": 19,
    "start_time": "2024-05-30T18:02:33.104Z"
   },
   {
    "duration": 9,
    "start_time": "2024-05-30T18:02:33.126Z"
   },
   {
    "duration": 64,
    "start_time": "2024-05-30T18:02:33.138Z"
   },
   {
    "duration": 12,
    "start_time": "2024-05-30T18:02:33.205Z"
   },
   {
    "duration": 71,
    "start_time": "2024-05-30T18:02:33.220Z"
   },
   {
    "duration": 53,
    "start_time": "2024-05-30T18:02:33.298Z"
   },
   {
    "duration": 50,
    "start_time": "2024-05-30T18:02:33.354Z"
   },
   {
    "duration": 9,
    "start_time": "2024-05-30T18:02:33.408Z"
   },
   {
    "duration": 31,
    "start_time": "2024-05-30T18:02:33.421Z"
   },
   {
    "duration": 58,
    "start_time": "2024-05-30T18:02:33.455Z"
   },
   {
    "duration": 22,
    "start_time": "2024-05-30T18:02:33.516Z"
   },
   {
    "duration": 12,
    "start_time": "2024-05-30T18:02:33.541Z"
   },
   {
    "duration": 74,
    "start_time": "2024-05-30T18:02:33.555Z"
   },
   {
    "duration": 69,
    "start_time": "2024-05-30T18:02:33.632Z"
   },
   {
    "duration": 12,
    "start_time": "2024-05-30T18:02:33.704Z"
   },
   {
    "duration": 36,
    "start_time": "2024-05-30T18:02:33.719Z"
   },
   {
    "duration": 51,
    "start_time": "2024-05-30T18:02:33.758Z"
   },
   {
    "duration": 27,
    "start_time": "2024-05-30T18:02:33.812Z"
   },
   {
    "duration": 51,
    "start_time": "2024-05-30T18:02:33.842Z"
   },
   {
    "duration": 24,
    "start_time": "2024-05-30T18:02:33.897Z"
   },
   {
    "duration": 17,
    "start_time": "2024-05-30T18:02:33.924Z"
   },
   {
    "duration": 4,
    "start_time": "2024-05-30T18:02:33.944Z"
   },
   {
    "duration": 40,
    "start_time": "2024-05-30T18:02:33.951Z"
   },
   {
    "duration": 3,
    "start_time": "2024-05-30T18:02:33.995Z"
   },
   {
    "duration": 4,
    "start_time": "2024-05-30T18:02:34.001Z"
   },
   {
    "duration": 4,
    "start_time": "2024-05-30T18:02:34.009Z"
   },
   {
    "duration": 4,
    "start_time": "2024-05-30T18:02:34.016Z"
   },
   {
    "duration": 3,
    "start_time": "2024-05-30T18:02:34.024Z"
   },
   {
    "duration": 3,
    "start_time": "2024-05-30T18:02:34.031Z"
   },
   {
    "duration": 2,
    "start_time": "2024-05-30T18:02:34.093Z"
   },
   {
    "duration": 3,
    "start_time": "2024-05-30T18:02:34.099Z"
   },
   {
    "duration": 202,
    "start_time": "2024-05-30T18:03:50.129Z"
   },
   {
    "duration": 29,
    "start_time": "2024-05-30T18:04:43.683Z"
   },
   {
    "duration": 26,
    "start_time": "2024-05-30T18:04:56.918Z"
   },
   {
    "duration": 32,
    "start_time": "2024-05-30T18:05:22.497Z"
   },
   {
    "duration": 916,
    "start_time": "2024-05-30T18:05:28.589Z"
   },
   {
    "duration": 272,
    "start_time": "2024-05-30T18:05:29.508Z"
   },
   {
    "duration": 5,
    "start_time": "2024-05-30T18:05:29.783Z"
   },
   {
    "duration": 16,
    "start_time": "2024-05-30T18:05:29.793Z"
   },
   {
    "duration": 20,
    "start_time": "2024-05-30T18:05:29.812Z"
   },
   {
    "duration": 6,
    "start_time": "2024-05-30T18:05:29.837Z"
   },
   {
    "duration": 58,
    "start_time": "2024-05-30T18:05:29.847Z"
   },
   {
    "duration": 14,
    "start_time": "2024-05-30T18:05:29.908Z"
   },
   {
    "duration": 20,
    "start_time": "2024-05-30T18:05:29.925Z"
   },
   {
    "duration": 40,
    "start_time": "2024-05-30T18:05:29.951Z"
   },
   {
    "duration": 25,
    "start_time": "2024-05-30T18:05:29.994Z"
   },
   {
    "duration": 11,
    "start_time": "2024-05-30T18:05:30.022Z"
   },
   {
    "duration": 77,
    "start_time": "2024-05-30T18:05:30.036Z"
   },
   {
    "duration": 49,
    "start_time": "2024-05-30T18:05:30.116Z"
   },
   {
    "duration": 41,
    "start_time": "2024-05-30T18:05:30.167Z"
   },
   {
    "duration": 11,
    "start_time": "2024-05-30T18:05:30.210Z"
   },
   {
    "duration": 28,
    "start_time": "2024-05-30T18:05:30.224Z"
   },
   {
    "duration": 24,
    "start_time": "2024-05-30T18:05:30.290Z"
   },
   {
    "duration": 27,
    "start_time": "2024-05-30T18:05:30.317Z"
   },
   {
    "duration": 44,
    "start_time": "2024-05-30T18:05:30.347Z"
   },
   {
    "duration": 38,
    "start_time": "2024-05-30T18:05:30.395Z"
   },
   {
    "duration": 89,
    "start_time": "2024-05-30T18:05:30.436Z"
   },
   {
    "duration": 16,
    "start_time": "2024-05-30T18:05:30.528Z"
   },
   {
    "duration": 63,
    "start_time": "2024-05-30T18:05:30.547Z"
   },
   {
    "duration": 27,
    "start_time": "2024-05-30T18:05:30.613Z"
   },
   {
    "duration": 51,
    "start_time": "2024-05-30T18:05:30.643Z"
   },
   {
    "duration": 21,
    "start_time": "2024-05-30T18:05:30.697Z"
   },
   {
    "duration": 24,
    "start_time": "2024-05-30T18:05:30.725Z"
   },
   {
    "duration": 509,
    "start_time": "2024-05-30T18:05:30.752Z"
   },
   {
    "duration": 0,
    "start_time": "2024-05-30T18:05:31.264Z"
   },
   {
    "duration": 0,
    "start_time": "2024-05-30T18:05:31.266Z"
   },
   {
    "duration": 0,
    "start_time": "2024-05-30T18:05:31.267Z"
   },
   {
    "duration": 0,
    "start_time": "2024-05-30T18:05:31.270Z"
   },
   {
    "duration": 0,
    "start_time": "2024-05-30T18:05:31.271Z"
   },
   {
    "duration": 0,
    "start_time": "2024-05-30T18:05:31.273Z"
   },
   {
    "duration": 0,
    "start_time": "2024-05-30T18:05:31.292Z"
   },
   {
    "duration": 0,
    "start_time": "2024-05-30T18:05:31.294Z"
   },
   {
    "duration": 0,
    "start_time": "2024-05-30T18:05:31.296Z"
   },
   {
    "duration": 0,
    "start_time": "2024-05-30T18:05:31.299Z"
   },
   {
    "duration": 32,
    "start_time": "2024-05-30T18:05:41.954Z"
   },
   {
    "duration": 36,
    "start_time": "2024-05-30T18:12:35.495Z"
   },
   {
    "duration": 30,
    "start_time": "2024-05-30T18:12:49.934Z"
   },
   {
    "duration": 50,
    "start_time": "2024-05-30T18:14:37.752Z"
   },
   {
    "duration": 9,
    "start_time": "2024-05-30T18:14:55.190Z"
   },
   {
    "duration": 34,
    "start_time": "2024-05-30T18:15:00.603Z"
   },
   {
    "duration": 283,
    "start_time": "2024-05-30T18:15:34.570Z"
   },
   {
    "duration": 44,
    "start_time": "2024-05-30T18:15:40.950Z"
   },
   {
    "duration": 75,
    "start_time": "2024-05-30T18:15:52.749Z"
   },
   {
    "duration": 30,
    "start_time": "2024-05-30T18:16:08.780Z"
   },
   {
    "duration": 43,
    "start_time": "2024-05-30T18:16:19.979Z"
   },
   {
    "duration": 48,
    "start_time": "2024-05-30T18:16:24.682Z"
   },
   {
    "duration": 42,
    "start_time": "2024-05-30T18:16:54.371Z"
   },
   {
    "duration": 926,
    "start_time": "2024-05-30T18:17:06.793Z"
   },
   {
    "duration": 270,
    "start_time": "2024-05-30T18:17:07.722Z"
   },
   {
    "duration": 5,
    "start_time": "2024-05-30T18:17:07.995Z"
   },
   {
    "duration": 23,
    "start_time": "2024-05-30T18:17:08.007Z"
   },
   {
    "duration": 54,
    "start_time": "2024-05-30T18:17:08.038Z"
   },
   {
    "duration": 7,
    "start_time": "2024-05-30T18:17:08.094Z"
   },
   {
    "duration": 14,
    "start_time": "2024-05-30T18:17:08.105Z"
   },
   {
    "duration": 14,
    "start_time": "2024-05-30T18:17:08.122Z"
   },
   {
    "duration": 58,
    "start_time": "2024-05-30T18:17:08.140Z"
   },
   {
    "duration": 8,
    "start_time": "2024-05-30T18:17:08.201Z"
   },
   {
    "duration": 27,
    "start_time": "2024-05-30T18:17:08.212Z"
   },
   {
    "duration": 49,
    "start_time": "2024-05-30T18:17:08.242Z"
   },
   {
    "duration": 44,
    "start_time": "2024-05-30T18:17:08.294Z"
   },
   {
    "duration": 76,
    "start_time": "2024-05-30T18:17:08.344Z"
   },
   {
    "duration": 20,
    "start_time": "2024-05-30T18:17:08.423Z"
   },
   {
    "duration": 10,
    "start_time": "2024-05-30T18:17:08.446Z"
   },
   {
    "duration": 60,
    "start_time": "2024-05-30T18:17:08.459Z"
   },
   {
    "duration": 23,
    "start_time": "2024-05-30T18:17:08.522Z"
   },
   {
    "duration": 48,
    "start_time": "2024-05-30T18:17:08.547Z"
   },
   {
    "duration": 12,
    "start_time": "2024-05-30T18:17:08.598Z"
   },
   {
    "duration": 36,
    "start_time": "2024-05-30T18:17:08.614Z"
   },
   {
    "duration": 92,
    "start_time": "2024-05-30T18:17:08.652Z"
   },
   {
    "duration": 14,
    "start_time": "2024-05-30T18:17:08.747Z"
   },
   {
    "duration": 36,
    "start_time": "2024-05-30T18:17:08.792Z"
   },
   {
    "duration": 26,
    "start_time": "2024-05-30T18:17:08.831Z"
   },
   {
    "duration": 51,
    "start_time": "2024-05-30T18:17:08.860Z"
   },
   {
    "duration": 20,
    "start_time": "2024-05-30T18:17:08.914Z"
   },
   {
    "duration": 24,
    "start_time": "2024-05-30T18:17:08.936Z"
   },
   {
    "duration": 33,
    "start_time": "2024-05-30T18:17:08.991Z"
   },
   {
    "duration": 4,
    "start_time": "2024-05-30T18:17:09.027Z"
   },
   {
    "duration": 4,
    "start_time": "2024-05-30T18:17:09.034Z"
   },
   {
    "duration": 3,
    "start_time": "2024-05-30T18:17:09.041Z"
   },
   {
    "duration": 3,
    "start_time": "2024-05-30T18:17:09.090Z"
   },
   {
    "duration": 4,
    "start_time": "2024-05-30T18:17:09.097Z"
   },
   {
    "duration": 3,
    "start_time": "2024-05-30T18:17:09.105Z"
   },
   {
    "duration": 5,
    "start_time": "2024-05-30T18:17:09.111Z"
   },
   {
    "duration": 3,
    "start_time": "2024-05-30T18:17:09.119Z"
   },
   {
    "duration": 3,
    "start_time": "2024-05-30T18:17:09.127Z"
   },
   {
    "duration": 59,
    "start_time": "2024-05-30T18:17:09.132Z"
   },
   {
    "duration": 1323,
    "start_time": "2024-05-30T18:32:35.177Z"
   },
   {
    "duration": 4,
    "start_time": "2024-05-30T18:32:56.304Z"
   },
   {
    "duration": 57,
    "start_time": "2024-05-30T19:46:22.551Z"
   },
   {
    "duration": 114,
    "start_time": "2024-05-30T19:47:08.925Z"
   },
   {
    "duration": 3,
    "start_time": "2024-05-30T19:47:44.100Z"
   },
   {
    "duration": 36,
    "start_time": "2024-05-30T19:49:51.481Z"
   },
   {
    "duration": 34,
    "start_time": "2024-05-30T19:50:14.960Z"
   },
   {
    "duration": 43,
    "start_time": "2024-05-30T19:51:31.044Z"
   },
   {
    "duration": 51,
    "start_time": "2024-05-30T19:51:58.953Z"
   },
   {
    "duration": 56,
    "start_time": "2024-05-30T19:53:24.011Z"
   },
   {
    "duration": 55,
    "start_time": "2024-05-30T19:53:34.275Z"
   },
   {
    "duration": 56,
    "start_time": "2024-05-30T19:53:40.644Z"
   },
   {
    "duration": 58,
    "start_time": "2024-05-30T19:53:53.532Z"
   },
   {
    "duration": 53,
    "start_time": "2024-05-30T19:54:27.574Z"
   },
   {
    "duration": 78,
    "start_time": "2024-05-30T19:54:35.494Z"
   },
   {
    "duration": 920,
    "start_time": "2024-05-30T19:54:43.123Z"
   },
   {
    "duration": 286,
    "start_time": "2024-05-30T19:54:44.047Z"
   },
   {
    "duration": 4,
    "start_time": "2024-05-30T19:54:44.335Z"
   },
   {
    "duration": 18,
    "start_time": "2024-05-30T19:54:44.342Z"
   },
   {
    "duration": 44,
    "start_time": "2024-05-30T19:54:44.364Z"
   },
   {
    "duration": 7,
    "start_time": "2024-05-30T19:54:44.411Z"
   },
   {
    "duration": 17,
    "start_time": "2024-05-30T19:54:44.421Z"
   },
   {
    "duration": 51,
    "start_time": "2024-05-30T19:54:44.440Z"
   },
   {
    "duration": 20,
    "start_time": "2024-05-30T19:54:44.494Z"
   },
   {
    "duration": 9,
    "start_time": "2024-05-30T19:54:44.517Z"
   },
   {
    "duration": 62,
    "start_time": "2024-05-30T19:54:44.529Z"
   },
   {
    "duration": 11,
    "start_time": "2024-05-30T19:54:44.594Z"
   },
   {
    "duration": 47,
    "start_time": "2024-05-30T19:54:44.608Z"
   },
   {
    "duration": 47,
    "start_time": "2024-05-30T19:54:44.691Z"
   },
   {
    "duration": 29,
    "start_time": "2024-05-30T19:54:44.741Z"
   },
   {
    "duration": 14,
    "start_time": "2024-05-30T19:54:44.790Z"
   },
   {
    "duration": 36,
    "start_time": "2024-05-30T19:54:44.807Z"
   },
   {
    "duration": 47,
    "start_time": "2024-05-30T19:54:44.847Z"
   },
   {
    "duration": 24,
    "start_time": "2024-05-30T19:54:44.897Z"
   },
   {
    "duration": 13,
    "start_time": "2024-05-30T19:54:44.924Z"
   },
   {
    "duration": 69,
    "start_time": "2024-05-30T19:54:44.940Z"
   },
   {
    "duration": 79,
    "start_time": "2024-05-30T19:54:45.012Z"
   },
   {
    "duration": 15,
    "start_time": "2024-05-30T19:54:45.095Z"
   },
   {
    "duration": 39,
    "start_time": "2024-05-30T19:54:45.114Z"
   },
   {
    "duration": 56,
    "start_time": "2024-05-30T19:54:45.157Z"
   },
   {
    "duration": 29,
    "start_time": "2024-05-30T19:54:45.216Z"
   },
   {
    "duration": 49,
    "start_time": "2024-05-30T19:54:45.248Z"
   },
   {
    "duration": 26,
    "start_time": "2024-05-30T19:54:45.303Z"
   },
   {
    "duration": 62,
    "start_time": "2024-05-30T19:54:45.334Z"
   },
   {
    "duration": 1265,
    "start_time": "2024-05-30T19:54:45.398Z"
   },
   {
    "duration": 0,
    "start_time": "2024-05-30T19:54:46.666Z"
   },
   {
    "duration": 0,
    "start_time": "2024-05-30T19:54:46.671Z"
   },
   {
    "duration": 0,
    "start_time": "2024-05-30T19:54:46.673Z"
   },
   {
    "duration": 0,
    "start_time": "2024-05-30T19:54:46.675Z"
   },
   {
    "duration": 0,
    "start_time": "2024-05-30T19:54:46.690Z"
   },
   {
    "duration": 0,
    "start_time": "2024-05-30T19:54:46.692Z"
   },
   {
    "duration": 0,
    "start_time": "2024-05-30T19:54:46.694Z"
   },
   {
    "duration": 0,
    "start_time": "2024-05-30T19:54:46.696Z"
   },
   {
    "duration": 0,
    "start_time": "2024-05-30T19:54:46.699Z"
   },
   {
    "duration": 43,
    "start_time": "2024-05-30T19:54:59.249Z"
   },
   {
    "duration": 904,
    "start_time": "2024-05-30T19:55:06.944Z"
   },
   {
    "duration": 289,
    "start_time": "2024-05-30T19:55:07.852Z"
   },
   {
    "duration": 5,
    "start_time": "2024-05-30T19:55:08.144Z"
   },
   {
    "duration": 36,
    "start_time": "2024-05-30T19:55:08.155Z"
   },
   {
    "duration": 24,
    "start_time": "2024-05-30T19:55:08.198Z"
   },
   {
    "duration": 13,
    "start_time": "2024-05-30T19:55:08.225Z"
   },
   {
    "duration": 54,
    "start_time": "2024-05-30T19:55:08.242Z"
   },
   {
    "duration": 16,
    "start_time": "2024-05-30T19:55:08.300Z"
   },
   {
    "duration": 24,
    "start_time": "2024-05-30T19:55:08.320Z"
   },
   {
    "duration": 41,
    "start_time": "2024-05-30T19:55:08.352Z"
   },
   {
    "duration": 27,
    "start_time": "2024-05-30T19:55:08.397Z"
   },
   {
    "duration": 12,
    "start_time": "2024-05-30T19:55:08.428Z"
   },
   {
    "duration": 87,
    "start_time": "2024-05-30T19:55:08.443Z"
   },
   {
    "duration": 70,
    "start_time": "2024-05-30T19:55:08.534Z"
   },
   {
    "duration": 26,
    "start_time": "2024-05-30T19:55:08.607Z"
   },
   {
    "duration": 12,
    "start_time": "2024-05-30T19:55:08.636Z"
   },
   {
    "duration": 56,
    "start_time": "2024-05-30T19:55:08.652Z"
   },
   {
    "duration": 22,
    "start_time": "2024-05-30T19:55:08.711Z"
   },
   {
    "duration": 25,
    "start_time": "2024-05-30T19:55:08.736Z"
   },
   {
    "duration": 12,
    "start_time": "2024-05-30T19:55:08.792Z"
   },
   {
    "duration": 37,
    "start_time": "2024-05-30T19:55:08.807Z"
   },
   {
    "duration": 102,
    "start_time": "2024-05-30T19:55:08.847Z"
   },
   {
    "duration": 12,
    "start_time": "2024-05-30T19:55:08.952Z"
   },
   {
    "duration": 52,
    "start_time": "2024-05-30T19:55:08.969Z"
   },
   {
    "duration": 27,
    "start_time": "2024-05-30T19:55:09.024Z"
   },
   {
    "duration": 70,
    "start_time": "2024-05-30T19:55:09.055Z"
   },
   {
    "duration": 20,
    "start_time": "2024-05-30T19:55:09.128Z"
   },
   {
    "duration": 53,
    "start_time": "2024-05-30T19:55:09.155Z"
   },
   {
    "duration": 42,
    "start_time": "2024-05-30T19:55:09.211Z"
   },
   {
    "duration": 236,
    "start_time": "2024-05-30T19:55:09.256Z"
   },
   {
    "duration": 0,
    "start_time": "2024-05-30T19:55:09.496Z"
   },
   {
    "duration": 0,
    "start_time": "2024-05-30T19:55:09.497Z"
   },
   {
    "duration": 0,
    "start_time": "2024-05-30T19:55:09.500Z"
   },
   {
    "duration": 0,
    "start_time": "2024-05-30T19:55:09.503Z"
   },
   {
    "duration": 0,
    "start_time": "2024-05-30T19:55:09.506Z"
   },
   {
    "duration": 0,
    "start_time": "2024-05-30T19:55:09.508Z"
   },
   {
    "duration": 0,
    "start_time": "2024-05-30T19:55:09.511Z"
   },
   {
    "duration": 0,
    "start_time": "2024-05-30T19:55:09.513Z"
   },
   {
    "duration": 0,
    "start_time": "2024-05-30T19:55:09.515Z"
   },
   {
    "duration": 33,
    "start_time": "2024-05-30T19:55:24.959Z"
   },
   {
    "duration": 36,
    "start_time": "2024-05-30T19:56:59.784Z"
   },
   {
    "duration": 889,
    "start_time": "2024-05-30T19:57:07.457Z"
   },
   {
    "duration": 273,
    "start_time": "2024-05-30T19:57:08.349Z"
   },
   {
    "duration": 4,
    "start_time": "2024-05-30T19:57:08.624Z"
   },
   {
    "duration": 16,
    "start_time": "2024-05-30T19:57:08.632Z"
   },
   {
    "duration": 43,
    "start_time": "2024-05-30T19:57:08.653Z"
   },
   {
    "duration": 8,
    "start_time": "2024-05-30T19:57:08.698Z"
   },
   {
    "duration": 15,
    "start_time": "2024-05-30T19:57:08.709Z"
   },
   {
    "duration": 14,
    "start_time": "2024-05-30T19:57:08.726Z"
   },
   {
    "duration": 54,
    "start_time": "2024-05-30T19:57:08.743Z"
   },
   {
    "duration": 9,
    "start_time": "2024-05-30T19:57:08.800Z"
   },
   {
    "duration": 26,
    "start_time": "2024-05-30T19:57:08.812Z"
   },
   {
    "duration": 57,
    "start_time": "2024-05-30T19:57:08.840Z"
   },
   {
    "duration": 45,
    "start_time": "2024-05-30T19:57:08.899Z"
   },
   {
    "duration": 68,
    "start_time": "2024-05-30T19:57:08.952Z"
   },
   {
    "duration": 21,
    "start_time": "2024-05-30T19:57:09.023Z"
   },
   {
    "duration": 11,
    "start_time": "2024-05-30T19:57:09.047Z"
   },
   {
    "duration": 29,
    "start_time": "2024-05-30T19:57:09.092Z"
   },
   {
    "duration": 24,
    "start_time": "2024-05-30T19:57:09.124Z"
   },
   {
    "duration": 55,
    "start_time": "2024-05-30T19:57:09.151Z"
   },
   {
    "duration": 13,
    "start_time": "2024-05-30T19:57:09.209Z"
   },
   {
    "duration": 35,
    "start_time": "2024-05-30T19:57:09.225Z"
   },
   {
    "duration": 71,
    "start_time": "2024-05-30T19:57:09.292Z"
   },
   {
    "duration": 31,
    "start_time": "2024-05-30T19:57:09.366Z"
   },
   {
    "duration": 37,
    "start_time": "2024-05-30T19:57:09.401Z"
   },
   {
    "duration": 53,
    "start_time": "2024-05-30T19:57:09.441Z"
   },
   {
    "duration": 26,
    "start_time": "2024-05-30T19:57:09.497Z"
   },
   {
    "duration": 20,
    "start_time": "2024-05-30T19:57:09.526Z"
   },
   {
    "duration": 56,
    "start_time": "2024-05-30T19:57:09.548Z"
   },
   {
    "duration": 205,
    "start_time": "2024-05-30T19:57:09.607Z"
   },
   {
    "duration": 0,
    "start_time": "2024-05-30T19:57:09.815Z"
   },
   {
    "duration": 0,
    "start_time": "2024-05-30T19:57:09.817Z"
   },
   {
    "duration": 0,
    "start_time": "2024-05-30T19:57:09.819Z"
   },
   {
    "duration": 0,
    "start_time": "2024-05-30T19:57:09.822Z"
   },
   {
    "duration": 0,
    "start_time": "2024-05-30T19:57:09.824Z"
   },
   {
    "duration": 0,
    "start_time": "2024-05-30T19:57:09.826Z"
   },
   {
    "duration": 0,
    "start_time": "2024-05-30T19:57:09.827Z"
   },
   {
    "duration": 0,
    "start_time": "2024-05-30T19:57:09.829Z"
   },
   {
    "duration": 0,
    "start_time": "2024-05-30T19:57:09.831Z"
   },
   {
    "duration": 0,
    "start_time": "2024-05-30T19:57:09.834Z"
   },
   {
    "duration": 30,
    "start_time": "2024-05-30T19:57:20.402Z"
   },
   {
    "duration": 37,
    "start_time": "2024-05-30T19:57:41.380Z"
   },
   {
    "duration": 37,
    "start_time": "2024-05-30T19:59:23.898Z"
   },
   {
    "duration": 959,
    "start_time": "2024-05-30T19:59:33.905Z"
   },
   {
    "duration": 263,
    "start_time": "2024-05-30T19:59:34.868Z"
   },
   {
    "duration": 4,
    "start_time": "2024-05-30T19:59:35.134Z"
   },
   {
    "duration": 17,
    "start_time": "2024-05-30T19:59:35.143Z"
   },
   {
    "duration": 40,
    "start_time": "2024-05-30T19:59:35.163Z"
   },
   {
    "duration": 7,
    "start_time": "2024-05-30T19:59:35.205Z"
   },
   {
    "duration": 14,
    "start_time": "2024-05-30T19:59:35.215Z"
   },
   {
    "duration": 59,
    "start_time": "2024-05-30T19:59:35.232Z"
   },
   {
    "duration": 22,
    "start_time": "2024-05-30T19:59:35.293Z"
   },
   {
    "duration": 7,
    "start_time": "2024-05-30T19:59:35.321Z"
   },
   {
    "duration": 60,
    "start_time": "2024-05-30T19:59:35.331Z"
   },
   {
    "duration": 11,
    "start_time": "2024-05-30T19:59:35.394Z"
   },
   {
    "duration": 43,
    "start_time": "2024-05-30T19:59:35.409Z"
   },
   {
    "duration": 79,
    "start_time": "2024-05-30T19:59:35.455Z"
   },
   {
    "duration": 25,
    "start_time": "2024-05-30T19:59:35.537Z"
   },
   {
    "duration": 33,
    "start_time": "2024-05-30T19:59:35.565Z"
   },
   {
    "duration": 31,
    "start_time": "2024-05-30T19:59:35.602Z"
   },
   {
    "duration": 55,
    "start_time": "2024-05-30T19:59:35.636Z"
   },
   {
    "duration": 22,
    "start_time": "2024-05-30T19:59:35.694Z"
   },
   {
    "duration": 12,
    "start_time": "2024-05-30T19:59:35.719Z"
   },
   {
    "duration": 69,
    "start_time": "2024-05-30T19:59:35.734Z"
   },
   {
    "duration": 58,
    "start_time": "2024-05-30T19:59:35.805Z"
   },
   {
    "duration": 30,
    "start_time": "2024-05-30T19:59:35.866Z"
   },
   {
    "duration": 35,
    "start_time": "2024-05-30T19:59:35.899Z"
   },
   {
    "duration": 55,
    "start_time": "2024-05-30T19:59:35.937Z"
   },
   {
    "duration": 29,
    "start_time": "2024-05-30T19:59:35.995Z"
   },
   {
    "duration": 21,
    "start_time": "2024-05-30T19:59:36.027Z"
   },
   {
    "duration": 58,
    "start_time": "2024-05-30T19:59:36.056Z"
   },
   {
    "duration": 30,
    "start_time": "2024-05-30T19:59:36.117Z"
   },
   {
    "duration": 225,
    "start_time": "2024-05-30T19:59:36.150Z"
   },
   {
    "duration": 0,
    "start_time": "2024-05-30T19:59:36.378Z"
   },
   {
    "duration": 0,
    "start_time": "2024-05-30T19:59:36.380Z"
   },
   {
    "duration": 0,
    "start_time": "2024-05-30T19:59:36.391Z"
   },
   {
    "duration": 0,
    "start_time": "2024-05-30T19:59:36.396Z"
   },
   {
    "duration": 0,
    "start_time": "2024-05-30T19:59:36.398Z"
   },
   {
    "duration": 0,
    "start_time": "2024-05-30T19:59:36.400Z"
   },
   {
    "duration": 0,
    "start_time": "2024-05-30T19:59:36.403Z"
   },
   {
    "duration": 0,
    "start_time": "2024-05-30T19:59:36.406Z"
   },
   {
    "duration": 0,
    "start_time": "2024-05-30T19:59:36.408Z"
   },
   {
    "duration": 34,
    "start_time": "2024-05-30T19:59:59.595Z"
   },
   {
    "duration": 15,
    "start_time": "2024-05-30T20:00:59.041Z"
   },
   {
    "duration": 40,
    "start_time": "2024-05-30T20:01:11.807Z"
   },
   {
    "duration": 874,
    "start_time": "2024-05-30T20:01:16.952Z"
   },
   {
    "duration": 288,
    "start_time": "2024-05-30T20:01:17.829Z"
   },
   {
    "duration": 5,
    "start_time": "2024-05-30T20:01:18.120Z"
   },
   {
    "duration": 20,
    "start_time": "2024-05-30T20:01:18.130Z"
   },
   {
    "duration": 44,
    "start_time": "2024-05-30T20:01:18.153Z"
   },
   {
    "duration": 7,
    "start_time": "2024-05-30T20:01:18.200Z"
   },
   {
    "duration": 15,
    "start_time": "2024-05-30T20:01:18.210Z"
   },
   {
    "duration": 15,
    "start_time": "2024-05-30T20:01:18.228Z"
   },
   {
    "duration": 17,
    "start_time": "2024-05-30T20:01:18.291Z"
   },
   {
    "duration": 7,
    "start_time": "2024-05-30T20:01:18.315Z"
   },
   {
    "duration": 25,
    "start_time": "2024-05-30T20:01:18.325Z"
   },
   {
    "duration": 12,
    "start_time": "2024-05-30T20:01:18.390Z"
   },
   {
    "duration": 46,
    "start_time": "2024-05-30T20:01:18.404Z"
   },
   {
    "duration": 72,
    "start_time": "2024-05-30T20:01:18.453Z"
   },
   {
    "duration": 19,
    "start_time": "2024-05-30T20:01:18.528Z"
   },
   {
    "duration": 44,
    "start_time": "2024-05-30T20:01:18.550Z"
   },
   {
    "duration": 28,
    "start_time": "2024-05-30T20:01:18.597Z"
   },
   {
    "duration": 23,
    "start_time": "2024-05-30T20:01:18.628Z"
   },
   {
    "duration": 56,
    "start_time": "2024-05-30T20:01:18.654Z"
   },
   {
    "duration": 12,
    "start_time": "2024-05-30T20:01:18.713Z"
   },
   {
    "duration": 61,
    "start_time": "2024-05-30T20:01:18.729Z"
   },
   {
    "duration": 57,
    "start_time": "2024-05-30T20:01:18.793Z"
   },
   {
    "duration": 38,
    "start_time": "2024-05-30T20:01:18.853Z"
   },
   {
    "duration": 36,
    "start_time": "2024-05-30T20:01:18.894Z"
   },
   {
    "duration": 25,
    "start_time": "2024-05-30T20:01:18.932Z"
   },
   {
    "duration": 55,
    "start_time": "2024-05-30T20:01:18.960Z"
   },
   {
    "duration": 24,
    "start_time": "2024-05-30T20:01:19.018Z"
   },
   {
    "duration": 53,
    "start_time": "2024-05-30T20:01:19.049Z"
   },
   {
    "duration": 30,
    "start_time": "2024-05-30T20:01:19.105Z"
   },
   {
    "duration": 490,
    "start_time": "2024-05-30T20:01:19.138Z"
   },
   {
    "duration": 0,
    "start_time": "2024-05-30T20:01:19.631Z"
   },
   {
    "duration": 0,
    "start_time": "2024-05-30T20:01:19.633Z"
   },
   {
    "duration": 0,
    "start_time": "2024-05-30T20:01:19.635Z"
   },
   {
    "duration": 0,
    "start_time": "2024-05-30T20:01:19.636Z"
   },
   {
    "duration": 0,
    "start_time": "2024-05-30T20:01:19.638Z"
   },
   {
    "duration": 0,
    "start_time": "2024-05-30T20:01:19.639Z"
   },
   {
    "duration": 0,
    "start_time": "2024-05-30T20:01:19.641Z"
   },
   {
    "duration": 0,
    "start_time": "2024-05-30T20:01:19.643Z"
   },
   {
    "duration": 0,
    "start_time": "2024-05-30T20:01:19.645Z"
   },
   {
    "duration": 67,
    "start_time": "2024-05-30T20:02:25.761Z"
   },
   {
    "duration": 35,
    "start_time": "2024-05-30T20:03:08.842Z"
   },
   {
    "duration": 263,
    "start_time": "2024-05-30T20:03:45.482Z"
   },
   {
    "duration": 8,
    "start_time": "2024-05-30T20:06:48.570Z"
   },
   {
    "duration": 953,
    "start_time": "2024-05-30T20:08:03.787Z"
   },
   {
    "duration": 317,
    "start_time": "2024-05-30T20:08:04.745Z"
   },
   {
    "duration": 5,
    "start_time": "2024-05-30T20:08:05.064Z"
   },
   {
    "duration": 29,
    "start_time": "2024-05-30T20:08:05.072Z"
   },
   {
    "duration": 20,
    "start_time": "2024-05-30T20:08:05.106Z"
   },
   {
    "duration": 9,
    "start_time": "2024-05-30T20:08:05.129Z"
   },
   {
    "duration": 50,
    "start_time": "2024-05-30T20:08:05.142Z"
   },
   {
    "duration": 14,
    "start_time": "2024-05-30T20:08:05.195Z"
   },
   {
    "duration": 19,
    "start_time": "2024-05-30T20:08:05.212Z"
   },
   {
    "duration": 8,
    "start_time": "2024-05-30T20:08:05.234Z"
   },
   {
    "duration": 65,
    "start_time": "2024-05-30T20:08:05.245Z"
   },
   {
    "duration": 12,
    "start_time": "2024-05-30T20:08:05.313Z"
   },
   {
    "duration": 78,
    "start_time": "2024-05-30T20:08:05.328Z"
   },
   {
    "duration": 48,
    "start_time": "2024-05-30T20:08:05.412Z"
   },
   {
    "duration": 38,
    "start_time": "2024-05-30T20:08:05.463Z"
   },
   {
    "duration": 10,
    "start_time": "2024-05-30T20:08:05.503Z"
   },
   {
    "duration": 30,
    "start_time": "2024-05-30T20:08:05.516Z"
   },
   {
    "duration": 55,
    "start_time": "2024-05-30T20:08:05.549Z"
   },
   {
    "duration": 22,
    "start_time": "2024-05-30T20:08:05.607Z"
   },
   {
    "duration": 11,
    "start_time": "2024-05-30T20:08:05.633Z"
   },
   {
    "duration": 67,
    "start_time": "2024-05-30T20:08:05.648Z"
   },
   {
    "duration": 80,
    "start_time": "2024-05-30T20:08:05.718Z"
   },
   {
    "duration": 13,
    "start_time": "2024-05-30T20:08:05.801Z"
   },
   {
    "duration": 37,
    "start_time": "2024-05-30T20:08:05.818Z"
   },
   {
    "duration": 53,
    "start_time": "2024-05-30T20:08:05.858Z"
   },
   {
    "duration": 31,
    "start_time": "2024-05-30T20:08:05.913Z"
   },
   {
    "duration": 47,
    "start_time": "2024-05-30T20:08:05.947Z"
   },
   {
    "duration": 26,
    "start_time": "2024-05-30T20:08:05.999Z"
   },
   {
    "duration": 33,
    "start_time": "2024-05-30T20:08:06.028Z"
   },
   {
    "duration": 228,
    "start_time": "2024-05-30T20:08:06.064Z"
   },
   {
    "duration": 0,
    "start_time": "2024-05-30T20:08:06.295Z"
   },
   {
    "duration": 0,
    "start_time": "2024-05-30T20:08:06.297Z"
   },
   {
    "duration": 0,
    "start_time": "2024-05-30T20:08:06.299Z"
   },
   {
    "duration": 0,
    "start_time": "2024-05-30T20:08:06.303Z"
   },
   {
    "duration": 0,
    "start_time": "2024-05-30T20:08:06.306Z"
   },
   {
    "duration": 0,
    "start_time": "2024-05-30T20:08:06.308Z"
   },
   {
    "duration": 0,
    "start_time": "2024-05-30T20:08:06.311Z"
   },
   {
    "duration": 0,
    "start_time": "2024-05-30T20:08:06.314Z"
   },
   {
    "duration": 0,
    "start_time": "2024-05-30T20:08:06.316Z"
   },
   {
    "duration": 285,
    "start_time": "2024-05-30T20:08:17.886Z"
   },
   {
    "duration": 35,
    "start_time": "2024-05-30T20:08:30.040Z"
   },
   {
    "duration": 933,
    "start_time": "2024-05-30T20:08:38.004Z"
   },
   {
    "duration": 283,
    "start_time": "2024-05-30T20:08:38.940Z"
   },
   {
    "duration": 4,
    "start_time": "2024-05-30T20:08:39.227Z"
   },
   {
    "duration": 22,
    "start_time": "2024-05-30T20:08:39.235Z"
   },
   {
    "duration": 42,
    "start_time": "2024-05-30T20:08:39.263Z"
   },
   {
    "duration": 11,
    "start_time": "2024-05-30T20:08:39.308Z"
   },
   {
    "duration": 20,
    "start_time": "2024-05-30T20:08:39.322Z"
   },
   {
    "duration": 48,
    "start_time": "2024-05-30T20:08:39.345Z"
   },
   {
    "duration": 20,
    "start_time": "2024-05-30T20:08:39.396Z"
   },
   {
    "duration": 9,
    "start_time": "2024-05-30T20:08:39.419Z"
   },
   {
    "duration": 68,
    "start_time": "2024-05-30T20:08:39.431Z"
   },
   {
    "duration": 12,
    "start_time": "2024-05-30T20:08:39.502Z"
   },
   {
    "duration": 47,
    "start_time": "2024-05-30T20:08:39.517Z"
   },
   {
    "duration": 46,
    "start_time": "2024-05-30T20:08:39.596Z"
   },
   {
    "duration": 19,
    "start_time": "2024-05-30T20:08:39.645Z"
   },
   {
    "duration": 30,
    "start_time": "2024-05-30T20:08:39.667Z"
   },
   {
    "duration": 29,
    "start_time": "2024-05-30T20:08:39.700Z"
   },
   {
    "duration": 58,
    "start_time": "2024-05-30T20:08:39.732Z"
   },
   {
    "duration": 24,
    "start_time": "2024-05-30T20:08:39.794Z"
   },
   {
    "duration": 12,
    "start_time": "2024-05-30T20:08:39.821Z"
   },
   {
    "duration": 68,
    "start_time": "2024-05-30T20:08:39.836Z"
   },
   {
    "duration": 58,
    "start_time": "2024-05-30T20:08:39.907Z"
   },
   {
    "duration": 33,
    "start_time": "2024-05-30T20:08:39.968Z"
   },
   {
    "duration": 37,
    "start_time": "2024-05-30T20:08:40.004Z"
   },
   {
    "duration": 55,
    "start_time": "2024-05-30T20:08:40.044Z"
   },
   {
    "duration": 27,
    "start_time": "2024-05-30T20:08:40.102Z"
   },
   {
    "duration": 20,
    "start_time": "2024-05-30T20:08:40.132Z"
   },
   {
    "duration": 56,
    "start_time": "2024-05-30T20:08:40.155Z"
   },
   {
    "duration": 31,
    "start_time": "2024-05-30T20:08:40.214Z"
   },
   {
    "duration": 221,
    "start_time": "2024-05-30T20:08:40.248Z"
   },
   {
    "duration": 0,
    "start_time": "2024-05-30T20:08:40.473Z"
   },
   {
    "duration": 0,
    "start_time": "2024-05-30T20:08:40.476Z"
   },
   {
    "duration": 0,
    "start_time": "2024-05-30T20:08:40.479Z"
   },
   {
    "duration": 0,
    "start_time": "2024-05-30T20:08:40.480Z"
   },
   {
    "duration": 0,
    "start_time": "2024-05-30T20:08:40.491Z"
   },
   {
    "duration": 0,
    "start_time": "2024-05-30T20:08:40.493Z"
   },
   {
    "duration": 0,
    "start_time": "2024-05-30T20:08:40.495Z"
   },
   {
    "duration": 0,
    "start_time": "2024-05-30T20:08:40.497Z"
   },
   {
    "duration": 0,
    "start_time": "2024-05-30T20:08:40.498Z"
   },
   {
    "duration": 13,
    "start_time": "2024-05-30T20:09:32.324Z"
   },
   {
    "duration": 30,
    "start_time": "2024-05-30T20:10:20.514Z"
   },
   {
    "duration": 45,
    "start_time": "2024-05-30T20:10:50.815Z"
   },
   {
    "duration": 920,
    "start_time": "2024-05-30T20:10:59.923Z"
   },
   {
    "duration": 283,
    "start_time": "2024-05-30T20:11:00.847Z"
   },
   {
    "duration": 5,
    "start_time": "2024-05-30T20:11:01.134Z"
   },
   {
    "duration": 20,
    "start_time": "2024-05-30T20:11:01.142Z"
   },
   {
    "duration": 40,
    "start_time": "2024-05-30T20:11:01.166Z"
   },
   {
    "duration": 10,
    "start_time": "2024-05-30T20:11:01.210Z"
   },
   {
    "duration": 16,
    "start_time": "2024-05-30T20:11:01.225Z"
   },
   {
    "duration": 52,
    "start_time": "2024-05-30T20:11:01.245Z"
   },
   {
    "duration": 22,
    "start_time": "2024-05-30T20:11:01.301Z"
   },
   {
    "duration": 9,
    "start_time": "2024-05-30T20:11:01.327Z"
   },
   {
    "duration": 65,
    "start_time": "2024-05-30T20:11:01.339Z"
   },
   {
    "duration": 12,
    "start_time": "2024-05-30T20:11:01.409Z"
   },
   {
    "duration": 75,
    "start_time": "2024-05-30T20:11:01.424Z"
   },
   {
    "duration": 47,
    "start_time": "2024-05-30T20:11:01.506Z"
   },
   {
    "duration": 42,
    "start_time": "2024-05-30T20:11:01.556Z"
   },
   {
    "duration": 11,
    "start_time": "2024-05-30T20:11:01.600Z"
   },
   {
    "duration": 31,
    "start_time": "2024-05-30T20:11:01.614Z"
   },
   {
    "duration": 59,
    "start_time": "2024-05-30T20:11:01.647Z"
   },
   {
    "duration": 25,
    "start_time": "2024-05-30T20:11:01.709Z"
   },
   {
    "duration": 11,
    "start_time": "2024-05-30T20:11:01.737Z"
   },
   {
    "duration": 69,
    "start_time": "2024-05-30T20:11:01.751Z"
   },
   {
    "duration": 82,
    "start_time": "2024-05-30T20:11:01.823Z"
   },
   {
    "duration": 13,
    "start_time": "2024-05-30T20:11:01.909Z"
   },
   {
    "duration": 36,
    "start_time": "2024-05-30T20:11:01.925Z"
   },
   {
    "duration": 50,
    "start_time": "2024-05-30T20:11:01.964Z"
   },
   {
    "duration": 29,
    "start_time": "2024-05-30T20:11:02.017Z"
   },
   {
    "duration": 55,
    "start_time": "2024-05-30T20:11:02.049Z"
   },
   {
    "duration": 26,
    "start_time": "2024-05-30T20:11:02.107Z"
   },
   {
    "duration": 56,
    "start_time": "2024-05-30T20:11:02.136Z"
   },
   {
    "duration": 30,
    "start_time": "2024-05-30T20:11:02.195Z"
   },
   {
    "duration": 4,
    "start_time": "2024-05-30T20:11:02.229Z"
   },
   {
    "duration": 4,
    "start_time": "2024-05-30T20:11:02.237Z"
   },
   {
    "duration": 4,
    "start_time": "2024-05-30T20:11:02.244Z"
   },
   {
    "duration": 3,
    "start_time": "2024-05-30T20:11:02.292Z"
   },
   {
    "duration": 5,
    "start_time": "2024-05-30T20:11:02.298Z"
   },
   {
    "duration": 4,
    "start_time": "2024-05-30T20:11:02.307Z"
   },
   {
    "duration": 4,
    "start_time": "2024-05-30T20:11:02.315Z"
   },
   {
    "duration": 3,
    "start_time": "2024-05-30T20:11:02.323Z"
   },
   {
    "duration": 4,
    "start_time": "2024-05-30T20:11:02.330Z"
   },
   {
    "duration": 201,
    "start_time": "2024-05-30T20:11:11.725Z"
   },
   {
    "duration": 929,
    "start_time": "2024-05-30T20:11:36.120Z"
   },
   {
    "duration": 271,
    "start_time": "2024-05-30T20:11:37.052Z"
   },
   {
    "duration": 4,
    "start_time": "2024-05-30T20:11:37.326Z"
   },
   {
    "duration": 17,
    "start_time": "2024-05-30T20:11:37.334Z"
   },
   {
    "duration": 44,
    "start_time": "2024-05-30T20:11:37.355Z"
   },
   {
    "duration": 9,
    "start_time": "2024-05-30T20:11:37.402Z"
   },
   {
    "duration": 15,
    "start_time": "2024-05-30T20:11:37.415Z"
   },
   {
    "duration": 15,
    "start_time": "2024-05-30T20:11:37.433Z"
   },
   {
    "duration": 19,
    "start_time": "2024-05-30T20:11:37.492Z"
   },
   {
    "duration": 7,
    "start_time": "2024-05-30T20:11:37.518Z"
   },
   {
    "duration": 68,
    "start_time": "2024-05-30T20:11:37.529Z"
   },
   {
    "duration": 13,
    "start_time": "2024-05-30T20:11:37.600Z"
   },
   {
    "duration": 46,
    "start_time": "2024-05-30T20:11:37.617Z"
   },
   {
    "duration": 46,
    "start_time": "2024-05-30T20:11:37.691Z"
   },
   {
    "duration": 21,
    "start_time": "2024-05-30T20:11:37.740Z"
   },
   {
    "duration": 10,
    "start_time": "2024-05-30T20:11:37.792Z"
   },
   {
    "duration": 28,
    "start_time": "2024-05-30T20:11:37.806Z"
   },
   {
    "duration": 54,
    "start_time": "2024-05-30T20:11:37.838Z"
   },
   {
    "duration": 22,
    "start_time": "2024-05-30T20:11:37.896Z"
   },
   {
    "duration": 11,
    "start_time": "2024-05-30T20:11:37.922Z"
   },
   {
    "duration": 72,
    "start_time": "2024-05-30T20:11:37.938Z"
   },
   {
    "duration": 76,
    "start_time": "2024-05-30T20:11:38.014Z"
   },
   {
    "duration": 13,
    "start_time": "2024-05-30T20:11:38.094Z"
   },
   {
    "duration": 36,
    "start_time": "2024-05-30T20:11:38.110Z"
   },
   {
    "duration": 53,
    "start_time": "2024-05-30T20:11:38.149Z"
   },
   {
    "duration": 28,
    "start_time": "2024-05-30T20:11:38.205Z"
   },
   {
    "duration": 21,
    "start_time": "2024-05-30T20:11:38.236Z"
   },
   {
    "duration": 23,
    "start_time": "2024-05-30T20:11:38.296Z"
   },
   {
    "duration": 30,
    "start_time": "2024-05-30T20:11:38.322Z"
   },
   {
    "duration": 52,
    "start_time": "2024-05-30T20:11:38.356Z"
   },
   {
    "duration": 4,
    "start_time": "2024-05-30T20:11:38.410Z"
   },
   {
    "duration": 4,
    "start_time": "2024-05-30T20:11:38.419Z"
   },
   {
    "duration": 3,
    "start_time": "2024-05-30T20:11:38.427Z"
   },
   {
    "duration": 4,
    "start_time": "2024-05-30T20:11:38.433Z"
   },
   {
    "duration": 50,
    "start_time": "2024-05-30T20:11:38.440Z"
   },
   {
    "duration": 3,
    "start_time": "2024-05-30T20:11:38.494Z"
   },
   {
    "duration": 3,
    "start_time": "2024-05-30T20:11:38.500Z"
   },
   {
    "duration": 4,
    "start_time": "2024-05-30T20:11:38.506Z"
   },
   {
    "duration": 4,
    "start_time": "2024-05-30T20:11:38.513Z"
   },
   {
    "duration": 35,
    "start_time": "2024-05-30T20:11:52.869Z"
   },
   {
    "duration": 30,
    "start_time": "2024-05-30T20:11:59.872Z"
   },
   {
    "duration": 32,
    "start_time": "2024-05-30T20:12:14.679Z"
   },
   {
    "duration": 41,
    "start_time": "2024-05-30T20:12:24.714Z"
   },
   {
    "duration": 36,
    "start_time": "2024-05-30T20:12:41.284Z"
   },
   {
    "duration": 41,
    "start_time": "2024-05-30T20:13:11.265Z"
   },
   {
    "duration": 944,
    "start_time": "2024-05-30T20:13:16.988Z"
   },
   {
    "duration": 286,
    "start_time": "2024-05-30T20:13:17.935Z"
   },
   {
    "duration": 4,
    "start_time": "2024-05-30T20:13:18.224Z"
   },
   {
    "duration": 17,
    "start_time": "2024-05-30T20:13:18.232Z"
   },
   {
    "duration": 48,
    "start_time": "2024-05-30T20:13:18.255Z"
   },
   {
    "duration": 8,
    "start_time": "2024-05-30T20:13:18.308Z"
   },
   {
    "duration": 31,
    "start_time": "2024-05-30T20:13:18.321Z"
   },
   {
    "duration": 46,
    "start_time": "2024-05-30T20:13:18.355Z"
   },
   {
    "duration": 21,
    "start_time": "2024-05-30T20:13:18.404Z"
   },
   {
    "duration": 10,
    "start_time": "2024-05-30T20:13:18.428Z"
   },
   {
    "duration": 71,
    "start_time": "2024-05-30T20:13:18.442Z"
   },
   {
    "duration": 16,
    "start_time": "2024-05-30T20:13:18.516Z"
   },
   {
    "duration": 88,
    "start_time": "2024-05-30T20:13:18.536Z"
   },
   {
    "duration": 64,
    "start_time": "2024-05-30T20:13:18.632Z"
   },
   {
    "duration": 22,
    "start_time": "2024-05-30T20:13:18.699Z"
   },
   {
    "duration": 11,
    "start_time": "2024-05-30T20:13:18.724Z"
   },
   {
    "duration": 72,
    "start_time": "2024-05-30T20:13:18.739Z"
   },
   {
    "duration": 25,
    "start_time": "2024-05-30T20:13:18.815Z"
   },
   {
    "duration": 54,
    "start_time": "2024-05-30T20:13:18.843Z"
   },
   {
    "duration": 17,
    "start_time": "2024-05-30T20:13:18.901Z"
   },
   {
    "duration": 75,
    "start_time": "2024-05-30T20:13:18.921Z"
   },
   {
    "duration": 91,
    "start_time": "2024-05-30T20:13:19.000Z"
   },
   {
    "duration": 16,
    "start_time": "2024-05-30T20:13:19.094Z"
   },
   {
    "duration": 39,
    "start_time": "2024-05-30T20:13:19.114Z"
   },
   {
    "duration": 61,
    "start_time": "2024-05-30T20:13:19.156Z"
   },
   {
    "duration": 27,
    "start_time": "2024-05-30T20:13:19.220Z"
   },
   {
    "duration": 52,
    "start_time": "2024-05-30T20:13:19.250Z"
   },
   {
    "duration": 30,
    "start_time": "2024-05-30T20:13:19.305Z"
   },
   {
    "duration": 68,
    "start_time": "2024-05-30T20:13:19.339Z"
   },
   {
    "duration": 35,
    "start_time": "2024-05-30T20:13:19.410Z"
   },
   {
    "duration": 11,
    "start_time": "2024-05-30T20:13:19.448Z"
   },
   {
    "duration": 3,
    "start_time": "2024-05-30T20:13:19.462Z"
   },
   {
    "duration": 23,
    "start_time": "2024-05-30T20:13:19.469Z"
   },
   {
    "duration": 4,
    "start_time": "2024-05-30T20:13:19.495Z"
   },
   {
    "duration": 3,
    "start_time": "2024-05-30T20:13:19.502Z"
   },
   {
    "duration": 3,
    "start_time": "2024-05-30T20:13:19.509Z"
   },
   {
    "duration": 4,
    "start_time": "2024-05-30T20:13:19.515Z"
   },
   {
    "duration": 3,
    "start_time": "2024-05-30T20:13:19.522Z"
   },
   {
    "duration": 4,
    "start_time": "2024-05-30T20:13:19.528Z"
   },
   {
    "duration": 896,
    "start_time": "2024-05-30T20:13:50.137Z"
   },
   {
    "duration": 277,
    "start_time": "2024-05-30T20:13:51.037Z"
   },
   {
    "duration": 4,
    "start_time": "2024-05-30T20:13:51.317Z"
   },
   {
    "duration": 17,
    "start_time": "2024-05-30T20:13:51.325Z"
   },
   {
    "duration": 50,
    "start_time": "2024-05-30T20:13:51.346Z"
   },
   {
    "duration": 10,
    "start_time": "2024-05-30T20:13:51.398Z"
   },
   {
    "duration": 14,
    "start_time": "2024-05-30T20:13:51.411Z"
   },
   {
    "duration": 14,
    "start_time": "2024-05-30T20:13:51.428Z"
   },
   {
    "duration": 57,
    "start_time": "2024-05-30T20:13:51.445Z"
   },
   {
    "duration": 9,
    "start_time": "2024-05-30T20:13:51.506Z"
   },
   {
    "duration": 28,
    "start_time": "2024-05-30T20:13:51.518Z"
   },
   {
    "duration": 49,
    "start_time": "2024-05-30T20:13:51.550Z"
   },
   {
    "duration": 45,
    "start_time": "2024-05-30T20:13:51.603Z"
   },
   {
    "duration": 74,
    "start_time": "2024-05-30T20:13:51.655Z"
   },
   {
    "duration": 21,
    "start_time": "2024-05-30T20:13:51.732Z"
   },
   {
    "duration": 36,
    "start_time": "2024-05-30T20:13:51.756Z"
   },
   {
    "duration": 29,
    "start_time": "2024-05-30T20:13:51.795Z"
   },
   {
    "duration": 24,
    "start_time": "2024-05-30T20:13:51.827Z"
   },
   {
    "duration": 54,
    "start_time": "2024-05-30T20:13:51.855Z"
   },
   {
    "duration": 13,
    "start_time": "2024-05-30T20:13:51.913Z"
   },
   {
    "duration": 69,
    "start_time": "2024-05-30T20:13:51.929Z"
   },
   {
    "duration": 62,
    "start_time": "2024-05-30T20:13:52.001Z"
   },
   {
    "duration": 29,
    "start_time": "2024-05-30T20:13:52.066Z"
   },
   {
    "duration": 37,
    "start_time": "2024-05-30T20:13:52.098Z"
   },
   {
    "duration": 58,
    "start_time": "2024-05-30T20:13:52.138Z"
   },
   {
    "duration": 28,
    "start_time": "2024-05-30T20:13:52.199Z"
   },
   {
    "duration": 21,
    "start_time": "2024-05-30T20:13:52.229Z"
   },
   {
    "duration": 60,
    "start_time": "2024-05-30T20:13:52.252Z"
   },
   {
    "duration": 30,
    "start_time": "2024-05-30T20:13:52.315Z"
   },
   {
    "duration": 67,
    "start_time": "2024-05-30T20:13:52.348Z"
   },
   {
    "duration": 4,
    "start_time": "2024-05-30T20:13:52.418Z"
   },
   {
    "duration": 4,
    "start_time": "2024-05-30T20:13:52.425Z"
   },
   {
    "duration": 4,
    "start_time": "2024-05-30T20:13:52.432Z"
   },
   {
    "duration": 3,
    "start_time": "2024-05-30T20:13:52.440Z"
   },
   {
    "duration": 5,
    "start_time": "2024-05-30T20:13:52.489Z"
   },
   {
    "duration": 4,
    "start_time": "2024-05-30T20:13:52.500Z"
   },
   {
    "duration": 9,
    "start_time": "2024-05-30T20:13:52.510Z"
   },
   {
    "duration": 7,
    "start_time": "2024-05-30T20:13:52.522Z"
   },
   {
    "duration": 7,
    "start_time": "2024-05-30T20:13:52.532Z"
   },
   {
    "duration": 208,
    "start_time": "2024-05-30T20:15:37.792Z"
   },
   {
    "duration": 72,
    "start_time": "2024-05-30T20:15:45.440Z"
   },
   {
    "duration": 906,
    "start_time": "2024-05-30T20:15:59.628Z"
   },
   {
    "duration": 298,
    "start_time": "2024-05-30T20:16:00.537Z"
   },
   {
    "duration": 4,
    "start_time": "2024-05-30T20:16:00.838Z"
   },
   {
    "duration": 17,
    "start_time": "2024-05-30T20:16:00.847Z"
   },
   {
    "duration": 38,
    "start_time": "2024-05-30T20:16:00.867Z"
   },
   {
    "duration": 9,
    "start_time": "2024-05-30T20:16:00.908Z"
   },
   {
    "duration": 17,
    "start_time": "2024-05-30T20:16:00.921Z"
   },
   {
    "duration": 54,
    "start_time": "2024-05-30T20:16:00.941Z"
   },
   {
    "duration": 20,
    "start_time": "2024-05-30T20:16:00.998Z"
   },
   {
    "duration": 8,
    "start_time": "2024-05-30T20:16:01.024Z"
   },
   {
    "duration": 62,
    "start_time": "2024-05-30T20:16:01.035Z"
   },
   {
    "duration": 12,
    "start_time": "2024-05-30T20:16:01.100Z"
   },
   {
    "duration": 45,
    "start_time": "2024-05-30T20:16:01.115Z"
   },
   {
    "duration": 46,
    "start_time": "2024-05-30T20:16:01.192Z"
   },
   {
    "duration": 21,
    "start_time": "2024-05-30T20:16:01.241Z"
   },
   {
    "duration": 10,
    "start_time": "2024-05-30T20:16:01.292Z"
   },
   {
    "duration": 29,
    "start_time": "2024-05-30T20:16:01.306Z"
   },
   {
    "duration": 56,
    "start_time": "2024-05-30T20:16:01.338Z"
   },
   {
    "duration": 23,
    "start_time": "2024-05-30T20:16:01.396Z"
   },
   {
    "duration": 13,
    "start_time": "2024-05-30T20:16:01.421Z"
   },
   {
    "duration": 72,
    "start_time": "2024-05-30T20:16:01.437Z"
   },
   {
    "duration": 61,
    "start_time": "2024-05-30T20:16:01.512Z"
   },
   {
    "duration": 12,
    "start_time": "2024-05-30T20:16:01.590Z"
   },
   {
    "duration": 36,
    "start_time": "2024-05-30T20:16:01.606Z"
   },
   {
    "duration": 62,
    "start_time": "2024-05-30T20:16:01.644Z"
   },
   {
    "duration": 32,
    "start_time": "2024-05-30T20:16:01.710Z"
   },
   {
    "duration": 50,
    "start_time": "2024-05-30T20:16:01.745Z"
   },
   {
    "duration": 23,
    "start_time": "2024-05-30T20:16:01.804Z"
   },
   {
    "duration": 60,
    "start_time": "2024-05-30T20:16:01.830Z"
   },
   {
    "duration": 42,
    "start_time": "2024-05-30T20:16:01.894Z"
   },
   {
    "duration": 4,
    "start_time": "2024-05-30T20:16:01.939Z"
   },
   {
    "duration": 3,
    "start_time": "2024-05-30T20:16:01.946Z"
   },
   {
    "duration": 39,
    "start_time": "2024-05-30T20:16:01.952Z"
   },
   {
    "duration": 4,
    "start_time": "2024-05-30T20:16:01.994Z"
   },
   {
    "duration": 4,
    "start_time": "2024-05-30T20:16:02.000Z"
   },
   {
    "duration": 3,
    "start_time": "2024-05-30T20:16:02.010Z"
   },
   {
    "duration": 3,
    "start_time": "2024-05-30T20:16:02.017Z"
   },
   {
    "duration": 3,
    "start_time": "2024-05-30T20:16:02.024Z"
   },
   {
    "duration": 7,
    "start_time": "2024-05-30T20:16:02.031Z"
   },
   {
    "duration": 197,
    "start_time": "2024-05-30T20:16:08.482Z"
   },
   {
    "duration": 934,
    "start_time": "2024-05-30T20:16:13.795Z"
   },
   {
    "duration": 315,
    "start_time": "2024-05-30T20:16:14.733Z"
   },
   {
    "duration": 4,
    "start_time": "2024-05-30T20:16:15.053Z"
   },
   {
    "duration": 30,
    "start_time": "2024-05-30T20:16:15.062Z"
   },
   {
    "duration": 18,
    "start_time": "2024-05-30T20:16:15.095Z"
   },
   {
    "duration": 9,
    "start_time": "2024-05-30T20:16:15.116Z"
   },
   {
    "duration": 15,
    "start_time": "2024-05-30T20:16:15.128Z"
   },
   {
    "duration": 54,
    "start_time": "2024-05-30T20:16:15.147Z"
   },
   {
    "duration": 18,
    "start_time": "2024-05-30T20:16:15.205Z"
   },
   {
    "duration": 8,
    "start_time": "2024-05-30T20:16:15.230Z"
   },
   {
    "duration": 66,
    "start_time": "2024-05-30T20:16:15.241Z"
   },
   {
    "duration": 12,
    "start_time": "2024-05-30T20:16:15.310Z"
   },
   {
    "duration": 73,
    "start_time": "2024-05-30T20:16:15.325Z"
   },
   {
    "duration": 51,
    "start_time": "2024-05-30T20:16:15.401Z"
   },
   {
    "duration": 45,
    "start_time": "2024-05-30T20:16:15.455Z"
   },
   {
    "duration": 10,
    "start_time": "2024-05-30T20:16:15.503Z"
   },
   {
    "duration": 31,
    "start_time": "2024-05-30T20:16:15.517Z"
   },
   {
    "duration": 55,
    "start_time": "2024-05-30T20:16:15.551Z"
   },
   {
    "duration": 22,
    "start_time": "2024-05-30T20:16:15.609Z"
   },
   {
    "duration": 12,
    "start_time": "2024-05-30T20:16:15.635Z"
   },
   {
    "duration": 67,
    "start_time": "2024-05-30T20:16:15.650Z"
   },
   {
    "duration": 80,
    "start_time": "2024-05-30T20:16:15.720Z"
   },
   {
    "duration": 13,
    "start_time": "2024-05-30T20:16:15.803Z"
   },
   {
    "duration": 35,
    "start_time": "2024-05-30T20:16:15.822Z"
   },
   {
    "duration": 59,
    "start_time": "2024-05-30T20:16:15.860Z"
   },
   {
    "duration": 29,
    "start_time": "2024-05-30T20:16:15.923Z"
   },
   {
    "duration": 55,
    "start_time": "2024-05-30T20:16:15.957Z"
   },
   {
    "duration": 29,
    "start_time": "2024-05-30T20:16:16.021Z"
   },
   {
    "duration": 57,
    "start_time": "2024-05-30T20:16:16.054Z"
   },
   {
    "duration": 43,
    "start_time": "2024-05-30T20:16:16.114Z"
   },
   {
    "duration": 4,
    "start_time": "2024-05-30T20:16:16.160Z"
   },
   {
    "duration": 7,
    "start_time": "2024-05-30T20:16:16.191Z"
   },
   {
    "duration": 4,
    "start_time": "2024-05-30T20:16:16.201Z"
   },
   {
    "duration": 4,
    "start_time": "2024-05-30T20:16:16.208Z"
   },
   {
    "duration": 4,
    "start_time": "2024-05-30T20:16:16.216Z"
   },
   {
    "duration": 4,
    "start_time": "2024-05-30T20:16:16.223Z"
   },
   {
    "duration": 3,
    "start_time": "2024-05-30T20:16:16.230Z"
   },
   {
    "duration": 3,
    "start_time": "2024-05-30T20:16:16.237Z"
   },
   {
    "duration": 3,
    "start_time": "2024-05-30T20:16:16.293Z"
   },
   {
    "duration": 205,
    "start_time": "2024-05-30T20:16:27.817Z"
   },
   {
    "duration": 918,
    "start_time": "2024-05-30T20:16:37.126Z"
   },
   {
    "duration": 279,
    "start_time": "2024-05-30T20:16:38.047Z"
   },
   {
    "duration": 4,
    "start_time": "2024-05-30T20:16:38.329Z"
   },
   {
    "duration": 18,
    "start_time": "2024-05-30T20:16:38.339Z"
   },
   {
    "duration": 44,
    "start_time": "2024-05-30T20:16:38.361Z"
   },
   {
    "duration": 8,
    "start_time": "2024-05-30T20:16:38.408Z"
   },
   {
    "duration": 15,
    "start_time": "2024-05-30T20:16:38.420Z"
   },
   {
    "duration": 52,
    "start_time": "2024-05-30T20:16:38.438Z"
   },
   {
    "duration": 20,
    "start_time": "2024-05-30T20:16:38.493Z"
   },
   {
    "duration": 7,
    "start_time": "2024-05-30T20:16:38.520Z"
   },
   {
    "duration": 68,
    "start_time": "2024-05-30T20:16:38.530Z"
   },
   {
    "duration": 18,
    "start_time": "2024-05-30T20:16:38.600Z"
   },
   {
    "duration": 91,
    "start_time": "2024-05-30T20:16:38.623Z"
   },
   {
    "duration": 55,
    "start_time": "2024-05-30T20:16:38.718Z"
   },
   {
    "duration": 22,
    "start_time": "2024-05-30T20:16:38.792Z"
   },
   {
    "duration": 12,
    "start_time": "2024-05-30T20:16:38.817Z"
   },
   {
    "duration": 69,
    "start_time": "2024-05-30T20:16:38.831Z"
   },
   {
    "duration": 30,
    "start_time": "2024-05-30T20:16:38.905Z"
   },
   {
    "duration": 50,
    "start_time": "2024-05-30T20:16:38.942Z"
   },
   {
    "duration": 17,
    "start_time": "2024-05-30T20:16:38.995Z"
   },
   {
    "duration": 74,
    "start_time": "2024-05-30T20:16:39.016Z"
   },
   {
    "duration": 61,
    "start_time": "2024-05-30T20:16:39.092Z"
   },
   {
    "duration": 39,
    "start_time": "2024-05-30T20:16:39.156Z"
   },
   {
    "duration": 40,
    "start_time": "2024-05-30T20:16:39.198Z"
   },
   {
    "duration": 56,
    "start_time": "2024-05-30T20:16:39.242Z"
   },
   {
    "duration": 31,
    "start_time": "2024-05-30T20:16:39.305Z"
   },
   {
    "duration": 20,
    "start_time": "2024-05-30T20:16:39.339Z"
   },
   {
    "duration": 25,
    "start_time": "2024-05-30T20:16:39.391Z"
   },
   {
    "duration": 32,
    "start_time": "2024-05-30T20:16:39.419Z"
   },
   {
    "duration": 72,
    "start_time": "2024-05-30T20:16:39.454Z"
   },
   {
    "duration": 4,
    "start_time": "2024-05-30T20:16:39.529Z"
   },
   {
    "duration": 4,
    "start_time": "2024-05-30T20:16:39.536Z"
   },
   {
    "duration": 3,
    "start_time": "2024-05-30T20:16:39.544Z"
   },
   {
    "duration": 4,
    "start_time": "2024-05-30T20:16:39.551Z"
   },
   {
    "duration": 3,
    "start_time": "2024-05-30T20:16:39.595Z"
   },
   {
    "duration": 5,
    "start_time": "2024-05-30T20:16:39.602Z"
   },
   {
    "duration": 6,
    "start_time": "2024-05-30T20:16:39.610Z"
   },
   {
    "duration": 4,
    "start_time": "2024-05-30T20:16:39.620Z"
   },
   {
    "duration": 4,
    "start_time": "2024-05-30T20:16:39.628Z"
   },
   {
    "duration": 1314,
    "start_time": "2024-05-30T20:20:33.725Z"
   },
   {
    "duration": 92,
    "start_time": "2024-05-30T20:20:59.808Z"
   },
   {
    "duration": 892,
    "start_time": "2024-05-30T20:21:12.848Z"
   },
   {
    "duration": 276,
    "start_time": "2024-05-30T20:21:13.744Z"
   },
   {
    "duration": 5,
    "start_time": "2024-05-30T20:21:14.023Z"
   },
   {
    "duration": 17,
    "start_time": "2024-05-30T20:21:14.034Z"
   },
   {
    "duration": 40,
    "start_time": "2024-05-30T20:21:14.054Z"
   },
   {
    "duration": 9,
    "start_time": "2024-05-30T20:21:14.096Z"
   },
   {
    "duration": 18,
    "start_time": "2024-05-30T20:21:14.109Z"
   },
   {
    "duration": 18,
    "start_time": "2024-05-30T20:21:14.130Z"
   },
   {
    "duration": 56,
    "start_time": "2024-05-30T20:21:14.150Z"
   },
   {
    "duration": 10,
    "start_time": "2024-05-30T20:21:14.212Z"
   },
   {
    "duration": 64,
    "start_time": "2024-05-30T20:21:14.225Z"
   },
   {
    "duration": 11,
    "start_time": "2024-05-30T20:21:14.292Z"
   },
   {
    "duration": 48,
    "start_time": "2024-05-30T20:21:14.306Z"
   },
   {
    "duration": 75,
    "start_time": "2024-05-30T20:21:14.360Z"
   },
   {
    "duration": 21,
    "start_time": "2024-05-30T20:21:14.439Z"
   },
   {
    "duration": 34,
    "start_time": "2024-05-30T20:21:14.463Z"
   },
   {
    "duration": 30,
    "start_time": "2024-05-30T20:21:14.499Z"
   },
   {
    "duration": 21,
    "start_time": "2024-05-30T20:21:14.532Z"
   },
   {
    "duration": 56,
    "start_time": "2024-05-30T20:21:14.556Z"
   },
   {
    "duration": 12,
    "start_time": "2024-05-30T20:21:14.616Z"
   },
   {
    "duration": 72,
    "start_time": "2024-05-30T20:21:14.632Z"
   },
   {
    "duration": 62,
    "start_time": "2024-05-30T20:21:14.707Z"
   },
   {
    "duration": 33,
    "start_time": "2024-05-30T20:21:14.772Z"
   },
   {
    "duration": 40,
    "start_time": "2024-05-30T20:21:14.808Z"
   },
   {
    "duration": 50,
    "start_time": "2024-05-30T20:21:14.850Z"
   },
   {
    "duration": 28,
    "start_time": "2024-05-30T20:21:14.903Z"
   },
   {
    "duration": 21,
    "start_time": "2024-05-30T20:21:14.934Z"
   },
   {
    "duration": 51,
    "start_time": "2024-05-30T20:21:14.961Z"
   },
   {
    "duration": 32,
    "start_time": "2024-05-30T20:21:15.015Z"
   },
   {
    "duration": 77,
    "start_time": "2024-05-30T20:21:15.051Z"
   },
   {
    "duration": 1295,
    "start_time": "2024-05-30T20:21:15.131Z"
   },
   {
    "duration": 0,
    "start_time": "2024-05-30T20:21:16.429Z"
   },
   {
    "duration": 0,
    "start_time": "2024-05-30T20:21:16.431Z"
   },
   {
    "duration": 0,
    "start_time": "2024-05-30T20:21:16.433Z"
   },
   {
    "duration": 0,
    "start_time": "2024-05-30T20:21:16.435Z"
   },
   {
    "duration": 0,
    "start_time": "2024-05-30T20:21:16.437Z"
   },
   {
    "duration": 0,
    "start_time": "2024-05-30T20:21:16.439Z"
   },
   {
    "duration": 0,
    "start_time": "2024-05-30T20:21:16.441Z"
   },
   {
    "duration": 0,
    "start_time": "2024-05-30T20:21:16.444Z"
   },
   {
    "duration": 87,
    "start_time": "2024-05-30T20:22:16.760Z"
   },
   {
    "duration": 87,
    "start_time": "2024-05-30T20:23:47.719Z"
   },
   {
    "duration": 87,
    "start_time": "2024-05-30T20:24:14.469Z"
   },
   {
    "duration": 949,
    "start_time": "2024-05-30T20:25:01.300Z"
   },
   {
    "duration": 305,
    "start_time": "2024-05-30T20:25:02.253Z"
   },
   {
    "duration": 5,
    "start_time": "2024-05-30T20:25:02.560Z"
   },
   {
    "duration": 29,
    "start_time": "2024-05-30T20:25:02.569Z"
   },
   {
    "duration": 20,
    "start_time": "2024-05-30T20:25:02.603Z"
   },
   {
    "duration": 9,
    "start_time": "2024-05-30T20:25:02.626Z"
   },
   {
    "duration": 59,
    "start_time": "2024-05-30T20:25:02.639Z"
   },
   {
    "duration": 15,
    "start_time": "2024-05-30T20:25:02.702Z"
   },
   {
    "duration": 21,
    "start_time": "2024-05-30T20:25:02.721Z"
   },
   {
    "duration": 53,
    "start_time": "2024-05-30T20:25:02.745Z"
   },
   {
    "duration": 27,
    "start_time": "2024-05-30T20:25:02.801Z"
   },
   {
    "duration": 11,
    "start_time": "2024-05-30T20:25:02.830Z"
   },
   {
    "duration": 74,
    "start_time": "2024-05-30T20:25:02.844Z"
   },
   {
    "duration": 74,
    "start_time": "2024-05-30T20:25:02.924Z"
   },
   {
    "duration": 26,
    "start_time": "2024-05-30T20:25:03.002Z"
   },
   {
    "duration": 13,
    "start_time": "2024-05-30T20:25:03.032Z"
   },
   {
    "duration": 69,
    "start_time": "2024-05-30T20:25:03.049Z"
   },
   {
    "duration": 24,
    "start_time": "2024-05-30T20:25:03.122Z"
   },
   {
    "duration": 55,
    "start_time": "2024-05-30T20:25:03.148Z"
   },
   {
    "duration": 12,
    "start_time": "2024-05-30T20:25:03.207Z"
   },
   {
    "duration": 70,
    "start_time": "2024-05-30T20:25:03.223Z"
   },
   {
    "duration": 66,
    "start_time": "2024-05-30T20:25:03.296Z"
   },
   {
    "duration": 36,
    "start_time": "2024-05-30T20:25:03.366Z"
   },
   {
    "duration": 35,
    "start_time": "2024-05-30T20:25:03.405Z"
   },
   {
    "duration": 50,
    "start_time": "2024-05-30T20:25:03.443Z"
   },
   {
    "duration": 30,
    "start_time": "2024-05-30T20:25:03.496Z"
   },
   {
    "duration": 21,
    "start_time": "2024-05-30T20:25:03.528Z"
   },
   {
    "duration": 56,
    "start_time": "2024-05-30T20:25:03.552Z"
   },
   {
    "duration": 31,
    "start_time": "2024-05-30T20:25:03.611Z"
   },
   {
    "duration": 85,
    "start_time": "2024-05-30T20:25:03.646Z"
   },
   {
    "duration": 3,
    "start_time": "2024-05-30T20:25:03.734Z"
   },
   {
    "duration": 4,
    "start_time": "2024-05-30T20:25:03.740Z"
   },
   {
    "duration": 4,
    "start_time": "2024-05-30T20:25:03.747Z"
   },
   {
    "duration": 4,
    "start_time": "2024-05-30T20:25:03.754Z"
   },
   {
    "duration": 5,
    "start_time": "2024-05-30T20:25:03.792Z"
   },
   {
    "duration": 5,
    "start_time": "2024-05-30T20:25:03.800Z"
   },
   {
    "duration": 4,
    "start_time": "2024-05-30T20:25:03.808Z"
   },
   {
    "duration": 3,
    "start_time": "2024-05-30T20:25:03.816Z"
   },
   {
    "duration": 3,
    "start_time": "2024-05-30T20:25:03.823Z"
   },
   {
    "duration": 1248,
    "start_time": "2024-05-30T20:27:36.775Z"
   },
   {
    "duration": 927,
    "start_time": "2024-05-30T20:29:26.608Z"
   },
   {
    "duration": 276,
    "start_time": "2024-05-30T20:29:27.538Z"
   },
   {
    "duration": 5,
    "start_time": "2024-05-30T20:29:27.819Z"
   },
   {
    "duration": 20,
    "start_time": "2024-05-30T20:29:27.829Z"
   },
   {
    "duration": 51,
    "start_time": "2024-05-30T20:29:27.852Z"
   },
   {
    "duration": 9,
    "start_time": "2024-05-30T20:29:27.906Z"
   },
   {
    "duration": 17,
    "start_time": "2024-05-30T20:29:27.918Z"
   },
   {
    "duration": 52,
    "start_time": "2024-05-30T20:29:27.938Z"
   },
   {
    "duration": 21,
    "start_time": "2024-05-30T20:29:27.993Z"
   },
   {
    "duration": 9,
    "start_time": "2024-05-30T20:29:28.022Z"
   },
   {
    "duration": 64,
    "start_time": "2024-05-30T20:29:28.034Z"
   },
   {
    "duration": 12,
    "start_time": "2024-05-30T20:29:28.102Z"
   },
   {
    "duration": 45,
    "start_time": "2024-05-30T20:29:28.116Z"
   },
   {
    "duration": 51,
    "start_time": "2024-05-30T20:29:28.191Z"
   },
   {
    "duration": 19,
    "start_time": "2024-05-30T20:29:28.245Z"
   },
   {
    "duration": 10,
    "start_time": "2024-05-30T20:29:28.291Z"
   },
   {
    "duration": 32,
    "start_time": "2024-05-30T20:29:28.304Z"
   },
   {
    "duration": 56,
    "start_time": "2024-05-30T20:29:28.339Z"
   },
   {
    "duration": 23,
    "start_time": "2024-05-30T20:29:28.398Z"
   },
   {
    "duration": 13,
    "start_time": "2024-05-30T20:29:28.424Z"
   },
   {
    "duration": 67,
    "start_time": "2024-05-30T20:29:28.440Z"
   },
   {
    "duration": 59,
    "start_time": "2024-05-30T20:29:28.510Z"
   },
   {
    "duration": 30,
    "start_time": "2024-05-30T20:29:28.572Z"
   },
   {
    "duration": 36,
    "start_time": "2024-05-30T20:29:28.605Z"
   },
   {
    "duration": 58,
    "start_time": "2024-05-30T20:29:28.644Z"
   },
   {
    "duration": 27,
    "start_time": "2024-05-30T20:29:28.705Z"
   },
   {
    "duration": 23,
    "start_time": "2024-05-30T20:29:28.735Z"
   },
   {
    "duration": 24,
    "start_time": "2024-05-30T20:29:28.797Z"
   },
   {
    "duration": 30,
    "start_time": "2024-05-30T20:29:28.824Z"
   },
   {
    "duration": 75,
    "start_time": "2024-05-30T20:29:28.857Z"
   },
   {
    "duration": 1310,
    "start_time": "2024-05-30T20:29:28.935Z"
   },
   {
    "duration": 0,
    "start_time": "2024-05-30T20:29:30.248Z"
   },
   {
    "duration": 0,
    "start_time": "2024-05-30T20:29:30.250Z"
   },
   {
    "duration": 0,
    "start_time": "2024-05-30T20:29:30.252Z"
   },
   {
    "duration": 0,
    "start_time": "2024-05-30T20:29:30.254Z"
   },
   {
    "duration": 0,
    "start_time": "2024-05-30T20:29:30.257Z"
   },
   {
    "duration": 0,
    "start_time": "2024-05-30T20:29:30.259Z"
   },
   {
    "duration": 0,
    "start_time": "2024-05-30T20:29:30.262Z"
   },
   {
    "duration": 0,
    "start_time": "2024-05-30T20:29:30.291Z"
   },
   {
    "duration": 924,
    "start_time": "2024-05-30T20:29:55.797Z"
   },
   {
    "duration": 295,
    "start_time": "2024-05-30T20:29:56.724Z"
   },
   {
    "duration": 5,
    "start_time": "2024-05-30T20:29:57.022Z"
   },
   {
    "duration": 18,
    "start_time": "2024-05-30T20:29:57.032Z"
   },
   {
    "duration": 43,
    "start_time": "2024-05-30T20:29:57.054Z"
   },
   {
    "duration": 10,
    "start_time": "2024-05-30T20:29:57.100Z"
   },
   {
    "duration": 15,
    "start_time": "2024-05-30T20:29:57.113Z"
   },
   {
    "duration": 15,
    "start_time": "2024-05-30T20:29:57.131Z"
   },
   {
    "duration": 19,
    "start_time": "2024-05-30T20:29:57.192Z"
   },
   {
    "duration": 8,
    "start_time": "2024-05-30T20:29:57.217Z"
   },
   {
    "duration": 63,
    "start_time": "2024-05-30T20:29:57.228Z"
   },
   {
    "duration": 12,
    "start_time": "2024-05-30T20:29:57.294Z"
   },
   {
    "duration": 46,
    "start_time": "2024-05-30T20:29:57.311Z"
   },
   {
    "duration": 72,
    "start_time": "2024-05-30T20:29:57.360Z"
   },
   {
    "duration": 21,
    "start_time": "2024-05-30T20:29:57.435Z"
   },
   {
    "duration": 38,
    "start_time": "2024-05-30T20:29:57.459Z"
   },
   {
    "duration": 29,
    "start_time": "2024-05-30T20:29:57.501Z"
   },
   {
    "duration": 59,
    "start_time": "2024-05-30T20:29:57.533Z"
   },
   {
    "duration": 30,
    "start_time": "2024-05-30T20:29:57.596Z"
   },
   {
    "duration": 14,
    "start_time": "2024-05-30T20:29:57.629Z"
   },
   {
    "duration": 64,
    "start_time": "2024-05-30T20:29:57.647Z"
   },
   {
    "duration": 57,
    "start_time": "2024-05-30T20:29:57.713Z"
   },
   {
    "duration": 12,
    "start_time": "2024-05-30T20:29:57.791Z"
   },
   {
    "duration": 37,
    "start_time": "2024-05-30T20:29:57.807Z"
   },
   {
    "duration": 58,
    "start_time": "2024-05-30T20:29:57.846Z"
   },
   {
    "duration": 29,
    "start_time": "2024-05-30T20:29:57.907Z"
   },
   {
    "duration": 21,
    "start_time": "2024-05-30T20:29:57.939Z"
   },
   {
    "duration": 24,
    "start_time": "2024-05-30T20:29:57.991Z"
   },
   {
    "duration": 30,
    "start_time": "2024-05-30T20:29:58.018Z"
   },
   {
    "duration": 72,
    "start_time": "2024-05-30T20:29:58.051Z"
   },
   {
    "duration": 21,
    "start_time": "2024-05-30T20:29:58.127Z"
   },
   {
    "duration": 3,
    "start_time": "2024-05-30T20:29:58.153Z"
   },
   {
    "duration": 4,
    "start_time": "2024-05-30T20:29:58.190Z"
   },
   {
    "duration": 4,
    "start_time": "2024-05-30T20:29:58.197Z"
   },
   {
    "duration": 4,
    "start_time": "2024-05-30T20:29:58.204Z"
   },
   {
    "duration": 4,
    "start_time": "2024-05-30T20:29:58.211Z"
   },
   {
    "duration": 4,
    "start_time": "2024-05-30T20:29:58.218Z"
   },
   {
    "duration": 3,
    "start_time": "2024-05-30T20:29:58.225Z"
   },
   {
    "duration": 60,
    "start_time": "2024-05-30T20:29:58.231Z"
   },
   {
    "duration": 13,
    "start_time": "2024-05-30T20:30:55.744Z"
   },
   {
    "duration": 4,
    "start_time": "2024-05-30T20:31:20.030Z"
   },
   {
    "duration": 1276,
    "start_time": "2024-05-30T20:31:39.980Z"
   },
   {
    "duration": 24,
    "start_time": "2024-05-30T20:32:08.263Z"
   },
   {
    "duration": 21,
    "start_time": "2024-05-30T20:32:44.541Z"
   },
   {
    "duration": 86,
    "start_time": "2024-05-30T20:33:31.774Z"
   },
   {
    "duration": 888,
    "start_time": "2024-05-30T20:33:40.839Z"
   },
   {
    "duration": 277,
    "start_time": "2024-05-30T20:33:41.731Z"
   },
   {
    "duration": 6,
    "start_time": "2024-05-30T20:33:42.010Z"
   },
   {
    "duration": 17,
    "start_time": "2024-05-30T20:33:42.019Z"
   },
   {
    "duration": 18,
    "start_time": "2024-05-30T20:33:42.040Z"
   },
   {
    "duration": 9,
    "start_time": "2024-05-30T20:33:42.090Z"
   },
   {
    "duration": 16,
    "start_time": "2024-05-30T20:33:42.102Z"
   },
   {
    "duration": 16,
    "start_time": "2024-05-30T20:33:42.120Z"
   },
   {
    "duration": 61,
    "start_time": "2024-05-30T20:33:42.140Z"
   },
   {
    "duration": 9,
    "start_time": "2024-05-30T20:33:42.204Z"
   },
   {
    "duration": 27,
    "start_time": "2024-05-30T20:33:42.216Z"
   },
   {
    "duration": 48,
    "start_time": "2024-05-30T20:33:42.247Z"
   },
   {
    "duration": 44,
    "start_time": "2024-05-30T20:33:42.299Z"
   },
   {
    "duration": 75,
    "start_time": "2024-05-30T20:33:42.351Z"
   },
   {
    "duration": 20,
    "start_time": "2024-05-30T20:33:42.429Z"
   },
   {
    "duration": 40,
    "start_time": "2024-05-30T20:33:42.452Z"
   },
   {
    "duration": 37,
    "start_time": "2024-05-30T20:33:42.495Z"
   },
   {
    "duration": 55,
    "start_time": "2024-05-30T20:33:42.536Z"
   },
   {
    "duration": 24,
    "start_time": "2024-05-30T20:33:42.594Z"
   },
   {
    "duration": 13,
    "start_time": "2024-05-30T20:33:42.620Z"
   },
   {
    "duration": 71,
    "start_time": "2024-05-30T20:33:42.636Z"
   },
   {
    "duration": 61,
    "start_time": "2024-05-30T20:33:42.709Z"
   },
   {
    "duration": 30,
    "start_time": "2024-05-30T20:33:42.773Z"
   },
   {
    "duration": 41,
    "start_time": "2024-05-30T20:33:42.808Z"
   },
   {
    "duration": 53,
    "start_time": "2024-05-30T20:33:42.852Z"
   },
   {
    "duration": 27,
    "start_time": "2024-05-30T20:33:42.908Z"
   },
   {
    "duration": 22,
    "start_time": "2024-05-30T20:33:42.939Z"
   },
   {
    "duration": 25,
    "start_time": "2024-05-30T20:33:42.992Z"
   },
   {
    "duration": 32,
    "start_time": "2024-05-30T20:33:43.020Z"
   },
   {
    "duration": 76,
    "start_time": "2024-05-30T20:33:43.055Z"
   },
   {
    "duration": 28,
    "start_time": "2024-05-30T20:33:43.134Z"
   },
   {
    "duration": 3,
    "start_time": "2024-05-30T20:33:43.165Z"
   },
   {
    "duration": 4,
    "start_time": "2024-05-30T20:33:43.192Z"
   },
   {
    "duration": 8,
    "start_time": "2024-05-30T20:33:43.200Z"
   },
   {
    "duration": 3,
    "start_time": "2024-05-30T20:33:43.211Z"
   },
   {
    "duration": 3,
    "start_time": "2024-05-30T20:33:43.218Z"
   },
   {
    "duration": 4,
    "start_time": "2024-05-30T20:33:43.224Z"
   },
   {
    "duration": 3,
    "start_time": "2024-05-30T20:33:43.231Z"
   },
   {
    "duration": 56,
    "start_time": "2024-05-30T20:33:43.237Z"
   },
   {
    "duration": 36,
    "start_time": "2024-05-30T20:34:05.997Z"
   },
   {
    "duration": 914,
    "start_time": "2024-05-30T20:35:07.733Z"
   },
   {
    "duration": 275,
    "start_time": "2024-05-30T20:35:08.652Z"
   },
   {
    "duration": 3,
    "start_time": "2024-05-30T20:35:08.931Z"
   },
   {
    "duration": 18,
    "start_time": "2024-05-30T20:35:08.938Z"
   },
   {
    "duration": 40,
    "start_time": "2024-05-30T20:35:08.962Z"
   },
   {
    "duration": 10,
    "start_time": "2024-05-30T20:35:09.006Z"
   },
   {
    "duration": 15,
    "start_time": "2024-05-30T20:35:09.019Z"
   },
   {
    "duration": 53,
    "start_time": "2024-05-30T20:35:09.037Z"
   },
   {
    "duration": 20,
    "start_time": "2024-05-30T20:35:09.093Z"
   },
   {
    "duration": 9,
    "start_time": "2024-05-30T20:35:09.116Z"
   },
   {
    "duration": 64,
    "start_time": "2024-05-30T20:35:09.127Z"
   },
   {
    "duration": 12,
    "start_time": "2024-05-30T20:35:09.193Z"
   },
   {
    "duration": 44,
    "start_time": "2024-05-30T20:35:09.209Z"
   },
   {
    "duration": 71,
    "start_time": "2024-05-30T20:35:09.260Z"
   },
   {
    "duration": 21,
    "start_time": "2024-05-30T20:35:09.334Z"
   },
   {
    "duration": 34,
    "start_time": "2024-05-30T20:35:09.359Z"
   },
   {
    "duration": 28,
    "start_time": "2024-05-30T20:35:09.396Z"
   },
   {
    "duration": 22,
    "start_time": "2024-05-30T20:35:09.427Z"
   },
   {
    "duration": 60,
    "start_time": "2024-05-30T20:35:09.452Z"
   },
   {
    "duration": 13,
    "start_time": "2024-05-30T20:35:09.514Z"
   },
   {
    "duration": 61,
    "start_time": "2024-05-30T20:35:09.530Z"
   },
   {
    "duration": 63,
    "start_time": "2024-05-30T20:35:09.594Z"
   },
   {
    "duration": 31,
    "start_time": "2024-05-30T20:35:09.661Z"
   },
   {
    "duration": 43,
    "start_time": "2024-05-30T20:35:09.696Z"
   },
   {
    "duration": 51,
    "start_time": "2024-05-30T20:35:09.742Z"
   },
   {
    "duration": 27,
    "start_time": "2024-05-30T20:35:09.796Z"
   },
   {
    "duration": 19,
    "start_time": "2024-05-30T20:35:09.826Z"
   },
   {
    "duration": 60,
    "start_time": "2024-05-30T20:35:09.849Z"
   },
   {
    "duration": 32,
    "start_time": "2024-05-30T20:35:09.912Z"
   },
   {
    "duration": 68,
    "start_time": "2024-05-30T20:35:09.947Z"
   },
   {
    "duration": 1263,
    "start_time": "2024-05-30T20:35:10.018Z"
   },
   {
    "duration": 0,
    "start_time": "2024-05-30T20:35:11.291Z"
   },
   {
    "duration": 0,
    "start_time": "2024-05-30T20:35:11.293Z"
   },
   {
    "duration": 0,
    "start_time": "2024-05-30T20:35:11.295Z"
   },
   {
    "duration": 0,
    "start_time": "2024-05-30T20:35:11.297Z"
   },
   {
    "duration": 0,
    "start_time": "2024-05-30T20:35:11.300Z"
   },
   {
    "duration": 0,
    "start_time": "2024-05-30T20:35:11.303Z"
   },
   {
    "duration": 0,
    "start_time": "2024-05-30T20:35:11.304Z"
   },
   {
    "duration": 0,
    "start_time": "2024-05-30T20:35:11.306Z"
   },
   {
    "duration": 100,
    "start_time": "2024-05-30T20:35:36.392Z"
   },
   {
    "duration": 102,
    "start_time": "2024-05-30T20:35:43.201Z"
   },
   {
    "duration": 24,
    "start_time": "2024-05-30T20:36:36.805Z"
   },
   {
    "duration": 914,
    "start_time": "2024-05-30T20:38:06.727Z"
   },
   {
    "duration": 272,
    "start_time": "2024-05-30T20:38:07.644Z"
   },
   {
    "duration": 5,
    "start_time": "2024-05-30T20:38:07.918Z"
   },
   {
    "duration": 18,
    "start_time": "2024-05-30T20:38:07.927Z"
   },
   {
    "duration": 44,
    "start_time": "2024-05-30T20:38:07.948Z"
   },
   {
    "duration": 9,
    "start_time": "2024-05-30T20:38:07.996Z"
   },
   {
    "duration": 19,
    "start_time": "2024-05-30T20:38:08.009Z"
   },
   {
    "duration": 13,
    "start_time": "2024-05-30T20:38:08.033Z"
   },
   {
    "duration": 62,
    "start_time": "2024-05-30T20:38:08.049Z"
   },
   {
    "duration": 8,
    "start_time": "2024-05-30T20:38:08.117Z"
   },
   {
    "duration": 25,
    "start_time": "2024-05-30T20:38:08.128Z"
   },
   {
    "duration": 14,
    "start_time": "2024-05-30T20:38:08.189Z"
   },
   {
    "duration": 45,
    "start_time": "2024-05-30T20:38:08.206Z"
   },
   {
    "duration": 79,
    "start_time": "2024-05-30T20:38:08.255Z"
   },
   {
    "duration": 24,
    "start_time": "2024-05-30T20:38:08.337Z"
   },
   {
    "duration": 28,
    "start_time": "2024-05-30T20:38:08.365Z"
   },
   {
    "duration": 29,
    "start_time": "2024-05-30T20:38:08.397Z"
   },
   {
    "duration": 21,
    "start_time": "2024-05-30T20:38:08.429Z"
   },
   {
    "duration": 26,
    "start_time": "2024-05-30T20:38:08.492Z"
   },
   {
    "duration": 14,
    "start_time": "2024-05-30T20:38:08.522Z"
   },
   {
    "duration": 73,
    "start_time": "2024-05-30T20:38:08.539Z"
   },
   {
    "duration": 82,
    "start_time": "2024-05-30T20:38:08.615Z"
   },
   {
    "duration": 12,
    "start_time": "2024-05-30T20:38:08.700Z"
   },
   {
    "duration": 36,
    "start_time": "2024-05-30T20:38:08.716Z"
   },
   {
    "duration": 54,
    "start_time": "2024-05-30T20:38:08.756Z"
   },
   {
    "duration": 28,
    "start_time": "2024-05-30T20:38:08.813Z"
   },
   {
    "duration": 49,
    "start_time": "2024-05-30T20:38:08.844Z"
   },
   {
    "duration": 23,
    "start_time": "2024-05-30T20:38:08.900Z"
   },
   {
    "duration": 32,
    "start_time": "2024-05-30T20:38:08.926Z"
   },
   {
    "duration": 45,
    "start_time": "2024-05-30T20:38:08.990Z"
   },
   {
    "duration": 52,
    "start_time": "2024-05-30T20:38:09.038Z"
   },
   {
    "duration": 3,
    "start_time": "2024-05-30T20:38:09.093Z"
   },
   {
    "duration": 4,
    "start_time": "2024-05-30T20:38:09.099Z"
   },
   {
    "duration": 4,
    "start_time": "2024-05-30T20:38:09.106Z"
   },
   {
    "duration": 4,
    "start_time": "2024-05-30T20:38:09.112Z"
   },
   {
    "duration": 3,
    "start_time": "2024-05-30T20:38:09.120Z"
   },
   {
    "duration": 3,
    "start_time": "2024-05-30T20:38:09.126Z"
   },
   {
    "duration": 4,
    "start_time": "2024-05-30T20:38:09.132Z"
   },
   {
    "duration": 3,
    "start_time": "2024-05-30T20:38:09.192Z"
   },
   {
    "duration": 34,
    "start_time": "2024-05-30T21:08:15.068Z"
   },
   {
    "duration": 32,
    "start_time": "2024-05-30T21:08:28.211Z"
   },
   {
    "duration": 309,
    "start_time": "2024-05-31T22:10:58.044Z"
   },
   {
    "duration": 20,
    "start_time": "2024-05-31T22:11:02.540Z"
   },
   {
    "duration": 890,
    "start_time": "2024-05-31T22:11:09.377Z"
   },
   {
    "duration": 379,
    "start_time": "2024-05-31T22:11:10.271Z"
   },
   {
    "duration": 7,
    "start_time": "2024-05-31T22:11:10.653Z"
   },
   {
    "duration": 16,
    "start_time": "2024-05-31T22:11:10.663Z"
   },
   {
    "duration": 35,
    "start_time": "2024-05-31T22:11:10.685Z"
   },
   {
    "duration": 9,
    "start_time": "2024-05-31T22:11:10.723Z"
   },
   {
    "duration": 14,
    "start_time": "2024-05-31T22:11:10.736Z"
   },
   {
    "duration": 15,
    "start_time": "2024-05-31T22:11:10.754Z"
   },
   {
    "duration": 55,
    "start_time": "2024-05-31T22:11:10.772Z"
   },
   {
    "duration": 8,
    "start_time": "2024-05-31T22:11:10.830Z"
   },
   {
    "duration": 25,
    "start_time": "2024-05-31T22:11:10.841Z"
   },
   {
    "duration": 61,
    "start_time": "2024-05-31T22:11:10.868Z"
   },
   {
    "duration": 50,
    "start_time": "2024-05-31T22:11:10.932Z"
   },
   {
    "duration": 45,
    "start_time": "2024-05-31T22:11:11.015Z"
   },
   {
    "duration": 20,
    "start_time": "2024-05-31T22:11:11.063Z"
   },
   {
    "duration": 10,
    "start_time": "2024-05-31T22:11:11.113Z"
   },
   {
    "duration": 30,
    "start_time": "2024-05-31T22:11:11.126Z"
   },
   {
    "duration": 55,
    "start_time": "2024-05-31T22:11:11.159Z"
   },
   {
    "duration": 24,
    "start_time": "2024-05-31T22:11:11.216Z"
   },
   {
    "duration": 12,
    "start_time": "2024-05-31T22:11:11.243Z"
   },
   {
    "duration": 66,
    "start_time": "2024-05-31T22:11:11.259Z"
   },
   {
    "duration": 57,
    "start_time": "2024-05-31T22:11:11.329Z"
   },
   {
    "duration": 34,
    "start_time": "2024-05-31T22:11:11.389Z"
   },
   {
    "duration": 34,
    "start_time": "2024-05-31T22:11:11.426Z"
   },
   {
    "duration": 54,
    "start_time": "2024-05-31T22:11:11.463Z"
   },
   {
    "duration": 29,
    "start_time": "2024-05-31T22:11:11.520Z"
   },
   {
    "duration": 22,
    "start_time": "2024-05-31T22:11:11.553Z"
   },
   {
    "duration": 56,
    "start_time": "2024-05-31T22:11:11.579Z"
   },
   {
    "duration": 35,
    "start_time": "2024-05-31T22:11:11.638Z"
   },
   {
    "duration": 71,
    "start_time": "2024-05-31T22:11:11.676Z"
   },
   {
    "duration": 35,
    "start_time": "2024-05-31T22:11:11.750Z"
   },
   {
    "duration": 4,
    "start_time": "2024-05-31T22:11:11.811Z"
   },
   {
    "duration": 4,
    "start_time": "2024-05-31T22:11:11.818Z"
   },
   {
    "duration": 3,
    "start_time": "2024-05-31T22:11:11.827Z"
   },
   {
    "duration": 4,
    "start_time": "2024-05-31T22:11:11.833Z"
   },
   {
    "duration": 5,
    "start_time": "2024-05-31T22:11:11.840Z"
   },
   {
    "duration": 3,
    "start_time": "2024-05-31T22:11:11.848Z"
   },
   {
    "duration": 3,
    "start_time": "2024-05-31T22:11:11.855Z"
   },
   {
    "duration": 51,
    "start_time": "2024-05-31T22:11:11.862Z"
   },
   {
    "duration": 949,
    "start_time": "2024-06-01T02:27:53.613Z"
   },
   {
    "duration": 265,
    "start_time": "2024-06-01T02:27:54.565Z"
   },
   {
    "duration": 5,
    "start_time": "2024-06-01T02:27:54.832Z"
   },
   {
    "duration": 16,
    "start_time": "2024-06-01T02:27:54.840Z"
   },
   {
    "duration": 18,
    "start_time": "2024-06-01T02:27:54.861Z"
   },
   {
    "duration": 8,
    "start_time": "2024-06-01T02:27:54.913Z"
   },
   {
    "duration": 16,
    "start_time": "2024-06-01T02:27:54.924Z"
   },
   {
    "duration": 14,
    "start_time": "2024-06-01T02:27:54.943Z"
   },
   {
    "duration": 58,
    "start_time": "2024-06-01T02:27:54.961Z"
   },
   {
    "duration": 7,
    "start_time": "2024-06-01T02:27:55.022Z"
   },
   {
    "duration": 25,
    "start_time": "2024-06-01T02:27:55.032Z"
   },
   {
    "duration": 11,
    "start_time": "2024-06-01T02:27:55.060Z"
   },
   {
    "duration": 44,
    "start_time": "2024-06-01T02:27:55.113Z"
   },
   {
    "duration": 73,
    "start_time": "2024-06-01T02:27:55.165Z"
   },
   {
    "duration": 20,
    "start_time": "2024-06-01T02:27:55.241Z"
   },
   {
    "duration": 12,
    "start_time": "2024-06-01T02:27:55.264Z"
   },
   {
    "duration": 30,
    "start_time": "2024-06-01T02:27:55.311Z"
   },
   {
    "duration": 24,
    "start_time": "2024-06-01T02:27:55.344Z"
   },
   {
    "duration": 47,
    "start_time": "2024-06-01T02:27:55.371Z"
   },
   {
    "duration": 12,
    "start_time": "2024-06-01T02:27:55.422Z"
   },
   {
    "duration": 37,
    "start_time": "2024-06-01T02:27:55.438Z"
   },
   {
    "duration": 475,
    "start_time": "2024-06-01T02:27:55.478Z"
   },
   {
    "duration": 0,
    "start_time": "2024-06-01T02:27:55.956Z"
   },
   {
    "duration": 0,
    "start_time": "2024-06-01T02:27:55.959Z"
   },
   {
    "duration": 0,
    "start_time": "2024-06-01T02:27:55.961Z"
   },
   {
    "duration": 0,
    "start_time": "2024-06-01T02:27:55.964Z"
   },
   {
    "duration": 0,
    "start_time": "2024-06-01T02:27:55.966Z"
   },
   {
    "duration": 0,
    "start_time": "2024-06-01T02:27:55.968Z"
   },
   {
    "duration": 0,
    "start_time": "2024-06-01T02:27:55.969Z"
   },
   {
    "duration": 0,
    "start_time": "2024-06-01T02:27:55.971Z"
   },
   {
    "duration": 0,
    "start_time": "2024-06-01T02:27:55.973Z"
   },
   {
    "duration": 0,
    "start_time": "2024-06-01T02:27:55.975Z"
   },
   {
    "duration": 0,
    "start_time": "2024-06-01T02:27:55.977Z"
   },
   {
    "duration": 0,
    "start_time": "2024-06-01T02:27:55.978Z"
   },
   {
    "duration": 0,
    "start_time": "2024-06-01T02:27:55.979Z"
   },
   {
    "duration": 0,
    "start_time": "2024-06-01T02:27:56.014Z"
   },
   {
    "duration": 0,
    "start_time": "2024-06-01T02:27:56.016Z"
   },
   {
    "duration": 0,
    "start_time": "2024-06-01T02:27:56.018Z"
   },
   {
    "duration": 0,
    "start_time": "2024-06-01T02:27:56.021Z"
   },
   {
    "duration": 21,
    "start_time": "2024-06-01T02:30:52.899Z"
   },
   {
    "duration": 15,
    "start_time": "2024-06-01T02:31:16.570Z"
   },
   {
    "duration": 16,
    "start_time": "2024-06-01T02:31:25.103Z"
   },
   {
    "duration": 960,
    "start_time": "2024-06-01T02:38:19.702Z"
   },
   {
    "duration": 270,
    "start_time": "2024-06-01T02:38:20.665Z"
   },
   {
    "duration": 4,
    "start_time": "2024-06-01T02:38:20.938Z"
   },
   {
    "duration": 19,
    "start_time": "2024-06-01T02:38:20.947Z"
   },
   {
    "duration": 44,
    "start_time": "2024-06-01T02:38:20.970Z"
   },
   {
    "duration": 9,
    "start_time": "2024-06-01T02:38:21.017Z"
   },
   {
    "duration": 14,
    "start_time": "2024-06-01T02:38:21.029Z"
   },
   {
    "duration": 14,
    "start_time": "2024-06-01T02:38:21.047Z"
   },
   {
    "duration": 64,
    "start_time": "2024-06-01T02:38:21.064Z"
   },
   {
    "duration": 8,
    "start_time": "2024-06-01T02:38:21.135Z"
   },
   {
    "duration": 28,
    "start_time": "2024-06-01T02:38:21.146Z"
   },
   {
    "duration": 11,
    "start_time": "2024-06-01T02:38:21.213Z"
   },
   {
    "duration": 47,
    "start_time": "2024-06-01T02:38:21.228Z"
   },
   {
    "duration": 73,
    "start_time": "2024-06-01T02:38:21.278Z"
   },
   {
    "duration": 21,
    "start_time": "2024-06-01T02:38:21.354Z"
   },
   {
    "duration": 41,
    "start_time": "2024-06-01T02:38:21.378Z"
   },
   {
    "duration": 31,
    "start_time": "2024-06-01T02:38:21.423Z"
   },
   {
    "duration": 23,
    "start_time": "2024-06-01T02:38:21.457Z"
   },
   {
    "duration": 27,
    "start_time": "2024-06-01T02:38:21.514Z"
   },
   {
    "duration": 12,
    "start_time": "2024-06-01T02:38:21.544Z"
   },
   {
    "duration": 74,
    "start_time": "2024-06-01T02:38:21.559Z"
   },
   {
    "duration": 23,
    "start_time": "2024-06-01T02:38:21.637Z"
   },
   {
    "duration": 16,
    "start_time": "2024-06-01T02:38:21.663Z"
   },
   {
    "duration": 55,
    "start_time": "2024-06-01T02:38:21.682Z"
   },
   {
    "duration": 26,
    "start_time": "2024-06-01T02:38:21.740Z"
   },
   {
    "duration": 54,
    "start_time": "2024-06-01T02:38:21.769Z"
   },
   {
    "duration": 20,
    "start_time": "2024-06-01T02:38:21.826Z"
   },
   {
    "duration": 23,
    "start_time": "2024-06-01T02:38:21.853Z"
   },
   {
    "duration": 33,
    "start_time": "2024-06-01T02:38:21.911Z"
   },
   {
    "duration": 43,
    "start_time": "2024-06-01T02:38:21.947Z"
   },
   {
    "duration": 51,
    "start_time": "2024-06-01T02:38:21.993Z"
   },
   {
    "duration": 4,
    "start_time": "2024-06-01T02:38:22.047Z"
   },
   {
    "duration": 4,
    "start_time": "2024-06-01T02:38:22.053Z"
   },
   {
    "duration": 3,
    "start_time": "2024-06-01T02:38:22.061Z"
   },
   {
    "duration": 4,
    "start_time": "2024-06-01T02:38:22.066Z"
   },
   {
    "duration": 3,
    "start_time": "2024-06-01T02:38:22.113Z"
   },
   {
    "duration": 4,
    "start_time": "2024-06-01T02:38:22.119Z"
   },
   {
    "duration": 4,
    "start_time": "2024-06-01T02:38:22.126Z"
   },
   {
    "duration": 3,
    "start_time": "2024-06-01T02:38:22.133Z"
   },
   {
    "duration": 1343,
    "start_time": "2024-06-01T02:38:54.812Z"
   },
   {
    "duration": 25,
    "start_time": "2024-06-01T02:38:59.585Z"
   },
   {
    "duration": 82,
    "start_time": "2024-06-01T02:42:10.388Z"
   },
   {
    "duration": 33,
    "start_time": "2024-06-01T02:42:14.097Z"
   },
   {
    "duration": 28,
    "start_time": "2024-06-01T02:42:16.610Z"
   },
   {
    "duration": 50,
    "start_time": "2024-06-01T02:42:40.248Z"
   },
   {
    "duration": 54,
    "start_time": "2024-06-01T02:42:52.329Z"
   },
   {
    "duration": 100,
    "start_time": "2024-06-01T02:43:33.301Z"
   },
   {
    "duration": 54,
    "start_time": "2024-06-01T02:43:44.267Z"
   },
   {
    "duration": 23,
    "start_time": "2024-06-01T02:44:43.945Z"
   },
   {
    "duration": 25,
    "start_time": "2024-06-01T02:44:52.918Z"
   },
   {
    "duration": 19,
    "start_time": "2024-06-01T02:45:03.373Z"
   },
   {
    "duration": 20,
    "start_time": "2024-06-01T02:45:07.179Z"
   },
   {
    "duration": 29,
    "start_time": "2024-06-01T02:45:12.778Z"
   },
   {
    "duration": 902,
    "start_time": "2024-06-01T02:45:21.767Z"
   },
   {
    "duration": 272,
    "start_time": "2024-06-01T02:45:22.673Z"
   },
   {
    "duration": 4,
    "start_time": "2024-06-01T02:45:22.948Z"
   },
   {
    "duration": 17,
    "start_time": "2024-06-01T02:45:22.954Z"
   },
   {
    "duration": 45,
    "start_time": "2024-06-01T02:45:22.976Z"
   },
   {
    "duration": 13,
    "start_time": "2024-06-01T02:45:23.024Z"
   },
   {
    "duration": 17,
    "start_time": "2024-06-01T02:45:23.040Z"
   },
   {
    "duration": 13,
    "start_time": "2024-06-01T02:45:23.061Z"
   },
   {
    "duration": 53,
    "start_time": "2024-06-01T02:45:23.078Z"
   },
   {
    "duration": 8,
    "start_time": "2024-06-01T02:45:23.135Z"
   },
   {
    "duration": 26,
    "start_time": "2024-06-01T02:45:23.146Z"
   },
   {
    "duration": 16,
    "start_time": "2024-06-01T02:45:23.214Z"
   },
   {
    "duration": 45,
    "start_time": "2024-06-01T02:45:23.233Z"
   },
   {
    "duration": 75,
    "start_time": "2024-06-01T02:45:23.285Z"
   },
   {
    "duration": 20,
    "start_time": "2024-06-01T02:45:23.363Z"
   },
   {
    "duration": 37,
    "start_time": "2024-06-01T02:45:23.386Z"
   },
   {
    "duration": 28,
    "start_time": "2024-06-01T02:45:23.427Z"
   },
   {
    "duration": 22,
    "start_time": "2024-06-01T02:45:23.459Z"
   },
   {
    "duration": 25,
    "start_time": "2024-06-01T02:45:23.514Z"
   },
   {
    "duration": 12,
    "start_time": "2024-06-01T02:45:23.542Z"
   },
   {
    "duration": 74,
    "start_time": "2024-06-01T02:45:23.557Z"
   },
   {
    "duration": 16,
    "start_time": "2024-06-01T02:45:23.635Z"
   },
   {
    "duration": 13,
    "start_time": "2024-06-01T02:45:23.654Z"
   },
   {
    "duration": 65,
    "start_time": "2024-06-01T02:45:23.669Z"
   },
   {
    "duration": 28,
    "start_time": "2024-06-01T02:45:23.737Z"
   },
   {
    "duration": 54,
    "start_time": "2024-06-01T02:45:23.768Z"
   },
   {
    "duration": 22,
    "start_time": "2024-06-01T02:45:23.825Z"
   },
   {
    "duration": 21,
    "start_time": "2024-06-01T02:45:23.850Z"
   },
   {
    "duration": 59,
    "start_time": "2024-06-01T02:45:23.874Z"
   },
   {
    "duration": 38,
    "start_time": "2024-06-01T02:45:23.936Z"
   },
   {
    "duration": 1043,
    "start_time": "2024-06-01T02:45:23.977Z"
   },
   {
    "duration": 0,
    "start_time": "2024-06-01T02:45:25.023Z"
   },
   {
    "duration": 0,
    "start_time": "2024-06-01T02:45:25.025Z"
   },
   {
    "duration": 0,
    "start_time": "2024-06-01T02:45:25.027Z"
   },
   {
    "duration": 0,
    "start_time": "2024-06-01T02:45:25.029Z"
   },
   {
    "duration": 0,
    "start_time": "2024-06-01T02:45:25.032Z"
   },
   {
    "duration": 0,
    "start_time": "2024-06-01T02:45:25.034Z"
   },
   {
    "duration": 0,
    "start_time": "2024-06-01T02:45:25.037Z"
   },
   {
    "duration": 0,
    "start_time": "2024-06-01T02:45:25.039Z"
   },
   {
    "duration": 23,
    "start_time": "2024-06-01T02:46:24.776Z"
   },
   {
    "duration": 28,
    "start_time": "2024-06-01T02:46:47.532Z"
   },
   {
    "duration": 37,
    "start_time": "2024-06-01T02:46:52.797Z"
   },
   {
    "duration": 24,
    "start_time": "2024-06-01T02:47:27.157Z"
   },
   {
    "duration": 29,
    "start_time": "2024-06-01T02:47:29.468Z"
   },
   {
    "duration": 34,
    "start_time": "2024-06-01T02:47:41.559Z"
   },
   {
    "duration": 40,
    "start_time": "2024-06-01T02:47:43.881Z"
   },
   {
    "duration": 529,
    "start_time": "2024-06-01T02:47:55.076Z"
   },
   {
    "duration": 40,
    "start_time": "2024-06-01T02:50:21.633Z"
   },
   {
    "duration": 39,
    "start_time": "2024-06-01T02:50:30.180Z"
   },
   {
    "duration": 157,
    "start_time": "2024-06-01T02:52:38.140Z"
   },
   {
    "duration": 28,
    "start_time": "2024-06-01T02:53:06.634Z"
   },
   {
    "duration": 25,
    "start_time": "2024-06-01T02:54:54.256Z"
   },
   {
    "duration": 30,
    "start_time": "2024-06-01T02:55:00.450Z"
   },
   {
    "duration": 21,
    "start_time": "2024-06-01T02:58:04.453Z"
   },
   {
    "duration": 890,
    "start_time": "2024-06-01T02:58:26.966Z"
   },
   {
    "duration": 282,
    "start_time": "2024-06-01T02:58:27.860Z"
   },
   {
    "duration": 5,
    "start_time": "2024-06-01T02:58:28.146Z"
   },
   {
    "duration": 17,
    "start_time": "2024-06-01T02:58:28.156Z"
   },
   {
    "duration": 38,
    "start_time": "2024-06-01T02:58:28.176Z"
   },
   {
    "duration": 8,
    "start_time": "2024-06-01T02:58:28.218Z"
   },
   {
    "duration": 15,
    "start_time": "2024-06-01T02:58:28.230Z"
   },
   {
    "duration": 14,
    "start_time": "2024-06-01T02:58:28.248Z"
   },
   {
    "duration": 60,
    "start_time": "2024-06-01T02:58:28.264Z"
   },
   {
    "duration": 7,
    "start_time": "2024-06-01T02:58:28.330Z"
   },
   {
    "duration": 28,
    "start_time": "2024-06-01T02:58:28.339Z"
   },
   {
    "duration": 48,
    "start_time": "2024-06-01T02:58:28.369Z"
   },
   {
    "duration": 45,
    "start_time": "2024-06-01T02:58:28.421Z"
   },
   {
    "duration": 70,
    "start_time": "2024-06-01T02:58:28.468Z"
   },
   {
    "duration": 21,
    "start_time": "2024-06-01T02:58:28.541Z"
   },
   {
    "duration": 10,
    "start_time": "2024-06-01T02:58:28.565Z"
   },
   {
    "duration": 62,
    "start_time": "2024-06-01T02:58:28.577Z"
   },
   {
    "duration": 23,
    "start_time": "2024-06-01T02:58:28.642Z"
   },
   {
    "duration": 52,
    "start_time": "2024-06-01T02:58:28.668Z"
   },
   {
    "duration": 14,
    "start_time": "2024-06-01T02:58:28.722Z"
   },
   {
    "duration": 40,
    "start_time": "2024-06-01T02:58:28.740Z"
   },
   {
    "duration": 40,
    "start_time": "2024-06-01T02:58:28.783Z"
   },
   {
    "duration": 12,
    "start_time": "2024-06-01T02:58:28.826Z"
   },
   {
    "duration": 31,
    "start_time": "2024-06-01T02:58:28.841Z"
   },
   {
    "duration": 60,
    "start_time": "2024-06-01T02:58:28.875Z"
   },
   {
    "duration": 28,
    "start_time": "2024-06-01T02:58:28.938Z"
   },
   {
    "duration": 44,
    "start_time": "2024-06-01T02:58:28.969Z"
   },
   {
    "duration": 21,
    "start_time": "2024-06-01T02:58:29.020Z"
   },
   {
    "duration": 30,
    "start_time": "2024-06-01T02:58:29.043Z"
   },
   {
    "duration": 68,
    "start_time": "2024-06-01T02:58:29.075Z"
   },
   {
    "duration": 1033,
    "start_time": "2024-06-01T02:58:29.146Z"
   },
   {
    "duration": 0,
    "start_time": "2024-06-01T02:58:30.182Z"
   },
   {
    "duration": 0,
    "start_time": "2024-06-01T02:58:30.184Z"
   },
   {
    "duration": 0,
    "start_time": "2024-06-01T02:58:30.187Z"
   },
   {
    "duration": 0,
    "start_time": "2024-06-01T02:58:30.189Z"
   },
   {
    "duration": 0,
    "start_time": "2024-06-01T02:58:30.191Z"
   },
   {
    "duration": 0,
    "start_time": "2024-06-01T02:58:30.213Z"
   },
   {
    "duration": 0,
    "start_time": "2024-06-01T02:58:30.215Z"
   },
   {
    "duration": 1,
    "start_time": "2024-06-01T02:58:30.217Z"
   },
   {
    "duration": 22,
    "start_time": "2024-06-01T02:59:10.456Z"
   },
   {
    "duration": 29,
    "start_time": "2024-06-01T02:59:15.975Z"
   },
   {
    "duration": 44,
    "start_time": "2024-06-01T02:59:21.484Z"
   },
   {
    "duration": 539,
    "start_time": "2024-06-01T02:59:24.548Z"
   },
   {
    "duration": 79,
    "start_time": "2024-06-01T02:59:29.635Z"
   },
   {
    "duration": 32,
    "start_time": "2024-06-01T02:59:36.573Z"
   },
   {
    "duration": 886,
    "start_time": "2024-06-01T03:02:30.569Z"
   },
   {
    "duration": 279,
    "start_time": "2024-06-01T03:02:31.460Z"
   },
   {
    "duration": 4,
    "start_time": "2024-06-01T03:02:31.742Z"
   },
   {
    "duration": 18,
    "start_time": "2024-06-01T03:02:31.749Z"
   },
   {
    "duration": 47,
    "start_time": "2024-06-01T03:02:31.771Z"
   },
   {
    "duration": 9,
    "start_time": "2024-06-01T03:02:31.821Z"
   },
   {
    "duration": 16,
    "start_time": "2024-06-01T03:02:31.833Z"
   },
   {
    "duration": 14,
    "start_time": "2024-06-01T03:02:31.852Z"
   },
   {
    "duration": 63,
    "start_time": "2024-06-01T03:02:31.869Z"
   },
   {
    "duration": 8,
    "start_time": "2024-06-01T03:02:31.936Z"
   },
   {
    "duration": 28,
    "start_time": "2024-06-01T03:02:31.948Z"
   },
   {
    "duration": 11,
    "start_time": "2024-06-01T03:02:32.014Z"
   },
   {
    "duration": 43,
    "start_time": "2024-06-01T03:02:32.028Z"
   },
   {
    "duration": 73,
    "start_time": "2024-06-01T03:02:32.078Z"
   },
   {
    "duration": 20,
    "start_time": "2024-06-01T03:02:32.154Z"
   },
   {
    "duration": 10,
    "start_time": "2024-06-01T03:02:32.178Z"
   },
   {
    "duration": 29,
    "start_time": "2024-06-01T03:02:32.216Z"
   },
   {
    "duration": 25,
    "start_time": "2024-06-01T03:02:32.247Z"
   },
   {
    "duration": 53,
    "start_time": "2024-06-01T03:02:32.275Z"
   },
   {
    "duration": 14,
    "start_time": "2024-06-01T03:02:32.332Z"
   },
   {
    "duration": 72,
    "start_time": "2024-06-01T03:02:32.350Z"
   },
   {
    "duration": 4,
    "start_time": "2024-06-01T03:02:32.425Z"
   },
   {
    "duration": 13,
    "start_time": "2024-06-01T03:02:32.432Z"
   },
   {
    "duration": 29,
    "start_time": "2024-06-01T03:02:32.448Z"
   },
   {
    "duration": 26,
    "start_time": "2024-06-01T03:02:32.511Z"
   },
   {
    "duration": 36,
    "start_time": "2024-06-01T03:02:32.540Z"
   },
   {
    "duration": 40,
    "start_time": "2024-06-01T03:02:32.584Z"
   },
   {
    "duration": 21,
    "start_time": "2024-06-01T03:02:32.627Z"
   },
   {
    "duration": 62,
    "start_time": "2024-06-01T03:02:32.651Z"
   },
   {
    "duration": 41,
    "start_time": "2024-06-01T03:02:32.715Z"
   },
   {
    "duration": 62,
    "start_time": "2024-06-01T03:02:32.759Z"
   },
   {
    "duration": 4,
    "start_time": "2024-06-01T03:02:32.824Z"
   },
   {
    "duration": 4,
    "start_time": "2024-06-01T03:02:32.831Z"
   },
   {
    "duration": 4,
    "start_time": "2024-06-01T03:02:32.838Z"
   },
   {
    "duration": 3,
    "start_time": "2024-06-01T03:02:32.845Z"
   },
   {
    "duration": 4,
    "start_time": "2024-06-01T03:02:32.851Z"
   },
   {
    "duration": 4,
    "start_time": "2024-06-01T03:02:32.858Z"
   },
   {
    "duration": 49,
    "start_time": "2024-06-01T03:02:32.865Z"
   },
   {
    "duration": 4,
    "start_time": "2024-06-01T03:02:32.917Z"
   },
   {
    "duration": 29,
    "start_time": "2024-06-01T03:04:57.315Z"
   },
   {
    "duration": 29,
    "start_time": "2024-06-01T03:05:09.172Z"
   },
   {
    "duration": 29,
    "start_time": "2024-06-01T03:05:15.134Z"
   },
   {
    "duration": 882,
    "start_time": "2024-06-01T03:05:59.785Z"
   },
   {
    "duration": 290,
    "start_time": "2024-06-01T03:06:00.671Z"
   },
   {
    "duration": 6,
    "start_time": "2024-06-01T03:06:00.964Z"
   },
   {
    "duration": 21,
    "start_time": "2024-06-01T03:06:00.974Z"
   },
   {
    "duration": 20,
    "start_time": "2024-06-01T03:06:01.016Z"
   },
   {
    "duration": 10,
    "start_time": "2024-06-01T03:06:01.039Z"
   },
   {
    "duration": 17,
    "start_time": "2024-06-01T03:06:01.053Z"
   },
   {
    "duration": 14,
    "start_time": "2024-06-01T03:06:01.115Z"
   },
   {
    "duration": 24,
    "start_time": "2024-06-01T03:06:01.132Z"
   },
   {
    "duration": 8,
    "start_time": "2024-06-01T03:06:01.160Z"
   },
   {
    "duration": 26,
    "start_time": "2024-06-01T03:06:01.211Z"
   },
   {
    "duration": 17,
    "start_time": "2024-06-01T03:06:01.240Z"
   },
   {
    "duration": 76,
    "start_time": "2024-06-01T03:06:01.260Z"
   },
   {
    "duration": 49,
    "start_time": "2024-06-01T03:06:01.345Z"
   },
   {
    "duration": 19,
    "start_time": "2024-06-01T03:06:01.413Z"
   },
   {
    "duration": 11,
    "start_time": "2024-06-01T03:06:01.435Z"
   },
   {
    "duration": 29,
    "start_time": "2024-06-01T03:06:01.449Z"
   },
   {
    "duration": 27,
    "start_time": "2024-06-01T03:06:01.514Z"
   },
   {
    "duration": 23,
    "start_time": "2024-06-01T03:06:01.544Z"
   },
   {
    "duration": 42,
    "start_time": "2024-06-01T03:06:01.570Z"
   },
   {
    "duration": 36,
    "start_time": "2024-06-01T03:06:01.616Z"
   },
   {
    "duration": 4,
    "start_time": "2024-06-01T03:06:01.655Z"
   },
   {
    "duration": 51,
    "start_time": "2024-06-01T03:06:01.661Z"
   },
   {
    "duration": 37,
    "start_time": "2024-06-01T03:06:01.714Z"
   },
   {
    "duration": 25,
    "start_time": "2024-06-01T03:06:01.753Z"
   },
   {
    "duration": 47,
    "start_time": "2024-06-01T03:06:01.782Z"
   },
   {
    "duration": 18,
    "start_time": "2024-06-01T03:06:01.832Z"
   },
   {
    "duration": 20,
    "start_time": "2024-06-01T03:06:01.853Z"
   },
   {
    "duration": 70,
    "start_time": "2024-06-01T03:06:01.876Z"
   },
   {
    "duration": 75,
    "start_time": "2024-06-01T03:06:01.950Z"
   },
   {
    "duration": 1537,
    "start_time": "2024-06-01T03:06:02.029Z"
   },
   {
    "duration": 0,
    "start_time": "2024-06-01T03:06:03.569Z"
   },
   {
    "duration": 0,
    "start_time": "2024-06-01T03:06:03.571Z"
   },
   {
    "duration": 0,
    "start_time": "2024-06-01T03:06:03.573Z"
   },
   {
    "duration": 0,
    "start_time": "2024-06-01T03:06:03.576Z"
   },
   {
    "duration": 0,
    "start_time": "2024-06-01T03:06:03.578Z"
   },
   {
    "duration": 0,
    "start_time": "2024-06-01T03:06:03.581Z"
   },
   {
    "duration": 0,
    "start_time": "2024-06-01T03:06:03.583Z"
   },
   {
    "duration": 0,
    "start_time": "2024-06-01T03:06:03.612Z"
   },
   {
    "duration": 111,
    "start_time": "2024-06-01T03:06:13.021Z"
   },
   {
    "duration": 34,
    "start_time": "2024-06-01T03:06:24.798Z"
   },
   {
    "duration": 107,
    "start_time": "2024-06-01T03:10:59.575Z"
   },
   {
    "duration": 3940,
    "start_time": "2024-06-01T03:11:12.190Z"
   },
   {
    "duration": 536,
    "start_time": "2024-06-01T03:11:17.942Z"
   },
   {
    "duration": 183,
    "start_time": "2024-06-01T03:11:30.807Z"
   },
   {
    "duration": 8,
    "start_time": "2024-06-01T03:14:17.654Z"
   },
   {
    "duration": 26,
    "start_time": "2024-06-01T03:15:51.713Z"
   },
   {
    "duration": 26,
    "start_time": "2024-06-01T03:16:15.925Z"
   },
   {
    "duration": 12,
    "start_time": "2024-06-01T03:16:58.653Z"
   },
   {
    "duration": 248,
    "start_time": "2024-06-01T03:19:11.753Z"
   },
   {
    "duration": 17,
    "start_time": "2024-06-01T03:19:26.082Z"
   },
   {
    "duration": 18,
    "start_time": "2024-06-01T03:19:35.841Z"
   },
   {
    "duration": 338,
    "start_time": "2024-06-01T03:20:14.518Z"
   },
   {
    "duration": 341,
    "start_time": "2024-06-01T03:21:11.560Z"
   },
   {
    "duration": 321,
    "start_time": "2024-06-01T03:21:39.813Z"
   },
   {
    "duration": 359,
    "start_time": "2024-06-01T03:41:54.165Z"
   },
   {
    "duration": 29,
    "start_time": "2024-06-01T03:43:35.691Z"
   },
   {
    "duration": 13,
    "start_time": "2024-06-01T03:44:05.686Z"
   },
   {
    "duration": 9,
    "start_time": "2024-06-01T03:44:33.161Z"
   },
   {
    "duration": 127,
    "start_time": "2024-06-01T03:59:20.132Z"
   },
   {
    "duration": 9,
    "start_time": "2024-06-01T03:59:36.968Z"
   },
   {
    "duration": 9,
    "start_time": "2024-06-01T03:59:58.235Z"
   },
   {
    "duration": 10,
    "start_time": "2024-06-01T04:00:06.928Z"
   },
   {
    "duration": 10,
    "start_time": "2024-06-01T04:00:32.574Z"
   },
   {
    "duration": 10,
    "start_time": "2024-06-01T04:01:05.039Z"
   },
   {
    "duration": 226,
    "start_time": "2024-06-01T04:02:12.362Z"
   },
   {
    "duration": 26,
    "start_time": "2024-06-01T04:05:27.711Z"
   },
   {
    "duration": 30,
    "start_time": "2024-06-01T04:05:32.650Z"
   },
   {
    "duration": 234,
    "start_time": "2024-06-01T04:06:15.316Z"
   },
   {
    "duration": 380,
    "start_time": "2024-06-01T04:06:22.116Z"
   },
   {
    "duration": 239,
    "start_time": "2024-06-01T04:09:57.574Z"
   },
   {
    "duration": 92,
    "start_time": "2024-06-01T04:11:20.947Z"
   },
   {
    "duration": 46,
    "start_time": "2024-06-01T04:11:48.167Z"
   },
   {
    "duration": 145,
    "start_time": "2024-06-01T04:12:24.605Z"
   },
   {
    "duration": 218,
    "start_time": "2024-06-01T04:12:29.203Z"
   },
   {
    "duration": 225,
    "start_time": "2024-06-01T04:13:57.953Z"
   },
   {
    "duration": 1283,
    "start_time": "2024-06-01T04:14:22.969Z"
   },
   {
    "duration": 279,
    "start_time": "2024-06-01T04:14:24.256Z"
   },
   {
    "duration": 4,
    "start_time": "2024-06-01T04:14:24.539Z"
   },
   {
    "duration": 16,
    "start_time": "2024-06-01T04:14:24.547Z"
   },
   {
    "duration": 16,
    "start_time": "2024-06-01T04:14:24.566Z"
   },
   {
    "duration": 34,
    "start_time": "2024-06-01T04:14:24.584Z"
   },
   {
    "duration": 15,
    "start_time": "2024-06-01T04:14:24.621Z"
   },
   {
    "duration": 15,
    "start_time": "2024-06-01T04:14:24.639Z"
   },
   {
    "duration": 61,
    "start_time": "2024-06-01T04:14:24.657Z"
   },
   {
    "duration": 8,
    "start_time": "2024-06-01T04:14:24.725Z"
   },
   {
    "duration": 26,
    "start_time": "2024-06-01T04:14:24.735Z"
   },
   {
    "duration": 50,
    "start_time": "2024-06-01T04:14:24.764Z"
   },
   {
    "duration": 43,
    "start_time": "2024-06-01T04:14:24.820Z"
   },
   {
    "duration": 76,
    "start_time": "2024-06-01T04:14:24.866Z"
   },
   {
    "duration": 20,
    "start_time": "2024-06-01T04:14:24.945Z"
   },
   {
    "duration": 10,
    "start_time": "2024-06-01T04:14:24.968Z"
   },
   {
    "duration": 54,
    "start_time": "2024-06-01T04:14:24.981Z"
   },
   {
    "duration": 23,
    "start_time": "2024-06-01T04:14:25.038Z"
   },
   {
    "duration": 50,
    "start_time": "2024-06-01T04:14:25.064Z"
   },
   {
    "duration": 11,
    "start_time": "2024-06-01T04:14:25.117Z"
   },
   {
    "duration": 37,
    "start_time": "2024-06-01T04:14:25.132Z"
   },
   {
    "duration": 3,
    "start_time": "2024-06-01T04:14:25.172Z"
   },
   {
    "duration": 12,
    "start_time": "2024-06-01T04:14:25.214Z"
   },
   {
    "duration": 31,
    "start_time": "2024-06-01T04:14:25.229Z"
   },
   {
    "duration": 58,
    "start_time": "2024-06-01T04:14:25.263Z"
   },
   {
    "duration": 26,
    "start_time": "2024-06-01T04:14:25.324Z"
   },
   {
    "duration": 21,
    "start_time": "2024-06-01T04:14:25.353Z"
   },
   {
    "duration": 50,
    "start_time": "2024-06-01T04:14:25.381Z"
   },
   {
    "duration": 30,
    "start_time": "2024-06-01T04:14:25.434Z"
   },
   {
    "duration": 72,
    "start_time": "2024-06-01T04:14:25.467Z"
   },
   {
    "duration": 34,
    "start_time": "2024-06-01T04:14:25.543Z"
   },
   {
    "duration": 378,
    "start_time": "2024-06-01T04:14:25.579Z"
   },
   {
    "duration": 359,
    "start_time": "2024-06-01T04:14:25.963Z"
   },
   {
    "duration": 13,
    "start_time": "2024-06-01T04:14:26.325Z"
   },
   {
    "duration": 332,
    "start_time": "2024-06-01T04:14:26.341Z"
   },
   {
    "duration": 250,
    "start_time": "2024-06-01T04:14:26.676Z"
   },
   {
    "duration": 234,
    "start_time": "2024-06-01T04:14:26.929Z"
   },
   {
    "duration": 4,
    "start_time": "2024-06-01T04:14:27.165Z"
   },
   {
    "duration": 4,
    "start_time": "2024-06-01T04:14:27.172Z"
   },
   {
    "duration": 13,
    "start_time": "2024-06-01T04:16:22.308Z"
   },
   {
    "duration": 1282,
    "start_time": "2024-06-01T04:17:12.774Z"
   },
   {
    "duration": 35,
    "start_time": "2024-06-01T04:20:49.583Z"
   },
   {
    "duration": 116,
    "start_time": "2024-06-01T04:21:46.123Z"
   },
   {
    "duration": 5204,
    "start_time": "2024-06-02T00:11:56.414Z"
   },
   {
    "duration": 396,
    "start_time": "2024-06-02T00:12:01.621Z"
   },
   {
    "duration": 5,
    "start_time": "2024-06-02T00:12:02.019Z"
   },
   {
    "duration": 20,
    "start_time": "2024-06-02T00:12:02.029Z"
   },
   {
    "duration": 17,
    "start_time": "2024-06-02T00:12:02.052Z"
   },
   {
    "duration": 8,
    "start_time": "2024-06-02T00:12:02.072Z"
   },
   {
    "duration": 53,
    "start_time": "2024-06-02T00:12:02.085Z"
   },
   {
    "duration": 16,
    "start_time": "2024-06-02T00:12:02.141Z"
   },
   {
    "duration": 19,
    "start_time": "2024-06-02T00:12:02.160Z"
   },
   {
    "duration": 48,
    "start_time": "2024-06-02T00:12:02.185Z"
   },
   {
    "duration": 26,
    "start_time": "2024-06-02T00:12:02.237Z"
   },
   {
    "duration": 11,
    "start_time": "2024-06-02T00:12:02.266Z"
   },
   {
    "duration": 76,
    "start_time": "2024-06-02T00:12:02.281Z"
   },
   {
    "duration": 48,
    "start_time": "2024-06-02T00:12:02.361Z"
   },
   {
    "duration": 37,
    "start_time": "2024-06-02T00:12:02.412Z"
   },
   {
    "duration": 10,
    "start_time": "2024-06-02T00:12:02.453Z"
   },
   {
    "duration": 66,
    "start_time": "2024-06-02T00:12:02.467Z"
   },
   {
    "duration": 23,
    "start_time": "2024-06-02T00:12:02.536Z"
   },
   {
    "duration": 21,
    "start_time": "2024-06-02T00:12:02.562Z"
   },
   {
    "duration": 13,
    "start_time": "2024-06-02T00:12:02.586Z"
   },
   {
    "duration": 35,
    "start_time": "2024-06-02T00:12:02.634Z"
   },
   {
    "duration": 3,
    "start_time": "2024-06-02T00:12:02.672Z"
   },
   {
    "duration": 13,
    "start_time": "2024-06-02T00:12:02.679Z"
   },
   {
    "duration": 66,
    "start_time": "2024-06-02T00:12:02.694Z"
   },
   {
    "duration": 28,
    "start_time": "2024-06-02T00:12:02.763Z"
   },
   {
    "duration": 55,
    "start_time": "2024-06-02T00:12:02.797Z"
   },
   {
    "duration": 21,
    "start_time": "2024-06-02T00:12:02.856Z"
   },
   {
    "duration": 54,
    "start_time": "2024-06-02T00:12:02.885Z"
   },
   {
    "duration": 30,
    "start_time": "2024-06-02T00:12:02.942Z"
   },
   {
    "duration": 64,
    "start_time": "2024-06-02T00:12:02.975Z"
   },
   {
    "duration": 34,
    "start_time": "2024-06-02T00:12:03.042Z"
   },
   {
    "duration": 370,
    "start_time": "2024-06-02T00:12:03.079Z"
   },
   {
    "duration": 381,
    "start_time": "2024-06-02T00:12:03.452Z"
   },
   {
    "duration": 11,
    "start_time": "2024-06-02T00:12:03.837Z"
   },
   {
    "duration": 268,
    "start_time": "2024-06-02T00:12:03.850Z"
   },
   {
    "duration": 318,
    "start_time": "2024-06-02T00:12:04.122Z"
   },
   {
    "duration": 239,
    "start_time": "2024-06-02T00:12:04.443Z"
   },
   {
    "duration": 12,
    "start_time": "2024-06-02T00:12:04.685Z"
   },
   {
    "duration": 1302,
    "start_time": "2024-06-02T00:12:04.700Z"
   },
   {
    "duration": 54,
    "start_time": "2024-06-02T00:18:06.148Z"
   },
   {
    "duration": 27,
    "start_time": "2024-06-02T00:18:30.818Z"
   },
   {
    "duration": 1283,
    "start_time": "2024-06-02T00:18:36.968Z"
   },
   {
    "duration": 278,
    "start_time": "2024-06-02T00:18:38.255Z"
   },
   {
    "duration": 5,
    "start_time": "2024-06-02T00:18:38.538Z"
   },
   {
    "duration": 16,
    "start_time": "2024-06-02T00:18:38.548Z"
   },
   {
    "duration": 17,
    "start_time": "2024-06-02T00:18:38.568Z"
   },
   {
    "duration": 45,
    "start_time": "2024-06-02T00:18:38.588Z"
   },
   {
    "duration": 17,
    "start_time": "2024-06-02T00:18:38.636Z"
   },
   {
    "duration": 25,
    "start_time": "2024-06-02T00:18:38.658Z"
   },
   {
    "duration": 52,
    "start_time": "2024-06-02T00:18:38.687Z"
   },
   {
    "duration": 9,
    "start_time": "2024-06-02T00:18:38.746Z"
   },
   {
    "duration": 26,
    "start_time": "2024-06-02T00:18:38.758Z"
   },
   {
    "duration": 49,
    "start_time": "2024-06-02T00:18:38.787Z"
   },
   {
    "duration": 44,
    "start_time": "2024-06-02T00:18:38.838Z"
   },
   {
    "duration": 79,
    "start_time": "2024-06-02T00:18:38.885Z"
   },
   {
    "duration": 20,
    "start_time": "2024-06-02T00:18:38.967Z"
   },
   {
    "duration": 10,
    "start_time": "2024-06-02T00:18:38.991Z"
   },
   {
    "duration": 53,
    "start_time": "2024-06-02T00:18:39.003Z"
   },
   {
    "duration": 23,
    "start_time": "2024-06-02T00:18:39.060Z"
   },
   {
    "duration": 54,
    "start_time": "2024-06-02T00:18:39.086Z"
   },
   {
    "duration": 13,
    "start_time": "2024-06-02T00:18:39.142Z"
   },
   {
    "duration": 37,
    "start_time": "2024-06-02T00:18:39.158Z"
   },
   {
    "duration": 4,
    "start_time": "2024-06-02T00:18:39.198Z"
   },
   {
    "duration": 12,
    "start_time": "2024-06-02T00:18:39.234Z"
   },
   {
    "duration": 30,
    "start_time": "2024-06-02T00:18:39.249Z"
   },
   {
    "duration": 57,
    "start_time": "2024-06-02T00:18:39.281Z"
   },
   {
    "duration": 26,
    "start_time": "2024-06-02T00:18:39.341Z"
   },
   {
    "duration": 18,
    "start_time": "2024-06-02T00:18:39.370Z"
   },
   {
    "duration": 54,
    "start_time": "2024-06-02T00:18:39.396Z"
   },
   {
    "duration": 28,
    "start_time": "2024-06-02T00:18:39.453Z"
   },
   {
    "duration": 70,
    "start_time": "2024-06-02T00:18:39.484Z"
   },
   {
    "duration": 32,
    "start_time": "2024-06-02T00:18:39.557Z"
   },
   {
    "duration": 372,
    "start_time": "2024-06-02T00:18:39.591Z"
   },
   {
    "duration": 369,
    "start_time": "2024-06-02T00:18:39.966Z"
   },
   {
    "duration": 12,
    "start_time": "2024-06-02T00:18:40.338Z"
   },
   {
    "duration": 309,
    "start_time": "2024-06-02T00:18:40.353Z"
   },
   {
    "duration": 259,
    "start_time": "2024-06-02T00:18:40.665Z"
   },
   {
    "duration": 221,
    "start_time": "2024-06-02T00:18:40.935Z"
   },
   {
    "duration": 12,
    "start_time": "2024-06-02T00:18:41.159Z"
   },
   {
    "duration": 26,
    "start_time": "2024-06-02T00:18:41.174Z"
   }
  ],
  "colab": {
   "provenance": []
  },
  "kernelspec": {
   "display_name": "Python 3 (ipykernel)",
   "language": "python",
   "name": "python3"
  },
  "language_info": {
   "codemirror_mode": {
    "name": "ipython",
    "version": 3
   },
   "file_extension": ".py",
   "mimetype": "text/x-python",
   "name": "python",
   "nbconvert_exporter": "python",
   "pygments_lexer": "ipython3",
   "version": "3.12.3"
  },
  "toc": {
   "base_numbering": 1,
   "nav_menu": {},
   "number_sections": true,
   "sideBar": true,
   "skip_h1_title": false,
   "title_cell": "Table of Contents",
   "title_sidebar": "Contents",
   "toc_cell": false,
   "toc_position": {
    "height": "calc(100% - 180px)",
    "left": "10px",
    "top": "150px",
    "width": "368px"
   },
   "toc_section_display": true,
   "toc_window_display": true
  }
 },
 "nbformat": 4,
 "nbformat_minor": 1
}
